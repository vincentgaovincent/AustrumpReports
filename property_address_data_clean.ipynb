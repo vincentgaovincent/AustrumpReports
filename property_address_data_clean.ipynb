{
 "cells": [
  {
   "cell_type": "code",
   "execution_count": 74,
   "metadata": {},
   "outputs": [],
   "source": [
    "import pandas as pd\n",
    "from pathlib import Path\n",
    "\n",
    "pd.options.display.max_colwidth = 600  # Set Full Display"
   ]
  },
  {
   "cell_type": "markdown",
   "metadata": {},
   "source": [
    "# Import Data and Contact DataFrame: df_combined"
   ]
  },
  {
   "cell_type": "markdown",
   "metadata": {},
   "source": [
    "### Read Part I:"
   ]
  },
  {
   "cell_type": "code",
   "execution_count": 75,
   "metadata": {},
   "outputs": [
    {
     "name": "stdout",
     "output_type": "stream",
     "text": [
      "<class 'pandas.core.frame.DataFrame'>\n",
      "RangeIndex: 219063 entries, 0 to 219062\n",
      "Data columns (total 7 columns):\n",
      "flat_number         73498 non-null object\n",
      "number_first        219063 non-null object\n",
      "number_last         18020 non-null object\n",
      "street_name         219063 non-null object\n",
      "street_type_code    217784 non-null object\n",
      "locality_name       219063 non-null object\n",
      "postcode            219063 non-null int64\n",
      "dtypes: int64(1), object(6)\n",
      "memory usage: 11.7+ MB\n",
      "None\n"
     ]
    },
    {
     "data": {
      "text/html": [
       "<div>\n",
       "<style scoped>\n",
       "    .dataframe tbody tr th:only-of-type {\n",
       "        vertical-align: middle;\n",
       "    }\n",
       "\n",
       "    .dataframe tbody tr th {\n",
       "        vertical-align: top;\n",
       "    }\n",
       "\n",
       "    .dataframe thead th {\n",
       "        text-align: right;\n",
       "    }\n",
       "</style>\n",
       "<table border=\"1\" class=\"dataframe\">\n",
       "  <thead>\n",
       "    <tr style=\"text-align: right;\">\n",
       "      <th></th>\n",
       "      <th>flat_number</th>\n",
       "      <th>number_first</th>\n",
       "      <th>number_last</th>\n",
       "      <th>street_name</th>\n",
       "      <th>street_type_code</th>\n",
       "      <th>locality_name</th>\n",
       "      <th>postcode</th>\n",
       "    </tr>\n",
       "  </thead>\n",
       "  <tbody>\n",
       "    <tr>\n",
       "      <td>26391</td>\n",
       "      <td>NaN</td>\n",
       "      <td>33</td>\n",
       "      <td>NaN</td>\n",
       "      <td>THE RIDGE</td>\n",
       "      <td>NaN</td>\n",
       "      <td>BLACKBURN</td>\n",
       "      <td>3130</td>\n",
       "    </tr>\n",
       "  </tbody>\n",
       "</table>\n",
       "</div>"
      ],
      "text/plain": [
       "      flat_number number_first number_last street_name street_type_code  \\\n",
       "26391         NaN           33         NaN   THE RIDGE              NaN   \n",
       "\n",
       "      locality_name  postcode  \n",
       "26391     BLACKBURN      3130  "
      ]
     },
     "execution_count": 75,
     "metadata": {},
     "output_type": "execute_result"
    }
   ],
   "source": [
    "# use r -- to avoid unicode error !\n",
    "file_path1=Path(r'C:\\Users\\LEON\\test\\domain\\address_data.csv')\n",
    "df1 = pd.read_csv(file_path1)\n",
    "print(df1.info())\n",
    "df1.sample(1)"
   ]
  },
  {
   "cell_type": "code",
   "execution_count": 76,
   "metadata": {},
   "outputs": [
    {
     "data": {
      "text/plain": [
       "RangeIndex(start=0, stop=219063, step=1)"
      ]
     },
     "execution_count": 76,
     "metadata": {},
     "output_type": "execute_result"
    }
   ],
   "source": [
    "df1.index"
   ]
  },
  {
   "cell_type": "code",
   "execution_count": 77,
   "metadata": {},
   "outputs": [
    {
     "data": {
      "text/html": [
       "<div>\n",
       "<style scoped>\n",
       "    .dataframe tbody tr th:only-of-type {\n",
       "        vertical-align: middle;\n",
       "    }\n",
       "\n",
       "    .dataframe tbody tr th {\n",
       "        vertical-align: top;\n",
       "    }\n",
       "\n",
       "    .dataframe thead th {\n",
       "        text-align: right;\n",
       "    }\n",
       "</style>\n",
       "<table border=\"1\" class=\"dataframe\">\n",
       "  <thead>\n",
       "    <tr style=\"text-align: right;\">\n",
       "      <th></th>\n",
       "      <th>flat_number</th>\n",
       "      <th>number_first</th>\n",
       "      <th>number_last</th>\n",
       "      <th>street_name</th>\n",
       "      <th>street_type_code</th>\n",
       "      <th>locality_name</th>\n",
       "      <th>postcode</th>\n",
       "    </tr>\n",
       "  </thead>\n",
       "  <tbody>\n",
       "    <tr>\n",
       "      <td>0</td>\n",
       "      <td>NaN</td>\n",
       "      <td>166</td>\n",
       "      <td>NaN</td>\n",
       "      <td>DONCASTER</td>\n",
       "      <td>ROAD</td>\n",
       "      <td>BALWYN NORTH</td>\n",
       "      <td>3104</td>\n",
       "    </tr>\n",
       "    <tr>\n",
       "      <td>1</td>\n",
       "      <td>NaN</td>\n",
       "      <td>17</td>\n",
       "      <td>NaN</td>\n",
       "      <td>OSBURN</td>\n",
       "      <td>AVENUE</td>\n",
       "      <td>BALWYN NORTH</td>\n",
       "      <td>3104</td>\n",
       "    </tr>\n",
       "    <tr>\n",
       "      <td>2</td>\n",
       "      <td>NaN</td>\n",
       "      <td>23</td>\n",
       "      <td>NaN</td>\n",
       "      <td>PANORAMIC</td>\n",
       "      <td>ROAD</td>\n",
       "      <td>BALWYN NORTH</td>\n",
       "      <td>3104</td>\n",
       "    </tr>\n",
       "    <tr>\n",
       "      <td>3</td>\n",
       "      <td>NaN</td>\n",
       "      <td>4</td>\n",
       "      <td>NaN</td>\n",
       "      <td>PANORAMIC</td>\n",
       "      <td>ROAD</td>\n",
       "      <td>BALWYN NORTH</td>\n",
       "      <td>3104</td>\n",
       "    </tr>\n",
       "    <tr>\n",
       "      <td>4</td>\n",
       "      <td>NaN</td>\n",
       "      <td>10</td>\n",
       "      <td>NaN</td>\n",
       "      <td>ROBERT</td>\n",
       "      <td>STREET</td>\n",
       "      <td>BALWYN NORTH</td>\n",
       "      <td>3104</td>\n",
       "    </tr>\n",
       "    <tr>\n",
       "      <td>...</td>\n",
       "      <td>...</td>\n",
       "      <td>...</td>\n",
       "      <td>...</td>\n",
       "      <td>...</td>\n",
       "      <td>...</td>\n",
       "      <td>...</td>\n",
       "      <td>...</td>\n",
       "    </tr>\n",
       "    <tr>\n",
       "      <td>219058</td>\n",
       "      <td>NaN</td>\n",
       "      <td>35</td>\n",
       "      <td>NaN</td>\n",
       "      <td>CARROL</td>\n",
       "      <td>GROVE</td>\n",
       "      <td>MOUNT WAVERLEY</td>\n",
       "      <td>3149</td>\n",
       "    </tr>\n",
       "    <tr>\n",
       "      <td>219059</td>\n",
       "      <td>NaN</td>\n",
       "      <td>17</td>\n",
       "      <td>NaN</td>\n",
       "      <td>HIGHCLERE</td>\n",
       "      <td>AVENUE</td>\n",
       "      <td>MOUNT WAVERLEY</td>\n",
       "      <td>3149</td>\n",
       "    </tr>\n",
       "    <tr>\n",
       "      <td>219060</td>\n",
       "      <td>NaN</td>\n",
       "      <td>11</td>\n",
       "      <td>NaN</td>\n",
       "      <td>BOND</td>\n",
       "      <td>STREET</td>\n",
       "      <td>MOUNT WAVERLEY</td>\n",
       "      <td>3149</td>\n",
       "    </tr>\n",
       "    <tr>\n",
       "      <td>219061</td>\n",
       "      <td>NaN</td>\n",
       "      <td>1</td>\n",
       "      <td>NaN</td>\n",
       "      <td>CURTIS</td>\n",
       "      <td>AVENUE</td>\n",
       "      <td>MOUNT WAVERLEY</td>\n",
       "      <td>3149</td>\n",
       "    </tr>\n",
       "    <tr>\n",
       "      <td>219062</td>\n",
       "      <td>49</td>\n",
       "      <td>110</td>\n",
       "      <td>NaN</td>\n",
       "      <td>KING</td>\n",
       "      <td>STREET</td>\n",
       "      <td>DONCASTER EAST</td>\n",
       "      <td>3109</td>\n",
       "    </tr>\n",
       "  </tbody>\n",
       "</table>\n",
       "<p>219063 rows × 7 columns</p>\n",
       "</div>"
      ],
      "text/plain": [
       "       flat_number number_first number_last street_name street_type_code  \\\n",
       "0              NaN          166         NaN   DONCASTER             ROAD   \n",
       "1              NaN           17         NaN      OSBURN           AVENUE   \n",
       "2              NaN           23         NaN   PANORAMIC             ROAD   \n",
       "3              NaN            4         NaN   PANORAMIC             ROAD   \n",
       "4              NaN           10         NaN      ROBERT           STREET   \n",
       "...            ...          ...         ...         ...              ...   \n",
       "219058         NaN           35         NaN      CARROL            GROVE   \n",
       "219059         NaN           17         NaN   HIGHCLERE           AVENUE   \n",
       "219060         NaN           11         NaN        BOND           STREET   \n",
       "219061         NaN            1         NaN      CURTIS           AVENUE   \n",
       "219062          49          110         NaN        KING           STREET   \n",
       "\n",
       "         locality_name  postcode  \n",
       "0         BALWYN NORTH      3104  \n",
       "1         BALWYN NORTH      3104  \n",
       "2         BALWYN NORTH      3104  \n",
       "3         BALWYN NORTH      3104  \n",
       "4         BALWYN NORTH      3104  \n",
       "...                ...       ...  \n",
       "219058  MOUNT WAVERLEY      3149  \n",
       "219059  MOUNT WAVERLEY      3149  \n",
       "219060  MOUNT WAVERLEY      3149  \n",
       "219061  MOUNT WAVERLEY      3149  \n",
       "219062  DONCASTER EAST      3109  \n",
       "\n",
       "[219063 rows x 7 columns]"
      ]
     },
     "execution_count": 77,
     "metadata": {},
     "output_type": "execute_result"
    }
   ],
   "source": [
    "df1.reset_index(drop=True)"
   ]
  },
  {
   "cell_type": "code",
   "execution_count": 78,
   "metadata": {},
   "outputs": [
    {
     "data": {
      "text/plain": [
       "RangeIndex(start=0, stop=219063, step=1)"
      ]
     },
     "execution_count": 78,
     "metadata": {},
     "output_type": "execute_result"
    }
   ],
   "source": [
    "df1.index"
   ]
  },
  {
   "cell_type": "markdown",
   "metadata": {},
   "source": [
    "### Read Part II:"
   ]
  },
  {
   "cell_type": "markdown",
   "metadata": {},
   "source": [
    "非常注意：一定要rename,不然出现14个而不是7个列"
   ]
  },
  {
   "cell_type": "code",
   "execution_count": 79,
   "metadata": {},
   "outputs": [
    {
     "name": "stdout",
     "output_type": "stream",
     "text": [
      "<class 'pandas.core.frame.DataFrame'>\n",
      "RangeIndex: 46340 entries, 0 to 46339\n",
      "Data columns (total 7 columns):\n",
      "flat_number         19545 non-null object\n",
      "number_first        46339 non-null object\n",
      "number_last         4187 non-null object\n",
      "street_name         46340 non-null object\n",
      "street_type_code    46127 non-null object\n",
      "locality_name       46340 non-null object\n",
      "postcode            46340 non-null int64\n",
      "dtypes: int64(1), object(6)\n",
      "memory usage: 2.5+ MB\n",
      "None\n"
     ]
    },
    {
     "data": {
      "text/html": [
       "<div>\n",
       "<style scoped>\n",
       "    .dataframe tbody tr th:only-of-type {\n",
       "        vertical-align: middle;\n",
       "    }\n",
       "\n",
       "    .dataframe tbody tr th {\n",
       "        vertical-align: top;\n",
       "    }\n",
       "\n",
       "    .dataframe thead th {\n",
       "        text-align: right;\n",
       "    }\n",
       "</style>\n",
       "<table border=\"1\" class=\"dataframe\">\n",
       "  <thead>\n",
       "    <tr style=\"text-align: right;\">\n",
       "      <th></th>\n",
       "      <th>flat_number</th>\n",
       "      <th>number_first</th>\n",
       "      <th>number_last</th>\n",
       "      <th>street_name</th>\n",
       "      <th>street_type_code</th>\n",
       "      <th>locality_name</th>\n",
       "      <th>postcode</th>\n",
       "    </tr>\n",
       "  </thead>\n",
       "  <tbody>\n",
       "    <tr>\n",
       "      <td>41110</td>\n",
       "      <td>3</td>\n",
       "      <td>14</td>\n",
       "      <td>NaN</td>\n",
       "      <td>OAKES</td>\n",
       "      <td>AVENUE</td>\n",
       "      <td>CLAYTON SOUTH</td>\n",
       "      <td>3169</td>\n",
       "    </tr>\n",
       "  </tbody>\n",
       "</table>\n",
       "</div>"
      ],
      "text/plain": [
       "      flat_number number_first number_last street_name street_type_code  \\\n",
       "41110           3           14         NaN       OAKES           AVENUE   \n",
       "\n",
       "       locality_name  postcode  \n",
       "41110  CLAYTON SOUTH      3169  "
      ]
     },
     "execution_count": 79,
     "metadata": {},
     "output_type": "execute_result"
    }
   ],
   "source": [
    "# use r -- to avoid unicode error !\n",
    "file_path2=Path(r'C:\\Users\\LEON\\test\\domain\\address_data_2.csv')\n",
    "df2 = pd.read_csv(file_path2,header=None)\n",
    "df2.columns = [\"flat_number\",\"number_first\",\"number_last\",\"street_name\",\"street_type_code\",\"locality_name\",\"postcode\"]\n",
    "print(df2.info())\n",
    "df2.sample(1)"
   ]
  },
  {
   "cell_type": "markdown",
   "metadata": {},
   "source": [
    "## Concat DataFrame:"
   ]
  },
  {
   "cell_type": "code",
   "execution_count": 80,
   "metadata": {},
   "outputs": [
    {
     "data": {
      "text/html": [
       "<div>\n",
       "<style scoped>\n",
       "    .dataframe tbody tr th:only-of-type {\n",
       "        vertical-align: middle;\n",
       "    }\n",
       "\n",
       "    .dataframe tbody tr th {\n",
       "        vertical-align: top;\n",
       "    }\n",
       "\n",
       "    .dataframe thead th {\n",
       "        text-align: right;\n",
       "    }\n",
       "</style>\n",
       "<table border=\"1\" class=\"dataframe\">\n",
       "  <thead>\n",
       "    <tr style=\"text-align: right;\">\n",
       "      <th></th>\n",
       "      <th>flat_number</th>\n",
       "      <th>number_first</th>\n",
       "      <th>number_last</th>\n",
       "      <th>street_name</th>\n",
       "      <th>street_type_code</th>\n",
       "      <th>locality_name</th>\n",
       "      <th>postcode</th>\n",
       "    </tr>\n",
       "  </thead>\n",
       "  <tbody>\n",
       "    <tr>\n",
       "      <td>0</td>\n",
       "      <td>NaN</td>\n",
       "      <td>166</td>\n",
       "      <td>NaN</td>\n",
       "      <td>DONCASTER</td>\n",
       "      <td>ROAD</td>\n",
       "      <td>BALWYN NORTH</td>\n",
       "      <td>3104</td>\n",
       "    </tr>\n",
       "    <tr>\n",
       "      <td>1</td>\n",
       "      <td>NaN</td>\n",
       "      <td>17</td>\n",
       "      <td>NaN</td>\n",
       "      <td>OSBURN</td>\n",
       "      <td>AVENUE</td>\n",
       "      <td>BALWYN NORTH</td>\n",
       "      <td>3104</td>\n",
       "    </tr>\n",
       "    <tr>\n",
       "      <td>2</td>\n",
       "      <td>NaN</td>\n",
       "      <td>23</td>\n",
       "      <td>NaN</td>\n",
       "      <td>PANORAMIC</td>\n",
       "      <td>ROAD</td>\n",
       "      <td>BALWYN NORTH</td>\n",
       "      <td>3104</td>\n",
       "    </tr>\n",
       "  </tbody>\n",
       "</table>\n",
       "</div>"
      ],
      "text/plain": [
       "  flat_number number_first number_last street_name street_type_code  \\\n",
       "0         NaN          166         NaN   DONCASTER             ROAD   \n",
       "1         NaN           17         NaN      OSBURN           AVENUE   \n",
       "2         NaN           23         NaN   PANORAMIC             ROAD   \n",
       "\n",
       "  locality_name  postcode  \n",
       "0  BALWYN NORTH      3104  \n",
       "1  BALWYN NORTH      3104  \n",
       "2  BALWYN NORTH      3104  "
      ]
     },
     "metadata": {},
     "output_type": "display_data"
    },
    {
     "data": {
      "text/html": [
       "<div>\n",
       "<style scoped>\n",
       "    .dataframe tbody tr th:only-of-type {\n",
       "        vertical-align: middle;\n",
       "    }\n",
       "\n",
       "    .dataframe tbody tr th {\n",
       "        vertical-align: top;\n",
       "    }\n",
       "\n",
       "    .dataframe thead th {\n",
       "        text-align: right;\n",
       "    }\n",
       "</style>\n",
       "<table border=\"1\" class=\"dataframe\">\n",
       "  <thead>\n",
       "    <tr style=\"text-align: right;\">\n",
       "      <th></th>\n",
       "      <th>flat_number</th>\n",
       "      <th>number_first</th>\n",
       "      <th>number_last</th>\n",
       "      <th>street_name</th>\n",
       "      <th>street_type_code</th>\n",
       "      <th>locality_name</th>\n",
       "      <th>postcode</th>\n",
       "    </tr>\n",
       "  </thead>\n",
       "  <tbody>\n",
       "    <tr>\n",
       "      <td>265400</td>\n",
       "      <td>NaN</td>\n",
       "      <td>85</td>\n",
       "      <td>NaN</td>\n",
       "      <td>BLACKBURN</td>\n",
       "      <td>ROAD</td>\n",
       "      <td>DONCASTER EAST</td>\n",
       "      <td>3109</td>\n",
       "    </tr>\n",
       "    <tr>\n",
       "      <td>265401</td>\n",
       "      <td>NaN</td>\n",
       "      <td>24</td>\n",
       "      <td>NaN</td>\n",
       "      <td>HIGHLAND</td>\n",
       "      <td>BOULEVARD</td>\n",
       "      <td>RINGWOOD</td>\n",
       "      <td>3134</td>\n",
       "    </tr>\n",
       "    <tr>\n",
       "      <td>265402</td>\n",
       "      <td>NaN</td>\n",
       "      <td>9</td>\n",
       "      <td>NaN</td>\n",
       "      <td>RESERVE</td>\n",
       "      <td>AVENUE</td>\n",
       "      <td>MITCHAM</td>\n",
       "      <td>3132</td>\n",
       "    </tr>\n",
       "  </tbody>\n",
       "</table>\n",
       "</div>"
      ],
      "text/plain": [
       "       flat_number number_first number_last street_name street_type_code  \\\n",
       "265400         NaN           85         NaN   BLACKBURN             ROAD   \n",
       "265401         NaN           24         NaN    HIGHLAND        BOULEVARD   \n",
       "265402         NaN            9         NaN     RESERVE           AVENUE   \n",
       "\n",
       "         locality_name  postcode  \n",
       "265400  DONCASTER EAST      3109  \n",
       "265401        RINGWOOD      3134  \n",
       "265402         MITCHAM      3132  "
      ]
     },
     "metadata": {},
     "output_type": "display_data"
    }
   ],
   "source": [
    "df1_2=pd.concat([df1,df2])\n",
    "df_combined=df1_2.reset_index(drop=True)\n",
    "display(df_combined.head(3))\n",
    "display(df_combined.tail(3))"
   ]
  },
  {
   "cell_type": "markdown",
   "metadata": {},
   "source": [
    "# Check Data Quality:"
   ]
  },
  {
   "cell_type": "markdown",
   "metadata": {},
   "source": [
    "## Check Null:"
   ]
  },
  {
   "cell_type": "code",
   "execution_count": 81,
   "metadata": {},
   "outputs": [
    {
     "name": "stdout",
     "output_type": "stream",
     "text": [
      "<class 'pandas.core.frame.DataFrame'>\n",
      "RangeIndex: 265403 entries, 0 to 265402\n",
      "Data columns (total 7 columns):\n",
      "flat_number         93043 non-null object\n",
      "number_first        265402 non-null object\n",
      "number_last         22207 non-null object\n",
      "street_name         265403 non-null object\n",
      "street_type_code    263911 non-null object\n",
      "locality_name       265403 non-null object\n",
      "postcode            265403 non-null int64\n",
      "dtypes: int64(1), object(6)\n",
      "memory usage: 14.2+ MB\n",
      "None\n"
     ]
    }
   ],
   "source": [
    "print(df_combined.info())"
   ]
  },
  {
   "cell_type": "markdown",
   "metadata": {},
   "source": [
    "PS: flat number, number first / last -- ie 3/100-105 xxx st\n",
    "\n",
    "PS: 注意，st_name = locality_name (surburb),但是 不等于 street_type_code !!"
   ]
  },
  {
   "cell_type": "code",
   "execution_count": 82,
   "metadata": {},
   "outputs": [
    {
     "data": {
      "text/plain": [
       "1492"
      ]
     },
     "execution_count": 82,
     "metadata": {},
     "output_type": "execute_result"
    }
   ],
   "source": [
    "df_combined[\"street_type_code\"].isnull().sum()"
   ]
  },
  {
   "cell_type": "code",
   "execution_count": 83,
   "metadata": {},
   "outputs": [],
   "source": [
    "df_combined=df_combined.fillna(\"\")"
   ]
  },
  {
   "cell_type": "code",
   "execution_count": 84,
   "metadata": {},
   "outputs": [
    {
     "name": "stdout",
     "output_type": "stream",
     "text": [
      "<class 'pandas.core.frame.DataFrame'>\n",
      "RangeIndex: 265403 entries, 0 to 265402\n",
      "Data columns (total 7 columns):\n",
      "flat_number         265403 non-null object\n",
      "number_first        265403 non-null object\n",
      "number_last         265403 non-null object\n",
      "street_name         265403 non-null object\n",
      "street_type_code    265403 non-null object\n",
      "locality_name       265403 non-null object\n",
      "postcode            265403 non-null int64\n",
      "dtypes: int64(1), object(6)\n",
      "memory usage: 14.2+ MB\n",
      "None\n"
     ]
    }
   ],
   "source": [
    "print(df_combined.info())"
   ]
  },
  {
   "cell_type": "markdown",
   "metadata": {},
   "source": [
    "## Check Duplicates I:"
   ]
  },
  {
   "cell_type": "code",
   "execution_count": 85,
   "metadata": {},
   "outputs": [
    {
     "data": {
      "text/plain": [
       "800"
      ]
     },
     "execution_count": 85,
     "metadata": {},
     "output_type": "execute_result"
    }
   ],
   "source": [
    "df_combined.duplicated().sum()"
   ]
  },
  {
   "cell_type": "code",
   "execution_count": 86,
   "metadata": {},
   "outputs": [
    {
     "data": {
      "text/html": [
       "<div>\n",
       "<style scoped>\n",
       "    .dataframe tbody tr th:only-of-type {\n",
       "        vertical-align: middle;\n",
       "    }\n",
       "\n",
       "    .dataframe tbody tr th {\n",
       "        vertical-align: top;\n",
       "    }\n",
       "\n",
       "    .dataframe thead th {\n",
       "        text-align: right;\n",
       "    }\n",
       "</style>\n",
       "<table border=\"1\" class=\"dataframe\">\n",
       "  <thead>\n",
       "    <tr style=\"text-align: right;\">\n",
       "      <th></th>\n",
       "      <th>flat_number</th>\n",
       "      <th>number_first</th>\n",
       "      <th>number_last</th>\n",
       "      <th>street_name</th>\n",
       "      <th>street_type_code</th>\n",
       "      <th>locality_name</th>\n",
       "      <th>postcode</th>\n",
       "    </tr>\n",
       "  </thead>\n",
       "  <tbody>\n",
       "    <tr>\n",
       "      <td>138137</td>\n",
       "      <td>64</td>\n",
       "      <td>175</td>\n",
       "      <td></td>\n",
       "      <td>MAROONDAH</td>\n",
       "      <td>HIGHWAY</td>\n",
       "      <td>RINGWOOD</td>\n",
       "      <td>3134</td>\n",
       "    </tr>\n",
       "    <tr>\n",
       "      <td>251483</td>\n",
       "      <td></td>\n",
       "      <td>230A</td>\n",
       "      <td></td>\n",
       "      <td>BLACKBURN</td>\n",
       "      <td>ROAD</td>\n",
       "      <td>GLEN WAVERLEY</td>\n",
       "      <td>3150</td>\n",
       "    </tr>\n",
       "    <tr>\n",
       "      <td>138861</td>\n",
       "      <td>4</td>\n",
       "      <td>12</td>\n",
       "      <td></td>\n",
       "      <td>MAROONDAH</td>\n",
       "      <td>HIGHWAY</td>\n",
       "      <td>RINGWOOD</td>\n",
       "      <td>3134</td>\n",
       "    </tr>\n",
       "    <tr>\n",
       "      <td>223421</td>\n",
       "      <td>5</td>\n",
       "      <td>315</td>\n",
       "      <td>319</td>\n",
       "      <td>HUNTINGDALE</td>\n",
       "      <td>ROAD</td>\n",
       "      <td>CHADSTONE</td>\n",
       "      <td>3148</td>\n",
       "    </tr>\n",
       "  </tbody>\n",
       "</table>\n",
       "</div>"
      ],
      "text/plain": [
       "       flat_number number_first number_last  street_name street_type_code  \\\n",
       "138137          64          175                MAROONDAH          HIGHWAY   \n",
       "251483                     230A                BLACKBURN             ROAD   \n",
       "138861           4           12                MAROONDAH          HIGHWAY   \n",
       "223421           5          315         319  HUNTINGDALE             ROAD   \n",
       "\n",
       "        locality_name  postcode  \n",
       "138137       RINGWOOD      3134  \n",
       "251483  GLEN WAVERLEY      3150  \n",
       "138861       RINGWOOD      3134  \n",
       "223421      CHADSTONE      3148  "
      ]
     },
     "execution_count": 86,
     "metadata": {},
     "output_type": "execute_result"
    }
   ],
   "source": [
    "df_combined[df_combined.duplicated()].sample(4)"
   ]
  },
  {
   "cell_type": "markdown",
   "metadata": {},
   "source": [
    "## Check Data Type and Regex:"
   ]
  },
  {
   "cell_type": "markdown",
   "metadata": {},
   "source": [
    "### 1. Check Number:"
   ]
  },
  {
   "cell_type": "markdown",
   "metadata": {},
   "source": [
    "property_search_url = \"https://api2.aupropertyreport.com/api/property/search?q=15+15A+Ian+Grove+Burwood+vic+3125\""
   ]
  },
  {
   "cell_type": "code",
   "execution_count": 87,
   "metadata": {},
   "outputs": [
    {
     "data": {
      "text/plain": [
       "3930"
      ]
     },
     "execution_count": 87,
     "metadata": {},
     "output_type": "execute_result"
    }
   ],
   "source": [
    "df_combined['flat_number'].str.contains('\\D').sum()"
   ]
  },
  {
   "cell_type": "code",
   "execution_count": 88,
   "metadata": {},
   "outputs": [
    {
     "data": {
      "text/html": [
       "<div>\n",
       "<style scoped>\n",
       "    .dataframe tbody tr th:only-of-type {\n",
       "        vertical-align: middle;\n",
       "    }\n",
       "\n",
       "    .dataframe tbody tr th {\n",
       "        vertical-align: top;\n",
       "    }\n",
       "\n",
       "    .dataframe thead th {\n",
       "        text-align: right;\n",
       "    }\n",
       "</style>\n",
       "<table border=\"1\" class=\"dataframe\">\n",
       "  <thead>\n",
       "    <tr style=\"text-align: right;\">\n",
       "      <th></th>\n",
       "      <th>flat_number</th>\n",
       "      <th>number_first</th>\n",
       "      <th>number_last</th>\n",
       "      <th>street_name</th>\n",
       "      <th>street_type_code</th>\n",
       "      <th>locality_name</th>\n",
       "      <th>postcode</th>\n",
       "    </tr>\n",
       "  </thead>\n",
       "  <tbody>\n",
       "    <tr>\n",
       "      <td>142590</td>\n",
       "      <td>G6</td>\n",
       "      <td>5</td>\n",
       "      <td>7</td>\n",
       "      <td>DIXON</td>\n",
       "      <td>STREET</td>\n",
       "      <td>CLAYTON</td>\n",
       "      <td>3168</td>\n",
       "    </tr>\n",
       "    <tr>\n",
       "      <td>153347</td>\n",
       "      <td>312A</td>\n",
       "      <td>399</td>\n",
       "      <td></td>\n",
       "      <td>BURWOOD</td>\n",
       "      <td>HIGHWAY</td>\n",
       "      <td>BURWOOD</td>\n",
       "      <td>3125</td>\n",
       "    </tr>\n",
       "  </tbody>\n",
       "</table>\n",
       "</div>"
      ],
      "text/plain": [
       "       flat_number number_first number_last street_name street_type_code  \\\n",
       "142590          G6            5           7       DIXON           STREET   \n",
       "153347        312A          399                 BURWOOD          HIGHWAY   \n",
       "\n",
       "       locality_name  postcode  \n",
       "142590       CLAYTON      3168  \n",
       "153347       BURWOOD      3125  "
      ]
     },
     "execution_count": 88,
     "metadata": {},
     "output_type": "execute_result"
    }
   ],
   "source": [
    "df_combined[df_combined['flat_number'].str.contains('\\D')].sample(2)"
   ]
  },
  {
   "cell_type": "markdown",
   "metadata": {},
   "source": [
    "非常注意：24A/227-235 Springvale Road, Glen Waverley VIC 3150 是 Commercial !!"
   ]
  },
  {
   "cell_type": "code",
   "execution_count": 89,
   "metadata": {},
   "outputs": [
    {
     "data": {
      "text/plain": [
       "11571"
      ]
     },
     "execution_count": 89,
     "metadata": {},
     "output_type": "execute_result"
    }
   ],
   "source": [
    "df_combined['number_first'].str.contains('\\D').sum()"
   ]
  },
  {
   "cell_type": "code",
   "execution_count": 90,
   "metadata": {},
   "outputs": [
    {
     "data": {
      "text/html": [
       "<div>\n",
       "<style scoped>\n",
       "    .dataframe tbody tr th:only-of-type {\n",
       "        vertical-align: middle;\n",
       "    }\n",
       "\n",
       "    .dataframe tbody tr th {\n",
       "        vertical-align: top;\n",
       "    }\n",
       "\n",
       "    .dataframe thead th {\n",
       "        text-align: right;\n",
       "    }\n",
       "</style>\n",
       "<table border=\"1\" class=\"dataframe\">\n",
       "  <thead>\n",
       "    <tr style=\"text-align: right;\">\n",
       "      <th></th>\n",
       "      <th>flat_number</th>\n",
       "      <th>number_first</th>\n",
       "      <th>number_last</th>\n",
       "      <th>street_name</th>\n",
       "      <th>street_type_code</th>\n",
       "      <th>locality_name</th>\n",
       "      <th>postcode</th>\n",
       "    </tr>\n",
       "  </thead>\n",
       "  <tbody>\n",
       "    <tr>\n",
       "      <td>95130</td>\n",
       "      <td></td>\n",
       "      <td>574B</td>\n",
       "      <td></td>\n",
       "      <td>WHITEHORSE</td>\n",
       "      <td>ROAD</td>\n",
       "      <td>MITCHAM</td>\n",
       "      <td>3132</td>\n",
       "    </tr>\n",
       "    <tr>\n",
       "      <td>162496</td>\n",
       "      <td>308</td>\n",
       "      <td>1B</td>\n",
       "      <td></td>\n",
       "      <td>NELSON</td>\n",
       "      <td>STREET</td>\n",
       "      <td>RINGWOOD</td>\n",
       "      <td>3134</td>\n",
       "    </tr>\n",
       "  </tbody>\n",
       "</table>\n",
       "</div>"
      ],
      "text/plain": [
       "       flat_number number_first number_last street_name street_type_code  \\\n",
       "95130                      574B              WHITEHORSE             ROAD   \n",
       "162496         308           1B                  NELSON           STREET   \n",
       "\n",
       "       locality_name  postcode  \n",
       "95130        MITCHAM      3132  \n",
       "162496      RINGWOOD      3134  "
      ]
     },
     "execution_count": 90,
     "metadata": {},
     "output_type": "execute_result"
    }
   ],
   "source": [
    "df_combined[df_combined['number_first'].str.contains('\\D')].sample(2)"
   ]
  },
  {
   "cell_type": "code",
   "execution_count": 91,
   "metadata": {},
   "outputs": [
    {
     "data": {
      "text/plain": [
       "146"
      ]
     },
     "execution_count": 91,
     "metadata": {},
     "output_type": "execute_result"
    }
   ],
   "source": [
    "df_combined['number_last'].str.contains('\\D').sum()"
   ]
  },
  {
   "cell_type": "code",
   "execution_count": 92,
   "metadata": {},
   "outputs": [
    {
     "data": {
      "text/html": [
       "<div>\n",
       "<style scoped>\n",
       "    .dataframe tbody tr th:only-of-type {\n",
       "        vertical-align: middle;\n",
       "    }\n",
       "\n",
       "    .dataframe tbody tr th {\n",
       "        vertical-align: top;\n",
       "    }\n",
       "\n",
       "    .dataframe thead th {\n",
       "        text-align: right;\n",
       "    }\n",
       "</style>\n",
       "<table border=\"1\" class=\"dataframe\">\n",
       "  <thead>\n",
       "    <tr style=\"text-align: right;\">\n",
       "      <th></th>\n",
       "      <th>flat_number</th>\n",
       "      <th>number_first</th>\n",
       "      <th>number_last</th>\n",
       "      <th>street_name</th>\n",
       "      <th>street_type_code</th>\n",
       "      <th>locality_name</th>\n",
       "      <th>postcode</th>\n",
       "    </tr>\n",
       "  </thead>\n",
       "  <tbody>\n",
       "    <tr>\n",
       "      <td>129633</td>\n",
       "      <td></td>\n",
       "      <td>14A</td>\n",
       "      <td>14B</td>\n",
       "      <td>METROPOLITAN</td>\n",
       "      <td>AVENUE</td>\n",
       "      <td>NUNAWADING</td>\n",
       "      <td>3131</td>\n",
       "    </tr>\n",
       "    <tr>\n",
       "      <td>253223</td>\n",
       "      <td></td>\n",
       "      <td>1</td>\n",
       "      <td>1A</td>\n",
       "      <td>BANOOL</td>\n",
       "      <td>ROAD</td>\n",
       "      <td>SURREY HILLS</td>\n",
       "      <td>3127</td>\n",
       "    </tr>\n",
       "  </tbody>\n",
       "</table>\n",
       "</div>"
      ],
      "text/plain": [
       "       flat_number number_first number_last   street_name street_type_code  \\\n",
       "129633                      14A         14B  METROPOLITAN           AVENUE   \n",
       "253223                        1          1A        BANOOL             ROAD   \n",
       "\n",
       "       locality_name  postcode  \n",
       "129633    NUNAWADING      3131  \n",
       "253223  SURREY HILLS      3127  "
      ]
     },
     "execution_count": 92,
     "metadata": {},
     "output_type": "execute_result"
    }
   ],
   "source": [
    "df_combined[df_combined['number_last'].str.contains('\\D')].sample(2)"
   ]
  },
  {
   "cell_type": "markdown",
   "metadata": {},
   "source": [
    "### 2. Check Wrong Character: Regex"
   ]
  },
  {
   "cell_type": "code",
   "execution_count": 93,
   "metadata": {},
   "outputs": [
    {
     "data": {
      "text/plain": [
       "0"
      ]
     },
     "execution_count": 93,
     "metadata": {},
     "output_type": "execute_result"
    }
   ],
   "source": [
    "df_combined['street_name'].str.contains(r'\\(\\D+\\）|\\（\\D+\\)|\\(\\D+\\)|\\（\\D+\\）|\\*|\\。|\\||\\【|\\】|\\[|\\]|\\<\\S+>|\\*\\d+\\*|[\\u4e00-\\u9fff]').sum()"
   ]
  },
  {
   "cell_type": "code",
   "execution_count": 94,
   "metadata": {},
   "outputs": [
    {
     "data": {
      "text/plain": [
       "0"
      ]
     },
     "execution_count": 94,
     "metadata": {},
     "output_type": "execute_result"
    }
   ],
   "source": [
    "df_combined['street_type_code'].str.contains(r'\\(\\D+\\）|\\（\\D+\\)|\\(\\D+\\)|\\（\\D+\\）|\\*|\\。|\\||\\【|\\】|\\[|\\]|\\<\\S+>|\\*\\d+\\*|[\\u4e00-\\u9fff]').sum()"
   ]
  },
  {
   "cell_type": "code",
   "execution_count": 95,
   "metadata": {},
   "outputs": [
    {
     "data": {
      "text/plain": [
       "0"
      ]
     },
     "execution_count": 95,
     "metadata": {},
     "output_type": "execute_result"
    }
   ],
   "source": [
    "df_combined['locality_name'].str.contains(r'\\(\\D+\\）|\\（\\D+\\)|\\(\\D+\\)|\\（\\D+\\）|\\*|\\。|\\||\\【|\\】|\\[|\\]|\\<\\S+>|\\*\\d+\\*|[\\u4e00-\\u9fff]').sum()"
   ]
  },
  {
   "cell_type": "markdown",
   "metadata": {},
   "source": [
    "非常注意， int 没有 .str method, 需要先转换成 Str!"
   ]
  },
  {
   "cell_type": "code",
   "execution_count": 96,
   "metadata": {},
   "outputs": [],
   "source": [
    "df_combined['postcode'] = df_combined['postcode'].astype(\"str\")"
   ]
  },
  {
   "cell_type": "code",
   "execution_count": 97,
   "metadata": {},
   "outputs": [
    {
     "data": {
      "text/plain": [
       "0"
      ]
     },
     "execution_count": 97,
     "metadata": {},
     "output_type": "execute_result"
    }
   ],
   "source": [
    "df_combined['postcode'].str.contains('\\D').sum()"
   ]
  },
  {
   "cell_type": "markdown",
   "metadata": {},
   "source": [
    "### Summary:"
   ]
  },
  {
   "cell_type": "markdown",
   "metadata": {},
   "source": [
    "1. Duplicates 需要把地址 拼接在一起 再检查\n",
    "\n",
    "2. 地址 前三列，错位情况，含字母， 需要拼接在一起\n",
    "\n",
    "3. 部分，可能内含 两个 空格， 需要改成一个！！\n",
    "\n",
    "4. 把 空格 替换成 + 号 才能 API search\n",
    "\n",
    "5. 非常注意： 15-15A Ian GroveBurwood VIC 3125 缺少空格！！！！\n",
    "\n",
    "6. 非常注意：有些地址是 Commercial, search result OR history 是空的 List ！！！！\n"
   ]
  },
  {
   "cell_type": "markdown",
   "metadata": {},
   "source": [
    "# Concat Columns: to full address"
   ]
  },
  {
   "cell_type": "code",
   "execution_count": 98,
   "metadata": {},
   "outputs": [],
   "source": [
    "df_combined['address'] = df_combined['flat_number']+' '+\\\n",
    "    df_combined['number_first']+' '+\\\n",
    "        df_combined['number_last']+' '+\\\n",
    "            df_combined['street_name']+' '+\\\n",
    "                    df_combined['street_type_code']+' '+\\\n",
    "                        df_combined['locality_name']+' '+\\\n",
    "                            df_combined['postcode']"
   ]
  },
  {
   "cell_type": "code",
   "execution_count": 99,
   "metadata": {},
   "outputs": [
    {
     "data": {
      "text/plain": [
       "0     166  DONCASTER ROAD BALWYN NORTH 3104\n",
       "1       17  OSBURN AVENUE BALWYN NORTH 3104\n",
       "2      23  PANORAMIC ROAD BALWYN NORTH 3104\n",
       "3       4  PANORAMIC ROAD BALWYN NORTH 3104\n",
       "4       10  ROBERT STREET BALWYN NORTH 3104\n",
       "Name: address, dtype: object"
      ]
     },
     "execution_count": 99,
     "metadata": {},
     "output_type": "execute_result"
    }
   ],
   "source": [
    "df_combined['address'].head()"
   ]
  },
  {
   "cell_type": "markdown",
   "metadata": {},
   "source": [
    "# Check & Clean Extra Space:"
   ]
  },
  {
   "cell_type": "code",
   "execution_count": 100,
   "metadata": {},
   "outputs": [
    {
     "data": {
      "text/plain": [
       "243323"
      ]
     },
     "execution_count": 100,
     "metadata": {},
     "output_type": "execute_result"
    }
   ],
   "source": [
    "df_combined['address'].str.contains(\"  \").sum()"
   ]
  },
  {
   "cell_type": "code",
   "execution_count": 101,
   "metadata": {},
   "outputs": [],
   "source": [
    "df_combined['address']=df_combined['address'].str.replace(\"  \", \" \")"
   ]
  },
  {
   "cell_type": "code",
   "execution_count": 102,
   "metadata": {},
   "outputs": [
    {
     "data": {
      "text/plain": [
       "1"
      ]
     },
     "execution_count": 102,
     "metadata": {},
     "output_type": "execute_result"
    }
   ],
   "source": [
    "df_combined['address'].str.contains(\"  \").sum()"
   ]
  },
  {
   "cell_type": "code",
   "execution_count": 103,
   "metadata": {},
   "outputs": [
    {
     "data": {
      "text/html": [
       "<div>\n",
       "<style scoped>\n",
       "    .dataframe tbody tr th:only-of-type {\n",
       "        vertical-align: middle;\n",
       "    }\n",
       "\n",
       "    .dataframe tbody tr th {\n",
       "        vertical-align: top;\n",
       "    }\n",
       "\n",
       "    .dataframe thead th {\n",
       "        text-align: right;\n",
       "    }\n",
       "</style>\n",
       "<table border=\"1\" class=\"dataframe\">\n",
       "  <thead>\n",
       "    <tr style=\"text-align: right;\">\n",
       "      <th></th>\n",
       "      <th>flat_number</th>\n",
       "      <th>number_first</th>\n",
       "      <th>number_last</th>\n",
       "      <th>street_name</th>\n",
       "      <th>street_type_code</th>\n",
       "      <th>locality_name</th>\n",
       "      <th>postcode</th>\n",
       "      <th>address</th>\n",
       "    </tr>\n",
       "  </thead>\n",
       "  <tbody>\n",
       "    <tr>\n",
       "      <td>221640</td>\n",
       "      <td>1</td>\n",
       "      <td></td>\n",
       "      <td></td>\n",
       "      <td>CARINISH</td>\n",
       "      <td>ROAD</td>\n",
       "      <td>CLAYTON</td>\n",
       "      <td>3168</td>\n",
       "      <td>1  CARINISH ROAD CLAYTON 3168</td>\n",
       "    </tr>\n",
       "  </tbody>\n",
       "</table>\n",
       "</div>"
      ],
      "text/plain": [
       "       flat_number number_first number_last street_name street_type_code  \\\n",
       "221640           1                             CARINISH             ROAD   \n",
       "\n",
       "       locality_name postcode                        address  \n",
       "221640       CLAYTON     3168  1  CARINISH ROAD CLAYTON 3168  "
      ]
     },
     "execution_count": 103,
     "metadata": {},
     "output_type": "execute_result"
    }
   ],
   "source": [
    "df_combined[df_combined['address'].str.contains(\"  \")]"
   ]
  },
  {
   "cell_type": "code",
   "execution_count": 104,
   "metadata": {},
   "outputs": [
    {
     "data": {
      "text/plain": [
       "' 46 ERICA AVENUE GLEN IRIS 3146'"
      ]
     },
     "execution_count": 104,
     "metadata": {},
     "output_type": "execute_result"
    }
   ],
   "source": [
    "df_combined.iloc[246519,7]"
   ]
  },
  {
   "cell_type": "code",
   "execution_count": 105,
   "metadata": {},
   "outputs": [
    {
     "data": {
      "text/plain": [
       "' 46 ERICA AVENUE GLEN IRIS 3146'"
      ]
     },
     "execution_count": 105,
     "metadata": {},
     "output_type": "execute_result"
    }
   ],
   "source": [
    "df_combined.loc[df_combined.index[246519],\"address\"]"
   ]
  },
  {
   "cell_type": "code",
   "execution_count": 106,
   "metadata": {},
   "outputs": [],
   "source": [
    "# Select Single Column:\n",
    "# df_combined.loc[:,[False,False,False,False,False,False,False,True]]"
   ]
  },
  {
   "cell_type": "markdown",
   "metadata": {},
   "source": [
    "PS: 还没有 remove 干净，所以再 remove 一次 space!"
   ]
  },
  {
   "cell_type": "code",
   "execution_count": 107,
   "metadata": {},
   "outputs": [],
   "source": [
    "\n",
    "df_combined['address']=df_combined['address'].str.replace(\"  \", \" \")"
   ]
  },
  {
   "cell_type": "code",
   "execution_count": 108,
   "metadata": {},
   "outputs": [
    {
     "data": {
      "text/plain": [
       "0"
      ]
     },
     "execution_count": 108,
     "metadata": {},
     "output_type": "execute_result"
    }
   ],
   "source": [
    "df_combined['address'].str.contains(\"  \").sum()"
   ]
  },
  {
   "cell_type": "markdown",
   "metadata": {},
   "source": [
    "# Check Duplicate II: df_combined2"
   ]
  },
  {
   "cell_type": "code",
   "execution_count": 109,
   "metadata": {},
   "outputs": [
    {
     "name": "stdout",
     "output_type": "stream",
     "text": [
      "<class 'pandas.core.frame.DataFrame'>\n",
      "RangeIndex: 265403 entries, 0 to 265402\n",
      "Data columns (total 8 columns):\n",
      "flat_number         265403 non-null object\n",
      "number_first        265403 non-null object\n",
      "number_last         265403 non-null object\n",
      "street_name         265403 non-null object\n",
      "street_type_code    265403 non-null object\n",
      "locality_name       265403 non-null object\n",
      "postcode            265403 non-null object\n",
      "address             265403 non-null object\n",
      "dtypes: object(8)\n",
      "memory usage: 16.2+ MB\n"
     ]
    }
   ],
   "source": [
    "df_combined.info()"
   ]
  },
  {
   "cell_type": "code",
   "execution_count": 110,
   "metadata": {},
   "outputs": [],
   "source": [
    "# df_combined['address'].sort_values()"
   ]
  },
  {
   "cell_type": "code",
   "execution_count": 111,
   "metadata": {},
   "outputs": [
    {
     "data": {
      "text/html": [
       "<div>\n",
       "<style scoped>\n",
       "    .dataframe tbody tr th:only-of-type {\n",
       "        vertical-align: middle;\n",
       "    }\n",
       "\n",
       "    .dataframe tbody tr th {\n",
       "        vertical-align: top;\n",
       "    }\n",
       "\n",
       "    .dataframe thead th {\n",
       "        text-align: right;\n",
       "    }\n",
       "</style>\n",
       "<table border=\"1\" class=\"dataframe\">\n",
       "  <thead>\n",
       "    <tr style=\"text-align: right;\">\n",
       "      <th></th>\n",
       "      <th>flat_number</th>\n",
       "      <th>number_first</th>\n",
       "      <th>number_last</th>\n",
       "      <th>street_name</th>\n",
       "      <th>street_type_code</th>\n",
       "      <th>locality_name</th>\n",
       "      <th>postcode</th>\n",
       "      <th>address</th>\n",
       "    </tr>\n",
       "  </thead>\n",
       "  <tbody>\n",
       "    <tr>\n",
       "      <td>222343</td>\n",
       "      <td></td>\n",
       "      <td>1</td>\n",
       "      <td></td>\n",
       "      <td>MIDWAY</td>\n",
       "      <td>ARCADE</td>\n",
       "      <td>RINGWOOD</td>\n",
       "      <td>3134</td>\n",
       "      <td>1 MIDWAY ARCADE RINGWOOD 3134</td>\n",
       "    </tr>\n",
       "    <tr>\n",
       "      <td>241737</td>\n",
       "      <td></td>\n",
       "      <td>1</td>\n",
       "      <td></td>\n",
       "      <td>MIDWAY</td>\n",
       "      <td>ARCADE</td>\n",
       "      <td>RINGWOOD</td>\n",
       "      <td>3134</td>\n",
       "      <td>1 MIDWAY ARCADE RINGWOOD 3134</td>\n",
       "    </tr>\n",
       "  </tbody>\n",
       "</table>\n",
       "</div>"
      ],
      "text/plain": [
       "       flat_number number_first number_last street_name street_type_code  \\\n",
       "222343                        1                  MIDWAY           ARCADE   \n",
       "241737                        1                  MIDWAY           ARCADE   \n",
       "\n",
       "       locality_name postcode                         address  \n",
       "222343      RINGWOOD     3134   1 MIDWAY ARCADE RINGWOOD 3134  \n",
       "241737      RINGWOOD     3134   1 MIDWAY ARCADE RINGWOOD 3134  "
      ]
     },
     "execution_count": 111,
     "metadata": {},
     "output_type": "execute_result"
    }
   ],
   "source": [
    "df_combined[df_combined['address']==\" 1 MIDWAY ARCADE RINGWOOD 3134\"]"
   ]
  },
  {
   "cell_type": "code",
   "execution_count": 112,
   "metadata": {},
   "outputs": [
    {
     "data": {
      "text/plain": [
       "800"
      ]
     },
     "execution_count": 112,
     "metadata": {},
     "output_type": "execute_result"
    }
   ],
   "source": [
    "df_combined['address'].duplicated().sum()"
   ]
  },
  {
   "cell_type": "markdown",
   "metadata": {},
   "source": [
    "OR:"
   ]
  },
  {
   "cell_type": "code",
   "execution_count": 113,
   "metadata": {},
   "outputs": [
    {
     "data": {
      "text/plain": [
       "800"
      ]
     },
     "execution_count": 113,
     "metadata": {},
     "output_type": "execute_result"
    }
   ],
   "source": [
    "df_combined.duplicated(subset=\"address\").sum()"
   ]
  },
  {
   "cell_type": "code",
   "execution_count": 114,
   "metadata": {},
   "outputs": [
    {
     "data": {
      "text/plain": [
       "flat_number         800\n",
       "number_first        800\n",
       "number_last         800\n",
       "street_name         800\n",
       "street_type_code    800\n",
       "locality_name       800\n",
       "postcode            800\n",
       "address             800\n",
       "dtype: int64"
      ]
     },
     "execution_count": 114,
     "metadata": {},
     "output_type": "execute_result"
    }
   ],
   "source": [
    "df_combined[df_combined['address'].duplicated()].count()"
   ]
  },
  {
   "cell_type": "code",
   "execution_count": 115,
   "metadata": {},
   "outputs": [
    {
     "data": {
      "text/plain": [
       "flat_number         1474\n",
       "number_first        1474\n",
       "number_last         1474\n",
       "street_name         1474\n",
       "street_type_code    1474\n",
       "locality_name       1474\n",
       "postcode            1474\n",
       "address             1474\n",
       "dtype: int64"
      ]
     },
     "execution_count": 115,
     "metadata": {},
     "output_type": "execute_result"
    }
   ],
   "source": [
    "df_combined[df_combined['address'].duplicated(keep=False)].count()"
   ]
  },
  {
   "cell_type": "markdown",
   "metadata": {},
   "source": [
    "非常注意，keep = False, 意思是 所有重复的都算，default = First  第一次出现的不算。"
   ]
  },
  {
   "cell_type": "code",
   "execution_count": 116,
   "metadata": {},
   "outputs": [],
   "source": [
    "df_combined2 = df_combined.drop_duplicates(subset=\"address\")"
   ]
  },
  {
   "cell_type": "code",
   "execution_count": 117,
   "metadata": {},
   "outputs": [
    {
     "data": {
      "text/plain": [
       "flat_number         0\n",
       "number_first        0\n",
       "number_last         0\n",
       "street_name         0\n",
       "street_type_code    0\n",
       "locality_name       0\n",
       "postcode            0\n",
       "address             0\n",
       "dtype: int64"
      ]
     },
     "execution_count": 117,
     "metadata": {},
     "output_type": "execute_result"
    }
   ],
   "source": [
    "df_combined2[df_combined2['address'].duplicated(keep=False)].count()"
   ]
  },
  {
   "cell_type": "markdown",
   "metadata": {},
   "source": [
    "# Clean, 部分data 第一个数字之前，还有 SPACE"
   ]
  },
  {
   "cell_type": "markdown",
   "metadata": {},
   "source": [
    "Check First:"
   ]
  },
  {
   "cell_type": "markdown",
   "metadata": {},
   "source": [
    "PS: 如果 第一个 character 是 space, 那么就 replace with \"\""
   ]
  },
  {
   "cell_type": "code",
   "execution_count": 118,
   "metadata": {},
   "outputs": [
    {
     "name": "stdout",
     "output_type": "stream",
     "text": [
      "<class 'pandas.core.frame.DataFrame'>\n",
      "Int64Index: 264603 entries, 0 to 265402\n",
      "Data columns (total 8 columns):\n",
      "flat_number         264603 non-null object\n",
      "number_first        264603 non-null object\n",
      "number_last         264603 non-null object\n",
      "street_name         264603 non-null object\n",
      "street_type_code    264603 non-null object\n",
      "locality_name       264603 non-null object\n",
      "postcode            264603 non-null object\n",
      "address             264603 non-null object\n",
      "dtypes: object(8)\n",
      "memory usage: 18.2+ MB\n"
     ]
    }
   ],
   "source": [
    "df_combined2.info()"
   ]
  },
  {
   "cell_type": "code",
   "execution_count": 119,
   "metadata": {},
   "outputs": [
    {
     "data": {
      "text/plain": [
       "172033"
      ]
     },
     "execution_count": 119,
     "metadata": {},
     "output_type": "execute_result"
    }
   ],
   "source": [
    "(df_combined2[\"address\"].str[0]==\" \").sum()"
   ]
  },
  {
   "cell_type": "code",
   "execution_count": 120,
   "metadata": {},
   "outputs": [
    {
     "data": {
      "text/plain": [
       "74284     42 BALLANTYNE STREET BURWOOD EAST 3151\n",
       "75397          12 MAITLAND STREET GLEN IRIS 3146\n",
       "Name: address, dtype: object"
      ]
     },
     "execution_count": 120,
     "metadata": {},
     "output_type": "execute_result"
    }
   ],
   "source": [
    "df_combined2.loc[df_combined2[\"address\"].str[0]==\" \",\"address\"].sample(2)"
   ]
  },
  {
   "cell_type": "markdown",
   "metadata": {},
   "source": [
    "Clean it:"
   ]
  },
  {
   "cell_type": "markdown",
   "metadata": {},
   "source": [
    "非常注意： 这是个 ERROR 错误！ 等于把 address 替换成 \"\"  而\"\" 不是 None ！！"
   ]
  },
  {
   "cell_type": "code",
   "execution_count": 121,
   "metadata": {},
   "outputs": [],
   "source": [
    "# df_combined2.loc[df_combined2[\"address\"].str[0]==\" \",\"address\"]=\"\""
   ]
  },
  {
   "cell_type": "code",
   "execution_count": 122,
   "metadata": {},
   "outputs": [
    {
     "data": {
      "text/plain": [
       "0           166 DONCASTER ROAD BALWYN NORTH 3104\n",
       "1             17 OSBURN AVENUE BALWYN NORTH 3104\n",
       "2            23 PANORAMIC ROAD BALWYN NORTH 3104\n",
       "3             4 PANORAMIC ROAD BALWYN NORTH 3104\n",
       "4             10 ROBERT STREET BALWYN NORTH 3104\n",
       "                           ...                  \n",
       "265396     11 MANNERING DRIVE GLEN WAVERLEY 3150\n",
       "265399             2 PURCHES STREET MITCHAM 3132\n",
       "265400     85 BLACKBURN ROAD DONCASTER EAST 3109\n",
       "265401       24 HIGHLAND BOULEVARD RINGWOOD 3134\n",
       "265402             9 RESERVE AVENUE MITCHAM 3132\n",
       "Name: address, Length: 172033, dtype: object"
      ]
     },
     "execution_count": 122,
     "metadata": {},
     "output_type": "execute_result"
    }
   ],
   "source": [
    "df_combined2.loc[df_combined2[\"address\"].str[0]==\" \",\"address\"]"
   ]
  },
  {
   "cell_type": "code",
   "execution_count": 123,
   "metadata": {},
   "outputs": [],
   "source": [
    "# type(df_combined2.loc[df_combined2[\"address\"].str[0]==\" \",\"address\"])"
   ]
  },
  {
   "cell_type": "code",
   "execution_count": 124,
   "metadata": {},
   "outputs": [
    {
     "data": {
      "text/plain": [
       "' 166 DONCASTER ROAD BALWYN NORTH 3104'"
      ]
     },
     "execution_count": 124,
     "metadata": {},
     "output_type": "execute_result"
    }
   ],
   "source": [
    "# ERROR 只能找到 这个 series 的第一个：\n",
    "df_combined2.loc[df_combined2[\"address\"].str[0]==\" \",\"address\"][0]"
   ]
  },
  {
   "cell_type": "code",
   "execution_count": 125,
   "metadata": {},
   "outputs": [],
   "source": [
    "# ERROR! AttributeError: 'str' object has no attribute 'str'\n",
    "# df_combined2.loc[df_combined2[\"address\"].str[0]==\" \",\"address\".str[0]]"
   ]
  },
  {
   "cell_type": "code",
   "execution_count": 144,
   "metadata": {},
   "outputs": [
    {
     "name": "stderr",
     "output_type": "stream",
     "text": [
      "C:\\Users\\LEON\\anaconda3\\envs\\quantenv\\lib\\site-packages\\ipykernel_launcher.py:1: SettingWithCopyWarning: \n",
      "A value is trying to be set on a copy of a slice from a DataFrame.\n",
      "Try using .loc[row_indexer,col_indexer] = value instead\n",
      "\n",
      "See the caveats in the documentation: http://pandas.pydata.org/pandas-docs/stable/user_guide/indexing.html#returning-a-view-versus-a-copy\n",
      "  \"\"\"Entry point for launching an IPython kernel.\n"
     ]
    }
   ],
   "source": [
    "df_combined2[\"address\"]=df_combined2[\"address\"].str.replace(\"^ \",\"\")"
   ]
  },
  {
   "cell_type": "markdown",
   "metadata": {},
   "source": [
    "Check Again:"
   ]
  },
  {
   "cell_type": "code",
   "execution_count": 127,
   "metadata": {},
   "outputs": [
    {
     "data": {
      "text/plain": [
       "0"
      ]
     },
     "execution_count": 127,
     "metadata": {},
     "output_type": "execute_result"
    }
   ],
   "source": [
    "(df_combined2[\"address\"].str[0]==\" \").sum()"
   ]
  },
  {
   "cell_type": "code",
   "execution_count": 128,
   "metadata": {},
   "outputs": [
    {
     "data": {
      "text/html": [
       "<div>\n",
       "<style scoped>\n",
       "    .dataframe tbody tr th:only-of-type {\n",
       "        vertical-align: middle;\n",
       "    }\n",
       "\n",
       "    .dataframe tbody tr th {\n",
       "        vertical-align: top;\n",
       "    }\n",
       "\n",
       "    .dataframe thead th {\n",
       "        text-align: right;\n",
       "    }\n",
       "</style>\n",
       "<table border=\"1\" class=\"dataframe\">\n",
       "  <thead>\n",
       "    <tr style=\"text-align: right;\">\n",
       "      <th></th>\n",
       "      <th>flat_number</th>\n",
       "      <th>number_first</th>\n",
       "      <th>number_last</th>\n",
       "      <th>street_name</th>\n",
       "      <th>street_type_code</th>\n",
       "      <th>locality_name</th>\n",
       "      <th>postcode</th>\n",
       "      <th>address</th>\n",
       "    </tr>\n",
       "  </thead>\n",
       "  <tbody>\n",
       "  </tbody>\n",
       "</table>\n",
       "</div>"
      ],
      "text/plain": [
       "Empty DataFrame\n",
       "Columns: [flat_number, number_first, number_last, street_name, street_type_code, locality_name, postcode, address]\n",
       "Index: []"
      ]
     },
     "execution_count": 128,
     "metadata": {},
     "output_type": "execute_result"
    }
   ],
   "source": [
    "df_combined2[df_combined2[\"address\"].str[0]==\" \"]"
   ]
  },
  {
   "cell_type": "code",
   "execution_count": 129,
   "metadata": {},
   "outputs": [
    {
     "data": {
      "text/html": [
       "<div>\n",
       "<style scoped>\n",
       "    .dataframe tbody tr th:only-of-type {\n",
       "        vertical-align: middle;\n",
       "    }\n",
       "\n",
       "    .dataframe tbody tr th {\n",
       "        vertical-align: top;\n",
       "    }\n",
       "\n",
       "    .dataframe thead th {\n",
       "        text-align: right;\n",
       "    }\n",
       "</style>\n",
       "<table border=\"1\" class=\"dataframe\">\n",
       "  <thead>\n",
       "    <tr style=\"text-align: right;\">\n",
       "      <th></th>\n",
       "      <th>flat_number</th>\n",
       "      <th>number_first</th>\n",
       "      <th>number_last</th>\n",
       "      <th>street_name</th>\n",
       "      <th>street_type_code</th>\n",
       "      <th>locality_name</th>\n",
       "      <th>postcode</th>\n",
       "      <th>address</th>\n",
       "    </tr>\n",
       "  </thead>\n",
       "  <tbody>\n",
       "    <tr>\n",
       "      <td>122876</td>\n",
       "      <td></td>\n",
       "      <td>65</td>\n",
       "      <td></td>\n",
       "      <td>BOND</td>\n",
       "      <td>STREET</td>\n",
       "      <td>RINGWOOD</td>\n",
       "      <td>3134</td>\n",
       "      <td>65 BOND STREET RINGWOOD 3134</td>\n",
       "    </tr>\n",
       "    <tr>\n",
       "      <td>114189</td>\n",
       "      <td></td>\n",
       "      <td>129B</td>\n",
       "      <td></td>\n",
       "      <td>WESTALL</td>\n",
       "      <td>ROAD</td>\n",
       "      <td>CLAYTON SOUTH</td>\n",
       "      <td>3169</td>\n",
       "      <td>129B WESTALL ROAD CLAYTON SOUTH 3169</td>\n",
       "    </tr>\n",
       "  </tbody>\n",
       "</table>\n",
       "</div>"
      ],
      "text/plain": [
       "       flat_number number_first number_last street_name street_type_code  \\\n",
       "122876                       65                    BOND           STREET   \n",
       "114189                     129B                 WESTALL             ROAD   \n",
       "\n",
       "        locality_name postcode                               address  \n",
       "122876       RINGWOOD     3134          65 BOND STREET RINGWOOD 3134  \n",
       "114189  CLAYTON SOUTH     3169  129B WESTALL ROAD CLAYTON SOUTH 3169  "
      ]
     },
     "execution_count": 129,
     "metadata": {},
     "output_type": "execute_result"
    }
   ],
   "source": [
    "df_combined2.sample(2)"
   ]
  },
  {
   "cell_type": "markdown",
   "metadata": {},
   "source": [
    "# Split into Different Surburbs:"
   ]
  },
  {
   "cell_type": "markdown",
   "metadata": {},
   "source": [
    "## List of types:"
   ]
  },
  {
   "cell_type": "code",
   "execution_count": 137,
   "metadata": {},
   "outputs": [
    {
     "data": {
      "text/plain": [
       "array(['ROAD', 'AVENUE', 'STREET', 'PLACE', 'GROVE', 'DRIVE', 'COURT', '',\n",
       "       'PARADE', 'CLOSE', 'WAY', 'BOULEVARD', 'CRESCENT', 'LANE',\n",
       "       'HIGHWAY', 'TERRACE', 'CIRCUIT', 'RISE', 'QUADRANT', 'WYND',\n",
       "       'CREST', 'MEWS', 'WALK', 'SQUARE', 'CHASE', 'MALL', 'VIEW',\n",
       "       'RIDGE', 'CIRCLE', 'COVE', 'GARDENS', 'EDGE', 'BEND', 'REACH',\n",
       "       'RETREAT', 'VIEWS', 'BYPASS', 'ROW', 'NOOK', 'HEATH', 'ARCADE',\n",
       "       'FREEWAY'], dtype=object)"
      ]
     },
     "execution_count": 137,
     "metadata": {},
     "output_type": "execute_result"
    }
   ],
   "source": [
    "list_types=df_combined2[\"street_type_code\"].unique()\n",
    "list_types   "
   ]
  },
  {
   "cell_type": "code",
   "execution_count": 138,
   "metadata": {},
   "outputs": [
    {
     "data": {
      "text/plain": [
       "42"
      ]
     },
     "execution_count": 138,
     "metadata": {},
     "output_type": "execute_result"
    }
   ],
   "source": [
    "len(list_types)"
   ]
  },
  {
   "cell_type": "markdown",
   "metadata": {},
   "source": [
    "## List of Surburbs:"
   ]
  },
  {
   "cell_type": "code",
   "execution_count": 131,
   "metadata": {},
   "outputs": [
    {
     "data": {
      "text/plain": [
       "array(['BALWYN NORTH', 'BOX HILL SOUTH', 'CLAYTON', 'MITCHAM',\n",
       "       'DONCASTER EAST', 'BOX HILL', 'GLEN WAVERLEY', 'CAMBERWELL',\n",
       "       'BURWOOD EAST', 'OAKLEIGH', 'BLACKBURN', 'BLACKBURN SOUTH',\n",
       "       'BALWYN', 'CLAYTON SOUTH', 'NUNAWADING', 'MULGRAVE', 'CHADSTONE',\n",
       "       'BURWOOD', 'ASHWOOD', 'NOTTING HILL', 'HUNTINGDALE',\n",
       "       'MOUNT WAVERLEY', 'VERMONT SOUTH', 'RINGWOOD', 'FOREST HILL',\n",
       "       'DONCASTER', 'GLEN IRIS', 'OAKLEIGH EAST', 'MONT ALBERT',\n",
       "       'WHEELERS HILL', 'VERMONT', 'SURREY HILLS', 'TEMPLESTOWE'],\n",
       "      dtype=object)"
      ]
     },
     "execution_count": 131,
     "metadata": {},
     "output_type": "execute_result"
    }
   ],
   "source": [
    "list_sub=df_combined2[\"locality_name\"].unique()\n",
    "list_sub   "
   ]
  },
  {
   "cell_type": "code",
   "execution_count": 132,
   "metadata": {},
   "outputs": [
    {
     "data": {
      "text/plain": [
       "33"
      ]
     },
     "execution_count": 132,
     "metadata": {},
     "output_type": "execute_result"
    }
   ],
   "source": [
    "len(list_sub)"
   ]
  },
  {
   "cell_type": "code",
   "execution_count": 133,
   "metadata": {},
   "outputs": [
    {
     "data": {
      "text/plain": [
       "array(['ASHWOOD', 'BALWYN', 'BALWYN NORTH', 'BLACKBURN',\n",
       "       'BLACKBURN SOUTH', 'BOX HILL', 'BOX HILL SOUTH', 'BURWOOD',\n",
       "       'BURWOOD EAST', 'CAMBERWELL', 'CHADSTONE', 'CLAYTON',\n",
       "       'CLAYTON SOUTH', 'DONCASTER', 'DONCASTER EAST', 'FOREST HILL',\n",
       "       'GLEN IRIS', 'GLEN WAVERLEY', 'HUNTINGDALE', 'MITCHAM',\n",
       "       'MONT ALBERT', 'MOUNT WAVERLEY', 'MULGRAVE', 'NOTTING HILL',\n",
       "       'NUNAWADING', 'OAKLEIGH', 'OAKLEIGH EAST', 'RINGWOOD',\n",
       "       'SURREY HILLS', 'TEMPLESTOWE', 'VERMONT', 'VERMONT SOUTH',\n",
       "       'WHEELERS HILL'], dtype=object)"
      ]
     },
     "execution_count": 133,
     "metadata": {},
     "output_type": "execute_result"
    }
   ],
   "source": [
    "list_sub.sort()\n",
    "list_sub"
   ]
  },
  {
   "cell_type": "markdown",
   "metadata": {},
   "source": [
    "# Clean: Crescent to Cres"
   ]
  },
  {
   "cell_type": "code",
   "execution_count": 159,
   "metadata": {},
   "outputs": [
    {
     "name": "stderr",
     "output_type": "stream",
     "text": [
      "C:\\Users\\LEON\\anaconda3\\envs\\quantenv\\lib\\site-packages\\ipykernel_launcher.py:1: SettingWithCopyWarning: \n",
      "A value is trying to be set on a copy of a slice from a DataFrame.\n",
      "Try using .loc[row_indexer,col_indexer] = value instead\n",
      "\n",
      "See the caveats in the documentation: http://pandas.pydata.org/pandas-docs/stable/user_guide/indexing.html#returning-a-view-versus-a-copy\n",
      "  \"\"\"Entry point for launching an IPython kernel.\n"
     ]
    }
   ],
   "source": [
    "df_combined2[\"address\"]=df_combined2[\"address\"].str.replace(\"CRESCENT\",\"Cres\")"
   ]
  },
  {
   "cell_type": "markdown",
   "metadata": {},
   "source": [
    "## Slicing to Target Suburb: df_target"
   ]
  },
  {
   "cell_type": "code",
   "execution_count": 160,
   "metadata": {},
   "outputs": [],
   "source": [
    "target='GLEN WAVERLEY'\n",
    "df_target=df_combined2[df_combined2[\"locality_name\"]==target]"
   ]
  },
  {
   "cell_type": "markdown",
   "metadata": {},
   "source": [
    "# To Excel:"
   ]
  },
  {
   "cell_type": "code",
   "execution_count": 161,
   "metadata": {},
   "outputs": [
    {
     "name": "stdout",
     "output_type": "stream",
     "text": [
      "<class 'pandas.core.frame.DataFrame'>\n",
      "Int64Index: 19478 entries, 32 to 265396\n",
      "Data columns (total 8 columns):\n",
      "flat_number         19478 non-null object\n",
      "number_first        19478 non-null object\n",
      "number_last         19478 non-null object\n",
      "street_name         19478 non-null object\n",
      "street_type_code    19478 non-null object\n",
      "locality_name       19478 non-null object\n",
      "postcode            19478 non-null object\n",
      "address             19478 non-null object\n",
      "dtypes: object(8)\n",
      "memory usage: 1.3+ MB\n"
     ]
    },
    {
     "data": {
      "text/html": [
       "<div>\n",
       "<style scoped>\n",
       "    .dataframe tbody tr th:only-of-type {\n",
       "        vertical-align: middle;\n",
       "    }\n",
       "\n",
       "    .dataframe tbody tr th {\n",
       "        vertical-align: top;\n",
       "    }\n",
       "\n",
       "    .dataframe thead th {\n",
       "        text-align: right;\n",
       "    }\n",
       "</style>\n",
       "<table border=\"1\" class=\"dataframe\">\n",
       "  <thead>\n",
       "    <tr style=\"text-align: right;\">\n",
       "      <th></th>\n",
       "      <th>flat_number</th>\n",
       "      <th>number_first</th>\n",
       "      <th>number_last</th>\n",
       "      <th>street_name</th>\n",
       "      <th>street_type_code</th>\n",
       "      <th>locality_name</th>\n",
       "      <th>postcode</th>\n",
       "      <th>address</th>\n",
       "    </tr>\n",
       "  </thead>\n",
       "  <tbody>\n",
       "    <tr>\n",
       "      <td>75475</td>\n",
       "      <td></td>\n",
       "      <td>43</td>\n",
       "      <td></td>\n",
       "      <td>KENNEDY</td>\n",
       "      <td>STREET</td>\n",
       "      <td>GLEN WAVERLEY</td>\n",
       "      <td>3150</td>\n",
       "      <td>43 KENNEDY STREET GLEN WAVERLEY 3150</td>\n",
       "    </tr>\n",
       "    <tr>\n",
       "      <td>176627</td>\n",
       "      <td>91</td>\n",
       "      <td>37</td>\n",
       "      <td>47</td>\n",
       "      <td>VIEW MOUNT</td>\n",
       "      <td>ROAD</td>\n",
       "      <td>GLEN WAVERLEY</td>\n",
       "      <td>3150</td>\n",
       "      <td>91 37 47 VIEW MOUNT ROAD GLEN WAVERLEY 3150</td>\n",
       "    </tr>\n",
       "  </tbody>\n",
       "</table>\n",
       "</div>"
      ],
      "text/plain": [
       "       flat_number number_first number_last street_name street_type_code  \\\n",
       "75475                        43                 KENNEDY           STREET   \n",
       "176627          91           37          47  VIEW MOUNT             ROAD   \n",
       "\n",
       "        locality_name postcode                                      address  \n",
       "75475   GLEN WAVERLEY     3150         43 KENNEDY STREET GLEN WAVERLEY 3150  \n",
       "176627  GLEN WAVERLEY     3150  91 37 47 VIEW MOUNT ROAD GLEN WAVERLEY 3150  "
      ]
     },
     "execution_count": 161,
     "metadata": {},
     "output_type": "execute_result"
    }
   ],
   "source": [
    "df_target.info()\n",
    "df_target.sample(2)"
   ]
  },
  {
   "cell_type": "markdown",
   "metadata": {},
   "source": [
    "PS: Including Commercial\n",
    "\n",
    "VS. address_count = 14095 from Auproperty Report\n",
    "\n"
   ]
  },
  {
   "cell_type": "code",
   "execution_count": 162,
   "metadata": {},
   "outputs": [
    {
     "name": "stdout",
     "output_type": "stream",
     "text": [
      "DataFrame is written successfully to Excel File.\n"
     ]
    }
   ],
   "source": [
    "# create excel writer object\n",
    "writer=pd.ExcelWriter(f'address of {target}.xlsx')\n",
    "# write dataframe to excel\n",
    "df_target.to_excel(writer, index=False)\n",
    "# save the excel\n",
    "writer.save()\n",
    "print('DataFrame is written successfully to Excel File.')"
   ]
  },
  {
   "cell_type": "markdown",
   "metadata": {},
   "source": [
    "# Summary:\n",
    "1. Address Includes Commercial\n",
    "\n",
    "2. Duplicates Found \n",
    "\n",
    "df_combined[df_combined['address'].duplicated(keep=False)].count()  --- find ALL, default = find the first duplicated one.\n",
    "\n",
    "3. Repalce first character\n",
    "\n",
    "df_combined2.loc[df_combined2[\"address\"].str[0]==\" \",\"address\"][0]\n",
    "\n",
    "df_combined2[\"address\"]=df_combined2[\"address\"].str.replace(\"^ \",\"\")\n"
   ]
  }
 ],
 "metadata": {
  "interpreter": {
   "hash": "170a0e6705e7177d8ec927c01850caf7a7fb416bdbfb32d5d872a679d7912b9a"
  },
  "kernelspec": {
   "display_name": "Python 3.8.5 ('base')",
   "language": "python",
   "name": "python3"
  },
  "language_info": {
   "codemirror_mode": {
    "name": "ipython",
    "version": 3
   },
   "file_extension": ".py",
   "mimetype": "text/x-python",
   "name": "python",
   "nbconvert_exporter": "python",
   "pygments_lexer": "ipython3",
   "version": "3.6.8"
  },
  "orig_nbformat": 4
 },
 "nbformat": 4,
 "nbformat_minor": 2
}
