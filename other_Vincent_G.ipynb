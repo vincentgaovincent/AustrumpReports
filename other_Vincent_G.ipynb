{
 "cells": [
  {
   "cell_type": "code",
   "execution_count": 21,
   "metadata": {},
   "outputs": [],
   "source": [
    "import pandas as pd\n",
    "import re\n",
    "from pathlib import Path\n",
    "\n",
    "pd.options.display.max_colwidth = 600  # Set Full Display\n",
    "\n",
    "# use r -- to avoid unicode error !\n",
    "file_path=Path(r'C:\\Users\\LEON\\austrump\\诺兰地产房源群Norland Property.xlsx')"
   ]
  },
  {
   "cell_type": "code",
   "execution_count": 22,
   "metadata": {},
   "outputs": [],
   "source": [
    "# file_path=Path(r'C:\\Users\\LEON\\austrump\\澳盛销售交流群_2.xlsx')"
   ]
  },
  {
   "cell_type": "code",
   "execution_count": 23,
   "metadata": {},
   "outputs": [],
   "source": [
    "# file_path=Path(r'C:\\Users\\LEON\\austrump\\诺兰地产房源群Norland Property.xlsx')"
   ]
  },
  {
   "cell_type": "markdown",
   "metadata": {},
   "source": [
    "# Import Initial Data & Select Target Columns by Names:"
   ]
  },
  {
   "cell_type": "code",
   "execution_count": 24,
   "metadata": {},
   "outputs": [
    {
     "name": "stdout",
     "output_type": "stream",
     "text": [
      "<class 'pandas.core.frame.DataFrame'>\n",
      "Int64Index: 35797 entries, 1 to 36731\n",
      "Data columns (total 4 columns):\n",
      "时间     35797 non-null object\n",
      "联系人    35797 non-null object\n",
      "微信号    35797 non-null object\n",
      "消息     35797 non-null object\n",
      "dtypes: object(4)\n",
      "memory usage: 1.4+ MB\n",
      "None\n"
     ]
    }
   ],
   "source": [
    "\n",
    "df = pd.read_excel(file_path, parse_dates=True)\n",
    "df.dropna(inplace=True)\n",
    "df_origin = df[['时间','联系人','微信号','消息']]\n",
    "print(df_origin.info())"
   ]
  },
  {
   "cell_type": "markdown",
   "metadata": {},
   "source": [
    "# Select 新格式开始执行 时间 之后的 Data:"
   ]
  },
  {
   "cell_type": "code",
   "execution_count": 25,
   "metadata": {},
   "outputs": [
    {
     "name": "stdout",
     "output_type": "stream",
     "text": [
      "<class 'pandas.core.frame.DataFrame'>\n",
      "Int64Index: 2616 entries, 34030 to 36731\n",
      "Data columns (total 4 columns):\n",
      "时间     2616 non-null object\n",
      "联系人    2616 non-null object\n",
      "微信号    2616 non-null object\n",
      "消息     2616 non-null object\n",
      "dtypes: object(4)\n",
      "memory usage: 102.2+ KB\n",
      "None\n"
     ]
    },
    {
     "data": {
      "text/html": [
       "<div>\n",
       "<style scoped>\n",
       "    .dataframe tbody tr th:only-of-type {\n",
       "        vertical-align: middle;\n",
       "    }\n",
       "\n",
       "    .dataframe tbody tr th {\n",
       "        vertical-align: top;\n",
       "    }\n",
       "\n",
       "    .dataframe thead th {\n",
       "        text-align: right;\n",
       "    }\n",
       "</style>\n",
       "<table border=\"1\" class=\"dataframe\">\n",
       "  <thead>\n",
       "    <tr style=\"text-align: right;\">\n",
       "      <th></th>\n",
       "      <th>时间</th>\n",
       "      <th>联系人</th>\n",
       "      <th>微信号</th>\n",
       "      <th>消息</th>\n",
       "    </tr>\n",
       "  </thead>\n",
       "  <tbody>\n",
       "    <tr>\n",
       "      <td>34030</td>\n",
       "      <td>2022-02-21 16:28:52</td>\n",
       "      <td>公司 澳盛集团??Boxhill</td>\n",
       "      <td>wxid_vz1d02xdx5dr22</td>\n",
       "      <td>Dear all， 为了帮助大家更好的查询房源，以及更规范化管理房源，日后Listing的发布请按照以下格式发布并更新，烦请各位组长协助新人及组员完善listing information。 【项目名称】 【项目地址】 【授权类型】 【佣金??】 【价格】 【现房/准现房/期房/（请备注交割时间）】 【房源描述】</td>\n",
       "    </tr>\n",
       "    <tr>\n",
       "      <td>34031</td>\n",
       "      <td>2022-02-21 16:28:59</td>\n",
       "      <td>公司 澳盛集团??Boxhill</td>\n",
       "      <td>wxid_vz1d02xdx5dr22</td>\n",
       "      <td>【项目名称】 【项目地址】 【授权类型】 【佣金??】 【价格】 【现房/准现房/期房/（请备注交割时间）】 【房源描述】</td>\n",
       "    </tr>\n",
       "  </tbody>\n",
       "</table>\n",
       "</div>"
      ],
      "text/plain": [
       "                        时间               联系人                  微信号  \\\n",
       "34030  2022-02-21 16:28:52  公司 澳盛集团??Boxhill  wxid_vz1d02xdx5dr22   \n",
       "34031  2022-02-21 16:28:59  公司 澳盛集团??Boxhill  wxid_vz1d02xdx5dr22   \n",
       "\n",
       "                                                                                                                                                                  消息  \n",
       "34030  Dear all， 为了帮助大家更好的查询房源，以及更规范化管理房源，日后Listing的发布请按照以下格式发布并更新，烦请各位组长协助新人及组员完善listing information。 【项目名称】 【项目地址】 【授权类型】 【佣金??】 【价格】 【现房/准现房/期房/（请备注交割时间）】 【房源描述】  \n",
       "34031                                                                                                  【项目名称】 【项目地址】 【授权类型】 【佣金??】 【价格】 【现房/准现房/期房/（请备注交割时间）】 【房源描述】  "
      ]
     },
     "execution_count": 25,
     "metadata": {},
     "output_type": "execute_result"
    }
   ],
   "source": [
    "df_origin2=df_origin.loc[df_origin[\"时间\"]>='2022-02-21 16:28:52']\n",
    "print(df_origin2.info())\n",
    "df_origin2.head(2)"
   ]
  },
  {
   "cell_type": "markdown",
   "metadata": {},
   "source": [
    "# Filter Out Irrelevant Information:"
   ]
  },
  {
   "cell_type": "code",
   "execution_count": 26,
   "metadata": {},
   "outputs": [
    {
     "name": "stdout",
     "output_type": "stream",
     "text": [
      "<class 'pandas.core.frame.DataFrame'>\n",
      "Int64Index: 248 entries, 34030 to 36731\n",
      "Data columns (total 4 columns):\n",
      "时间     248 non-null object\n",
      "联系人    248 non-null object\n",
      "微信号    248 non-null object\n",
      "消息     248 non-null object\n",
      "dtypes: object(4)\n",
      "memory usage: 9.7+ KB\n",
      "None\n"
     ]
    }
   ],
   "source": [
    "df_origin3=df_origin2[df_origin2['消息'].str.contains('房源描述')] \n",
    "print(df_origin3.info())"
   ]
  },
  {
   "cell_type": "markdown",
   "metadata": {},
   "source": [
    "### Check & Drop Duplication:"
   ]
  },
  {
   "cell_type": "code",
   "execution_count": 27,
   "metadata": {},
   "outputs": [
    {
     "name": "stdout",
     "output_type": "stream",
     "text": [
      "42 个 Duplicates\n"
     ]
    }
   ],
   "source": [
    "check=df_origin3[\"消息\"].duplicated().sum()  # .item() convert numpy int to int\n",
    "print(f\"{check} 个 Duplicates\") "
   ]
  },
  {
   "cell_type": "code",
   "execution_count": 28,
   "metadata": {},
   "outputs": [
    {
     "name": "stdout",
     "output_type": "stream",
     "text": [
      "<class 'pandas.core.frame.DataFrame'>\n",
      "Int64Index: 206 entries, 34030 to 36731\n",
      "Data columns (total 4 columns):\n",
      "时间     206 non-null object\n",
      "联系人    206 non-null object\n",
      "微信号    206 non-null object\n",
      "消息     206 non-null object\n",
      "dtypes: object(4)\n",
      "memory usage: 8.0+ KB\n",
      "None\n"
     ]
    }
   ],
   "source": [
    "df_origin4=df_origin3.drop_duplicates(subset=\"消息\")\n",
    "print(df_origin4.info())"
   ]
  },
  {
   "cell_type": "code",
   "execution_count": 29,
   "metadata": {},
   "outputs": [
    {
     "data": {
      "text/html": [
       "<div>\n",
       "<style scoped>\n",
       "    .dataframe tbody tr th:only-of-type {\n",
       "        vertical-align: middle;\n",
       "    }\n",
       "\n",
       "    .dataframe tbody tr th {\n",
       "        vertical-align: top;\n",
       "    }\n",
       "\n",
       "    .dataframe thead th {\n",
       "        text-align: right;\n",
       "    }\n",
       "</style>\n",
       "<table border=\"1\" class=\"dataframe\">\n",
       "  <thead>\n",
       "    <tr style=\"text-align: right;\">\n",
       "      <th></th>\n",
       "      <th>时间</th>\n",
       "      <th>联系人</th>\n",
       "      <th>微信号</th>\n",
       "      <th>消息</th>\n",
       "    </tr>\n",
       "  </thead>\n",
       "  <tbody>\n",
       "    <tr>\n",
       "      <td>34030</td>\n",
       "      <td>2022-02-21 16:28:52</td>\n",
       "      <td>公司 澳盛集团??Boxhill</td>\n",
       "      <td>wxid_vz1d02xdx5dr22</td>\n",
       "      <td>Dear all， 为了帮助大家更好的查询房源，以及更规范化管理房源，日后Listing的发布请按照以下格式发布并更新，烦请各位组长协助新人及组员完善listing information。 【项目名称】 【项目地址】 【授权类型】 【佣金??】 【价格】 【现房/准现房/期房/（请备注交割时间）】 【房源描述】</td>\n",
       "    </tr>\n",
       "    <tr>\n",
       "      <td>34031</td>\n",
       "      <td>2022-02-21 16:28:59</td>\n",
       "      <td>公司 澳盛集团??Boxhill</td>\n",
       "      <td>wxid_vz1d02xdx5dr22</td>\n",
       "      <td>【项目名称】 【项目地址】 【授权类型】 【佣金??】 【价格】 【现房/准现房/期房/（请备注交割时间）】 【房源描述】</td>\n",
       "    </tr>\n",
       "    <tr>\n",
       "      <td>34032</td>\n",
       "      <td>2022-02-21 16:32:54</td>\n",
       "      <td>公司 澳盛集团??Boxhill</td>\n",
       "      <td>wxid_vz1d02xdx5dr22</td>\n",
       "      <td>【项目名称】 【项目地址】 【授权类型】普通代理/独家代理/对接 【佣金??】 【价格】 【现房/准现房/期房/（请备注交割时间）】 【房源描述】</td>\n",
       "    </tr>\n",
       "    <tr>\n",
       "      <td>34217</td>\n",
       "      <td>2022-02-22 10:49:49</td>\n",
       "      <td>澳盛集团??Don</td>\n",
       "      <td>wxid_rm0z8a3l53lm12</td>\n",
       "      <td>?『开放时间』周二 2.22下午1：30开放 【项目地址】60 narrak st ,Balwyn 【授权类型】general by don 【佣金??】360-370万佣金1.5%+gst，370万2%+gst.合理offer 可谈 【价格】370-380 【现房/准现房/期房/（请备注交割时间）】现房 【房源描述】占地556 平建筑436平方米 附近环境优美，离Greythorn Primary小学（97分）步行7分钟，走路到公交车站5分钟，去Coles超市步行5分钟，地势高，远眺市中心，city view. 请联系我约看房！https://www.dropbox.com/sh/oy40pkpun0mgt3y/AADwgUjkZfOI7M45QdcXcrcLa?dl=0</td>\n",
       "    </tr>\n",
       "    <tr>\n",
       "      <td>34221</td>\n",
       "      <td>2022-02-22 10:57:05</td>\n",
       "      <td>公司 澳盛集团??Boxhill</td>\n",
       "      <td>wxid_vz1d02xdx5dr22</td>\n",
       "      <td>?开放时间：每周六10:30-11:00统一开放?? 【项目地址】U4/20 Burns avenue Clayton south 【授权类型】Exclusive Listing by Lina 【佣金??】2.2%含税 【价格】88-92万 【房源状态】二手Townhouse 【房源描述】2.5年新二手townhouse，4房3.5卫双车位。占地210，室内160。westall火车站步行8分钟，Clayton商业中心开车4分钟。目前空置，预约看房。 https://www.dropbox.com/sh/zjpcem1h4wbgxyf/AAAQj8z7BWfQv07FHPE75iSBa?dl=0</td>\n",
       "    </tr>\n",
       "  </tbody>\n",
       "</table>\n",
       "</div>"
      ],
      "text/plain": [
       "                        时间               联系人                  微信号  \\\n",
       "34030  2022-02-21 16:28:52  公司 澳盛集团??Boxhill  wxid_vz1d02xdx5dr22   \n",
       "34031  2022-02-21 16:28:59  公司 澳盛集团??Boxhill  wxid_vz1d02xdx5dr22   \n",
       "34032  2022-02-21 16:32:54  公司 澳盛集团??Boxhill  wxid_vz1d02xdx5dr22   \n",
       "34217  2022-02-22 10:49:49         澳盛集团??Don  wxid_rm0z8a3l53lm12   \n",
       "34221  2022-02-22 10:57:05  公司 澳盛集团??Boxhill  wxid_vz1d02xdx5dr22   \n",
       "\n",
       "                                                                                                                                                                                                                                                                                                                                                          消息  \n",
       "34030                                                                                                                                                                                          Dear all， 为了帮助大家更好的查询房源，以及更规范化管理房源，日后Listing的发布请按照以下格式发布并更新，烦请各位组长协助新人及组员完善listing information。 【项目名称】 【项目地址】 【授权类型】 【佣金??】 【价格】 【现房/准现房/期房/（请备注交割时间）】 【房源描述】  \n",
       "34031                                                                                                                                                                                                                                                                                          【项目名称】 【项目地址】 【授权类型】 【佣金??】 【价格】 【现房/准现房/期房/（请备注交割时间）】 【房源描述】  \n",
       "34032                                                                                                                                                                                                                                                                              【项目名称】 【项目地址】 【授权类型】普通代理/独家代理/对接 【佣金??】 【价格】 【现房/准现房/期房/（请备注交割时间）】 【房源描述】  \n",
       "34217  ?『开放时间』周二 2.22下午1：30开放 【项目地址】60 narrak st ,Balwyn 【授权类型】general by don 【佣金??】360-370万佣金1.5%+gst，370万2%+gst.合理offer 可谈 【价格】370-380 【现房/准现房/期房/（请备注交割时间）】现房 【房源描述】占地556 平建筑436平方米 附近环境优美，离Greythorn Primary小学（97分）步行7分钟，走路到公交车站5分钟，去Coles超市步行5分钟，地势高，远眺市中心，city view. 请联系我约看房！https://www.dropbox.com/sh/oy40pkpun0mgt3y/AADwgUjkZfOI7M45QdcXcrcLa?dl=0  \n",
       "34221                                         ?开放时间：每周六10:30-11:00统一开放?? 【项目地址】U4/20 Burns avenue Clayton south 【授权类型】Exclusive Listing by Lina 【佣金??】2.2%含税 【价格】88-92万 【房源状态】二手Townhouse 【房源描述】2.5年新二手townhouse，4房3.5卫双车位。占地210，室内160。westall火车站步行8分钟，Clayton商业中心开车4分钟。目前空置，预约看房。 https://www.dropbox.com/sh/zjpcem1h4wbgxyf/AAAQj8z7BWfQv07FHPE75iSBa?dl=0  "
      ]
     },
     "execution_count": 29,
     "metadata": {},
     "output_type": "execute_result"
    }
   ],
   "source": [
    "df_origin4.head(5)"
   ]
  },
  {
   "cell_type": "markdown",
   "metadata": {},
   "source": [
    "# Split I： 拆开 -- 然后查看  房源描述 的 Duplicates:"
   ]
  },
  {
   "cell_type": "code",
   "execution_count": 30,
   "metadata": {},
   "outputs": [
    {
     "name": "stdout",
     "output_type": "stream",
     "text": [
      "<class 'pandas.core.frame.DataFrame'>\n",
      "Int64Index: 206 entries, 34030 to 36731\n",
      "Data columns (total 2 columns):\n",
      "a    206 non-null object\n",
      "b    205 non-null object\n",
      "dtypes: object(2)\n",
      "memory usage: 4.8+ KB\n",
      "None\n"
     ]
    }
   ],
   "source": [
    "df1= df_origin4['消息'].str.split('【房源描述】',expand=True)\n",
    "df1.columns=[\"a\",\"b\"] # Create new name\n",
    "\n",
    "print(df1.info())\n"
   ]
  },
  {
   "cell_type": "markdown",
   "metadata": {},
   "source": [
    "### Check Null:"
   ]
  },
  {
   "cell_type": "code",
   "execution_count": 31,
   "metadata": {},
   "outputs": [
    {
     "data": {
      "text/html": [
       "<div>\n",
       "<style scoped>\n",
       "    .dataframe tbody tr th:only-of-type {\n",
       "        vertical-align: middle;\n",
       "    }\n",
       "\n",
       "    .dataframe tbody tr th {\n",
       "        vertical-align: top;\n",
       "    }\n",
       "\n",
       "    .dataframe thead th {\n",
       "        text-align: right;\n",
       "    }\n",
       "</style>\n",
       "<table border=\"1\" class=\"dataframe\">\n",
       "  <thead>\n",
       "    <tr style=\"text-align: right;\">\n",
       "      <th></th>\n",
       "      <th>a</th>\n",
       "      <th>b</th>\n",
       "    </tr>\n",
       "  </thead>\n",
       "  <tbody>\n",
       "    <tr>\n",
       "      <td>34967</td>\n",
       "      <td>【项目名称】the chen金银楼 【项目地址】1713/850 whitehorse road Boxhill 【授权类型】General Listing By Eva &amp; KAI, 【授权已提交公司】Yes 【佣金?】 2.5%plus gst 【价格】$35-37万 【房源状态】现房 2手公寓 【房源描述一房一卫，西北拐角 采光无敌，适合单身贵族，年轻couple，或者投资人群购买。 高性价比公寓，投资利器.楼下有早茶店，日料店，brunch 店，华人超市，华人餐厅，走路3分钟到Coles，门口的火车站和109电车站，可直达CBD和周边学校,公寓设施齐全 有顶楼露天BBQ, 健身房、游泳池https://www.dropbox.com/sh/0l579otjqtfqopa/AABVWB_6TELYRXoM4rF4FzKta?dl=0</td>\n",
       "      <td>None</td>\n",
       "    </tr>\n",
       "  </tbody>\n",
       "</table>\n",
       "</div>"
      ],
      "text/plain": [
       "                                                                                                                                                                                                                                                                                                                                                                                            a  \\\n",
       "34967  【项目名称】the chen金银楼 【项目地址】1713/850 whitehorse road Boxhill 【授权类型】General Listing By Eva & KAI, 【授权已提交公司】Yes 【佣金?】 2.5%plus gst 【价格】$35-37万 【房源状态】现房 2手公寓 【房源描述一房一卫，西北拐角 采光无敌，适合单身贵族，年轻couple，或者投资人群购买。 高性价比公寓，投资利器.楼下有早茶店，日料店，brunch 店，华人超市，华人餐厅，走路3分钟到Coles，门口的火车站和109电车站，可直达CBD和周边学校,公寓设施齐全 有顶楼露天BBQ, 健身房、游泳池https://www.dropbox.com/sh/0l579otjqtfqopa/AABVWB_6TELYRXoM4rF4FzKta?dl=0   \n",
       "\n",
       "          b  \n",
       "34967  None  "
      ]
     },
     "execution_count": 31,
     "metadata": {},
     "output_type": "execute_result"
    }
   ],
   "source": [
    "df1[df1[\"b\"].isnull()]\n"
   ]
  },
  {
   "cell_type": "markdown",
   "metadata": {},
   "source": [
    "### b 列 中没有的值 copy a列的: 特别注意！"
   ]
  },
  {
   "cell_type": "code",
   "execution_count": 32,
   "metadata": {},
   "outputs": [
    {
     "name": "stdout",
     "output_type": "stream",
     "text": [
      "<class 'pandas.core.frame.DataFrame'>\n",
      "Int64Index: 206 entries, 34030 to 36731\n",
      "Data columns (total 2 columns):\n",
      "a    206 non-null object\n",
      "b    206 non-null object\n",
      "dtypes: object(2)\n",
      "memory usage: 14.8+ KB\n",
      "None\n"
     ]
    }
   ],
   "source": [
    "df1.loc[df1[\"b\"].isnull(), \"b\"]=df1[\"a\"]\n",
    "print(df1.info())\n"
   ]
  },
  {
   "cell_type": "markdown",
   "metadata": {},
   "source": [
    "# Concat: pd.concat([df1, df2], axis=1): df_core3"
   ]
  },
  {
   "cell_type": "code",
   "execution_count": 33,
   "metadata": {},
   "outputs": [
    {
     "name": "stdout",
     "output_type": "stream",
     "text": [
      "<class 'pandas.core.frame.DataFrame'>\n",
      "Int64Index: 206 entries, 34030 to 36731\n",
      "Data columns (total 6 columns):\n",
      "时间     206 non-null object\n",
      "联系人    206 non-null object\n",
      "微信号    206 non-null object\n",
      "消息     206 non-null object\n",
      "a      206 non-null object\n",
      "b      206 non-null object\n",
      "dtypes: object(6)\n",
      "memory usage: 21.3+ KB\n",
      "None\n"
     ]
    },
    {
     "data": {
      "text/html": [
       "<div>\n",
       "<style scoped>\n",
       "    .dataframe tbody tr th:only-of-type {\n",
       "        vertical-align: middle;\n",
       "    }\n",
       "\n",
       "    .dataframe tbody tr th {\n",
       "        vertical-align: top;\n",
       "    }\n",
       "\n",
       "    .dataframe thead th {\n",
       "        text-align: right;\n",
       "    }\n",
       "</style>\n",
       "<table border=\"1\" class=\"dataframe\">\n",
       "  <thead>\n",
       "    <tr style=\"text-align: right;\">\n",
       "      <th></th>\n",
       "      <th>时间</th>\n",
       "      <th>联系人</th>\n",
       "      <th>微信号</th>\n",
       "      <th>消息</th>\n",
       "      <th>a</th>\n",
       "      <th>b</th>\n",
       "    </tr>\n",
       "  </thead>\n",
       "  <tbody>\n",
       "    <tr>\n",
       "      <td>34341</td>\n",
       "      <td>2022-02-23 14:56:15</td>\n",
       "      <td>公司 澳盛集团??Carol瑶瑶</td>\n",
       "      <td>Carolyaoyao</td>\n",
       "      <td>重新上市???? 【项目地址】 U3/787 Station St，Box Hill North 【授权类型】General listing by Carol 【佣金??】1.5%incl gst 【价格】110-115万 【房源状态】五年新Townhouse 【房源描述】??独栋不连墙！没有物业费！独立车道??五年新4房townhouse，一地三套最里面安静的U3！位置相当好！走路5分钟到Boxhill公园，再走5分钟到Boxhill centre[呲牙] 车道在后面的小路 不在station st上 车库门口可以停车。占地200左右，室内160左右。 https://www.dropbox.com/sh/5ce16ihbkg8slmt/AABYW9rK-mmvT0ogfj3oB71Ca?dl=0</td>\n",
       "      <td>重新上市???? 【项目地址】 U3/787 Station St，Box Hill North 【授权类型】General listing by Carol 【佣金??】1.5%incl gst 【价格】110-115万 【房源状态】五年新Townhouse</td>\n",
       "      <td>??独栋不连墙！没有物业费！独立车道??五年新4房townhouse，一地三套最里面安静的U3！位置相当好！走路5分钟到Boxhill公园，再走5分钟到Boxhill centre[呲牙] 车道在后面的小路 不在station st上 车库门口可以停车。占地200左右，室内160左右。 https://www.dropbox.com/sh/5ce16ihbkg8slmt/AABYW9rK-mmvT0ogfj3oB71Ca?dl=0</td>\n",
       "    </tr>\n",
       "    <tr>\n",
       "      <td>34595</td>\n",
       "      <td>2022-02-25 17:59:13</td>\n",
       "      <td>公司 澳盛集团??Boxhill</td>\n",
       "      <td>wxid_vz1d02xdx5dr22</td>\n",
       "      <td>wxid_vz1d02xdx5dr22: &lt;?xml version=\"1.0\"?&gt; &lt;msg&gt; &lt;appmsg appid=\"\" sdkver=\"0\"&gt; &lt;title&gt;7 Annette Court, Endeavour Hills General listing by Lily 详情请看引用??&lt;/title&gt; &lt;des /&gt; &lt;action /&gt; &lt;type&gt;57&lt;/type&gt; &lt;showtype&gt;0&lt;/showtype&gt; &lt;soundtype&gt;0&lt;/soundtype&gt; &lt;mediatagname /&gt; &lt;messageext /&gt; &lt;messageaction /&gt; &lt;content /&gt; &lt;contentattr&gt;0&lt;/contentattr&gt; &lt;url /&gt; &lt;lowurl /&gt; &lt;dataurl /&gt; &lt;lowdataurl /&gt; &lt;appattach&gt; &lt;totallen&gt;0&lt;/totallen&gt; &lt;attachid /&gt; &lt;emoticonmd5&gt;&lt;/emoticonmd5&gt; &lt;fileext /&gt; &lt;aeskey&gt;&lt;/aeskey&gt; &lt;/appattach&gt; &lt;extinfo /&gt; &lt;sourceusername /&gt; &lt;sourcedisplayname /&gt; &lt;thumburl /&gt; &lt;md5 /&gt; &lt;statextstr /&gt; &lt;refermsg...</td>\n",
       "      <td>wxid_vz1d02xdx5dr22: &lt;?xml version=\"1.0\"?&gt; &lt;msg&gt; &lt;appmsg appid=\"\" sdkver=\"0\"&gt; &lt;title&gt;7 Annette Court, Endeavour Hills General listing by Lily 详情请看引用??&lt;/title&gt; &lt;des /&gt; &lt;action /&gt; &lt;type&gt;57&lt;/type&gt; &lt;showtype&gt;0&lt;/showtype&gt; &lt;soundtype&gt;0&lt;/soundtype&gt; &lt;mediatagname /&gt; &lt;messageext /&gt; &lt;messageaction /&gt; &lt;content /&gt; &lt;contentattr&gt;0&lt;/contentattr&gt; &lt;url /&gt; &lt;lowurl /&gt; &lt;dataurl /&gt; &lt;lowdataurl /&gt; &lt;appattach&gt; &lt;totallen&gt;0&lt;/totallen&gt; &lt;attachid /&gt; &lt;emoticonmd5&gt;&lt;/emoticonmd5&gt; &lt;fileext /&gt; &lt;aeskey&gt;&lt;/aeskey&gt; &lt;/appattach&gt; &lt;extinfo /&gt; &lt;sourceusername /&gt; &lt;sourcedisplayname /&gt; &lt;thumburl /&gt; &lt;md5 /&gt; &lt;statextstr /&gt; &lt;refermsg...</td>\n",
       "      <td>位于Endeavour Hills中心位置，走路10分钟到Endeavour Hills Shopping Center, 开车8分钟到Churchill National Park和Dandenong Market，2分钟到Monash Freeway。 https://www.dropbox.com/sh/clacaluan3yuq69/AAC4cQqOtqvsvExEjqwRPKmUa?dl=0&lt;/content&gt; &lt;msgsource&gt;&amp;lt;msgsource&amp;gt; &amp;lt;bizflag&amp;gt;0&amp;lt;/bizflag&amp;gt; &amp;lt;alnode&amp;gt; &amp;lt;inlenlist&amp;gt;355&amp;lt;/inlenlist&amp;gt; &amp;lt;/alnode&amp;gt; &amp;lt;silence&amp;gt;1&amp;lt;/silence&amp;gt; &amp;lt;membercount&amp;gt;159&amp;lt;/membercount&amp;gt; &amp;lt;signature&amp;gt;v1_n2fvnhN/&amp;lt;/signature&amp;gt; &amp;lt;/msgsource&amp;gt; &lt;/msgsource&gt; &lt;/refermsg&gt; &lt;/appmsg&gt; &lt;fromusername&gt;wxid_vz1d02xdx5dr22&lt;/fromusername&gt; &lt;scene&gt;0&lt;/scene&gt; &lt;appinfo...</td>\n",
       "    </tr>\n",
       "    <tr>\n",
       "      <td>36169</td>\n",
       "      <td>2022-03-11 18:41:01</td>\n",
       "      <td>公司 澳盛集团??Mia Li</td>\n",
       "      <td>littlegost0519</td>\n",
       "      <td>更新：明天11:00-11:30am开放，欢迎带客人前来，unit2降价！ 【项目名称】49 Turana street, Doncaster. Doncaster 【项目地址】2/49 Turana street, Doncaster. Doncaster 【授权类型】New exclusvie listing updated by Mia Li &amp; Nicole Du 【佣金??】2.2% 【价格】$86万+ 【房源状态】全新现房townhouse 【房源描述】最高性价比来了！一地六套全新现房联排，位置超级好，550米步行约7分钟到达Westfield，餐饮娱乐等一应俱全，公交枢纽、高分学校、绿地公园等均在五分钟步行范围内。 用材高档，全套Miele高端厨电、欧式纹理橱柜、橡木地板、楼梯地灯、三菱大功率冷暖空调等。室内面积128平，unit2: 2室+1书房2.5卫1.5车位，unit2-5是同一户型，unit1有客人感兴趣可以出价。密码锁随时可看房https://www.dropbox.com/sh/zb21l0kapkhqu23/AAAvaQ_b_HcftCNgV_M62-efa?dl=0</td>\n",
       "      <td>更新：明天11:00-11:30am开放，欢迎带客人前来，unit2降价！ 【项目名称】49 Turana street, Doncaster. Doncaster 【项目地址】2/49 Turana street, Doncaster. Doncaster 【授权类型】New exclusvie listing updated by Mia Li &amp; Nicole Du 【佣金??】2.2% 【价格】$86万+ 【房源状态】全新现房townhouse</td>\n",
       "      <td>最高性价比来了！一地六套全新现房联排，位置超级好，550米步行约7分钟到达Westfield，餐饮娱乐等一应俱全，公交枢纽、高分学校、绿地公园等均在五分钟步行范围内。 用材高档，全套Miele高端厨电、欧式纹理橱柜、橡木地板、楼梯地灯、三菱大功率冷暖空调等。室内面积128平，unit2: 2室+1书房2.5卫1.5车位，unit2-5是同一户型，unit1有客人感兴趣可以出价。密码锁随时可看房https://www.dropbox.com/sh/zb21l0kapkhqu23/AAAvaQ_b_HcftCNgV_M62-efa?dl=0</td>\n",
       "    </tr>\n",
       "  </tbody>\n",
       "</table>\n",
       "</div>"
      ],
      "text/plain": [
       "                        时间               联系人                  微信号  \\\n",
       "34341  2022-02-23 14:56:15  公司 澳盛集团??Carol瑶瑶          Carolyaoyao   \n",
       "34595  2022-02-25 17:59:13  公司 澳盛集团??Boxhill  wxid_vz1d02xdx5dr22   \n",
       "36169  2022-03-11 18:41:01   公司 澳盛集团??Mia Li       littlegost0519   \n",
       "\n",
       "                                                                                                                                                                                                                                                                                                                                                                                                                                                                                                                                                                                                                            消息  \\\n",
       "34341                                                                                                                                                                                                                                                       重新上市???? 【项目地址】 U3/787 Station St，Box Hill North 【授权类型】General listing by Carol 【佣金??】1.5%incl gst 【价格】110-115万 【房源状态】五年新Townhouse 【房源描述】??独栋不连墙！没有物业费！独立车道??五年新4房townhouse，一地三套最里面安静的U3！位置相当好！走路5分钟到Boxhill公园，再走5分钟到Boxhill centre[呲牙] 车道在后面的小路 不在station st上 车库门口可以停车。占地200左右，室内160左右。 https://www.dropbox.com/sh/5ce16ihbkg8slmt/AABYW9rK-mmvT0ogfj3oB71Ca?dl=0   \n",
       "34595  wxid_vz1d02xdx5dr22: <?xml version=\"1.0\"?> <msg> <appmsg appid=\"\" sdkver=\"0\"> <title>7 Annette Court, Endeavour Hills General listing by Lily 详情请看引用??</title> <des /> <action /> <type>57</type> <showtype>0</showtype> <soundtype>0</soundtype> <mediatagname /> <messageext /> <messageaction /> <content /> <contentattr>0</contentattr> <url /> <lowurl /> <dataurl /> <lowdataurl /> <appattach> <totallen>0</totallen> <attachid /> <emoticonmd5></emoticonmd5> <fileext /> <aeskey></aeskey> </appattach> <extinfo /> <sourceusername /> <sourcedisplayname /> <thumburl /> <md5 /> <statextstr /> <refermsg...   \n",
       "36169                                                                                               更新：明天11:00-11:30am开放，欢迎带客人前来，unit2降价！ 【项目名称】49 Turana street, Doncaster. Doncaster 【项目地址】2/49 Turana street, Doncaster. Doncaster 【授权类型】New exclusvie listing updated by Mia Li & Nicole Du 【佣金??】2.2% 【价格】$86万+ 【房源状态】全新现房townhouse 【房源描述】最高性价比来了！一地六套全新现房联排，位置超级好，550米步行约7分钟到达Westfield，餐饮娱乐等一应俱全，公交枢纽、高分学校、绿地公园等均在五分钟步行范围内。 用材高档，全套Miele高端厨电、欧式纹理橱柜、橡木地板、楼梯地灯、三菱大功率冷暖空调等。室内面积128平，unit2: 2室+1书房2.5卫1.5车位，unit2-5是同一户型，unit1有客人感兴趣可以出价。密码锁随时可看房https://www.dropbox.com/sh/zb21l0kapkhqu23/AAAvaQ_b_HcftCNgV_M62-efa?dl=0   \n",
       "\n",
       "                                                                                                                                                                                                                                                                                                                                                                                                                                                                                                                                                                                                                             a  \\\n",
       "34341                                                                                                                                                                                                                                                                                                                                                                                                                                                                                      重新上市???? 【项目地址】 U3/787 Station St，Box Hill North 【授权类型】General listing by Carol 【佣金??】1.5%incl gst 【价格】110-115万 【房源状态】五年新Townhouse    \n",
       "34595  wxid_vz1d02xdx5dr22: <?xml version=\"1.0\"?> <msg> <appmsg appid=\"\" sdkver=\"0\"> <title>7 Annette Court, Endeavour Hills General listing by Lily 详情请看引用??</title> <des /> <action /> <type>57</type> <showtype>0</showtype> <soundtype>0</soundtype> <mediatagname /> <messageext /> <messageaction /> <content /> <contentattr>0</contentattr> <url /> <lowurl /> <dataurl /> <lowdataurl /> <appattach> <totallen>0</totallen> <attachid /> <emoticonmd5></emoticonmd5> <fileext /> <aeskey></aeskey> </appattach> <extinfo /> <sourceusername /> <sourcedisplayname /> <thumburl /> <md5 /> <statextstr /> <refermsg...   \n",
       "36169                                                                                                                                                                                                                                                                                                                                                                                    更新：明天11:00-11:30am开放，欢迎带客人前来，unit2降价！ 【项目名称】49 Turana street, Doncaster. Doncaster 【项目地址】2/49 Turana street, Doncaster. Doncaster 【授权类型】New exclusvie listing updated by Mia Li & Nicole Du 【佣金??】2.2% 【价格】$86万+ 【房源状态】全新现房townhouse    \n",
       "\n",
       "                                                                                                                                                                                                                                                                                                                                                                                                                                                                                                                                                                                                                             b  \n",
       "34341                                                                                                                                                                                                                                                                                                                                                                                                ??独栋不连墙！没有物业费！独立车道??五年新4房townhouse，一地三套最里面安静的U3！位置相当好！走路5分钟到Boxhill公园，再走5分钟到Boxhill centre[呲牙] 车道在后面的小路 不在station st上 车库门口可以停车。占地200左右，室内160左右。 https://www.dropbox.com/sh/5ce16ihbkg8slmt/AABYW9rK-mmvT0ogfj3oB71Ca?dl=0  \n",
       "34595  位于Endeavour Hills中心位置，走路10分钟到Endeavour Hills Shopping Center, 开车8分钟到Churchill National Park和Dandenong Market，2分钟到Monash Freeway。 https://www.dropbox.com/sh/clacaluan3yuq69/AAC4cQqOtqvsvExEjqwRPKmUa?dl=0</content> <msgsource>&lt;msgsource&gt; &lt;bizflag&gt;0&lt;/bizflag&gt; &lt;alnode&gt; &lt;inlenlist&gt;355&lt;/inlenlist&gt; &lt;/alnode&gt; &lt;silence&gt;1&lt;/silence&gt; &lt;membercount&gt;159&lt;/membercount&gt; &lt;signature&gt;v1_n2fvnhN/&lt;/signature&gt; &lt;/msgsource&gt; </msgsource> </refermsg> </appmsg> <fromusername>wxid_vz1d02xdx5dr22</fromusername> <scene>0</scene> <appinfo...  \n",
       "36169                                                                                                                                                                                                                                                                                                                                          最高性价比来了！一地六套全新现房联排，位置超级好，550米步行约7分钟到达Westfield，餐饮娱乐等一应俱全，公交枢纽、高分学校、绿地公园等均在五分钟步行范围内。 用材高档，全套Miele高端厨电、欧式纹理橱柜、橡木地板、楼梯地灯、三菱大功率冷暖空调等。室内面积128平，unit2: 2室+1书房2.5卫1.5车位，unit2-5是同一户型，unit1有客人感兴趣可以出价。密码锁随时可看房https://www.dropbox.com/sh/zb21l0kapkhqu23/AAAvaQ_b_HcftCNgV_M62-efa?dl=0  "
      ]
     },
     "execution_count": 33,
     "metadata": {},
     "output_type": "execute_result"
    }
   ],
   "source": [
    "df_core=pd.concat([df_origin4,df1],axis=1)\n",
    "\n",
    "print(df_core.info())\n",
    "df_core.sample(3)"
   ]
  },
  {
   "cell_type": "markdown",
   "metadata": {},
   "source": [
    "### Check Null:"
   ]
  },
  {
   "cell_type": "code",
   "execution_count": 34,
   "metadata": {},
   "outputs": [
    {
     "data": {
      "text/html": [
       "<div>\n",
       "<style scoped>\n",
       "    .dataframe tbody tr th:only-of-type {\n",
       "        vertical-align: middle;\n",
       "    }\n",
       "\n",
       "    .dataframe tbody tr th {\n",
       "        vertical-align: top;\n",
       "    }\n",
       "\n",
       "    .dataframe thead th {\n",
       "        text-align: right;\n",
       "    }\n",
       "</style>\n",
       "<table border=\"1\" class=\"dataframe\">\n",
       "  <thead>\n",
       "    <tr style=\"text-align: right;\">\n",
       "      <th></th>\n",
       "      <th>时间</th>\n",
       "      <th>联系人</th>\n",
       "      <th>微信号</th>\n",
       "      <th>消息</th>\n",
       "      <th>a</th>\n",
       "      <th>b</th>\n",
       "    </tr>\n",
       "  </thead>\n",
       "  <tbody>\n",
       "  </tbody>\n",
       "</table>\n",
       "</div>"
      ],
      "text/plain": [
       "Empty DataFrame\n",
       "Columns: [时间, 联系人, 微信号, 消息, a, b]\n",
       "Index: []"
      ]
     },
     "execution_count": 34,
     "metadata": {},
     "output_type": "execute_result"
    }
   ],
   "source": [
    "df_core[df_core[\"b\"].isnull()]"
   ]
  },
  {
   "cell_type": "markdown",
   "metadata": {},
   "source": [
    "PS: 【房源描述  --  所以没有被分割出来！！！！！！"
   ]
  },
  {
   "cell_type": "code",
   "execution_count": 35,
   "metadata": {},
   "outputs": [
    {
     "name": "stdout",
     "output_type": "stream",
     "text": [
      "<class 'pandas.core.frame.DataFrame'>\n",
      "Int64Index: 206 entries, 34030 to 36731\n",
      "Data columns (total 5 columns):\n",
      "时间      206 non-null object\n",
      "联系人     206 non-null object\n",
      "微信号     206 non-null object\n",
      "目标      206 non-null object\n",
      "房源描述    206 non-null object\n",
      "dtypes: object(5)\n",
      "memory usage: 19.7+ KB\n",
      "None\n"
     ]
    },
    {
     "data": {
      "text/html": [
       "<div>\n",
       "<style scoped>\n",
       "    .dataframe tbody tr th:only-of-type {\n",
       "        vertical-align: middle;\n",
       "    }\n",
       "\n",
       "    .dataframe tbody tr th {\n",
       "        vertical-align: top;\n",
       "    }\n",
       "\n",
       "    .dataframe thead th {\n",
       "        text-align: right;\n",
       "    }\n",
       "</style>\n",
       "<table border=\"1\" class=\"dataframe\">\n",
       "  <thead>\n",
       "    <tr style=\"text-align: right;\">\n",
       "      <th></th>\n",
       "      <th>时间</th>\n",
       "      <th>联系人</th>\n",
       "      <th>微信号</th>\n",
       "      <th>目标</th>\n",
       "      <th>房源描述</th>\n",
       "    </tr>\n",
       "  </thead>\n",
       "  <tbody>\n",
       "    <tr>\n",
       "      <td>34903</td>\n",
       "      <td>2022-03-01 10:49:00</td>\n",
       "      <td>澳盛Kemmy.F</td>\n",
       "      <td>kemmy123</td>\n",
       "      <td>【项目名称】Sapphire by the Gardens 【项目地址】2005/ 308 Exhibition St, Melbourne VIC 3000 【授权类型】nomination 【授权已提交公司】Yes 【佣金??】5% 【价格】合同价$595,300 【房源状态】准现房</td>\n",
       "      <td>CBD楼王 - Sapphire by the Gardens香格里拉公园景！！！ 1房+study， unit 2005， 户型朝东54.2平米。隔壁的楼是10多层的住宅。香格里拉有两栋楼，东边的是公寓，西边的是酒店，所以我们20楼朝东不遮挡。合同价$595,300, 包含了$3,300的房间木地板升级。佣金5%含gst。 https://www.dropbox.com/sh/4hq2n3r9zzlsbyr/AAAF-fqm9-W3BeEj0g2QlvWla?dl=0</td>\n",
       "    </tr>\n",
       "    <tr>\n",
       "      <td>35392</td>\n",
       "      <td>2022-03-04 20:08:41</td>\n",
       "      <td>????澳盛Lina</td>\n",
       "      <td>wxid_sre9ntea0ncp12</td>\n",
       "      <td>【项目地址】11A thea Grove Doncaster east 【授权类型】General listing by Lina Wang 【授权已提交公司】Yes 【佣金】1.5% including GST 【价格】135-145万，接受出价 【房源状态】全新现房（30/60/90天）</td>\n",
       "      <td>（网上有Local广告，我们的也马上有，门口没有板子??）Beverley Hills小学校区步行5分钟。Doncaster east全新现代法式外观大三房豪华townhouse，适合追求高品质装修人群。一开三，独立title无物业费，绝佳公园景。纯手工实木大门，美国lockly智能门锁3D指纹蓝牙操控，纯羊毛地毯，三菱中央空调plus全屋壁挂电供暖器，报警器和可视对讲器，全套Miele顶配 900MM厨房四件套，无缝马桶完全匹配松下智能马桶盖留有预置插座，浴室配有自动烘干浴巾架，全屋顶级卷轴布料纹理双层景观窗帘等等。欢迎大家提前预约客人去现场感受。https://www.dropbox.com/sh/f81bu0imtlwlpt3/AAD1_ymE6O4MzZgnbNTMNzY_a?dl=0</td>\n",
       "    </tr>\n",
       "  </tbody>\n",
       "</table>\n",
       "</div>"
      ],
      "text/plain": [
       "                        时间         联系人                  微信号  \\\n",
       "34903  2022-03-01 10:49:00   澳盛Kemmy.F             kemmy123   \n",
       "35392  2022-03-04 20:08:41  ????澳盛Lina  wxid_sre9ntea0ncp12   \n",
       "\n",
       "                                                                                                                                                        目标  \\\n",
       "34903    【项目名称】Sapphire by the Gardens 【项目地址】2005/ 308 Exhibition St, Melbourne VIC 3000 【授权类型】nomination 【授权已提交公司】Yes 【佣金??】5% 【价格】合同价$595,300 【房源状态】准现房    \n",
       "35392  【项目地址】11A thea Grove Doncaster east 【授权类型】General listing by Lina Wang 【授权已提交公司】Yes 【佣金】1.5% including GST 【价格】135-145万，接受出价 【房源状态】全新现房（30/60/90天）    \n",
       "\n",
       "                                                                                                                                                                                                                                                                                                                                                                  房源描述  \n",
       "34903                                                                                                                    CBD楼王 - Sapphire by the Gardens香格里拉公园景！！！ 1房+study， unit 2005， 户型朝东54.2平米。隔壁的楼是10多层的住宅。香格里拉有两栋楼，东边的是公寓，西边的是酒店，所以我们20楼朝东不遮挡。合同价$595,300, 包含了$3,300的房间木地板升级。佣金5%含gst。 https://www.dropbox.com/sh/4hq2n3r9zzlsbyr/AAAF-fqm9-W3BeEj0g2QlvWla?dl=0  \n",
       "35392  （网上有Local广告，我们的也马上有，门口没有板子??）Beverley Hills小学校区步行5分钟。Doncaster east全新现代法式外观大三房豪华townhouse，适合追求高品质装修人群。一开三，独立title无物业费，绝佳公园景。纯手工实木大门，美国lockly智能门锁3D指纹蓝牙操控，纯羊毛地毯，三菱中央空调plus全屋壁挂电供暖器，报警器和可视对讲器，全套Miele顶配 900MM厨房四件套，无缝马桶完全匹配松下智能马桶盖留有预置插座，浴室配有自动烘干浴巾架，全屋顶级卷轴布料纹理双层景观窗帘等等。欢迎大家提前预约客人去现场感受。https://www.dropbox.com/sh/f81bu0imtlwlpt3/AAD1_ymE6O4MzZgnbNTMNzY_a?dl=0  "
      ]
     },
     "execution_count": 35,
     "metadata": {},
     "output_type": "execute_result"
    }
   ],
   "source": [
    "\n",
    "df_core2 = df_core.drop(columns=[\"消息\"])\n",
    "df_core2.columns=['时间','联系人','微信号','目标','房源描述']  #改名\n",
    "\n",
    "print(df_core2.info())\n",
    "df_core2.sample(2)\n",
    "\n"
   ]
  },
  {
   "cell_type": "markdown",
   "metadata": {},
   "source": [
    "# 查看 房源描述 的 Duplicates: df_core3"
   ]
  },
  {
   "cell_type": "code",
   "execution_count": 36,
   "metadata": {},
   "outputs": [
    {
     "name": "stdout",
     "output_type": "stream",
     "text": [
      "44 个 Duplicates\n"
     ]
    }
   ],
   "source": [
    "check2=df_core2[\"房源描述\"].duplicated().sum()  # .item() convert numpy int to int\n",
    "print(f\"{check2} 个 Duplicates\") "
   ]
  },
  {
   "cell_type": "code",
   "execution_count": 37,
   "metadata": {},
   "outputs": [
    {
     "name": "stdout",
     "output_type": "stream",
     "text": [
      "<class 'pandas.core.frame.DataFrame'>\n",
      "Int64Index: 162 entries, 34030 to 36731\n",
      "Data columns (total 5 columns):\n",
      "时间      162 non-null object\n",
      "联系人     162 non-null object\n",
      "微信号     162 non-null object\n",
      "目标      162 non-null object\n",
      "房源描述    162 non-null object\n",
      "dtypes: object(5)\n",
      "memory usage: 7.6+ KB\n",
      "None\n"
     ]
    }
   ],
   "source": [
    "df_core3=df_core2.drop_duplicates(subset=\"房源描述\")\n",
    "print(df_core3.info())"
   ]
  },
  {
   "cell_type": "markdown",
   "metadata": {},
   "source": [
    "# Split II： 把目标 弄出来"
   ]
  },
  {
   "cell_type": "markdown",
   "metadata": {},
   "source": [
    "PS：无法 Extract 因为没有规律！！"
   ]
  },
  {
   "cell_type": "markdown",
   "metadata": {},
   "source": [
    "Step 1: 先 Split 一部分 Extract 地址："
   ]
  },
  {
   "cell_type": "code",
   "execution_count": 38,
   "metadata": {},
   "outputs": [
    {
     "name": "stdout",
     "output_type": "stream",
     "text": [
      "<class 'pandas.core.frame.DataFrame'>\n",
      "Int64Index: 162 entries, 34030 to 36731\n",
      "Data columns (total 2 columns):\n",
      "目标1    157 non-null object\n",
      "目标2    2 non-null object\n",
      "dtypes: object(2)\n",
      "memory usage: 3.8+ KB\n",
      "None\n"
     ]
    },
    {
     "data": {
      "text/html": [
       "<div>\n",
       "<style scoped>\n",
       "    .dataframe tbody tr th:only-of-type {\n",
       "        vertical-align: middle;\n",
       "    }\n",
       "\n",
       "    .dataframe tbody tr th {\n",
       "        vertical-align: top;\n",
       "    }\n",
       "\n",
       "    .dataframe thead th {\n",
       "        text-align: right;\n",
       "    }\n",
       "</style>\n",
       "<table border=\"1\" class=\"dataframe\">\n",
       "  <thead>\n",
       "    <tr style=\"text-align: right;\">\n",
       "      <th></th>\n",
       "      <th>目标1</th>\n",
       "      <th>目标2</th>\n",
       "    </tr>\n",
       "  </thead>\n",
       "  <tbody>\n",
       "    <tr>\n",
       "      <td>34030</td>\n",
       "      <td>【授权类型】 【佣金??】 【价格】 【现房/准现房/期房/（请备注交割时间）】</td>\n",
       "      <td>None</td>\n",
       "    </tr>\n",
       "    <tr>\n",
       "      <td>34217</td>\n",
       "      <td>60 narrak st ,Balwyn 【授权类型】general by don 【佣金??】360-370万佣金1.5%+gst，370万2%+gst.合理offer 可谈 【价格】370-380 【现房/准现房/期房/（请备注交割时间）】现房</td>\n",
       "      <td>None</td>\n",
       "    </tr>\n",
       "    <tr>\n",
       "      <td>34221</td>\n",
       "      <td>U4/20 Burns avenue Clayton south 【授权类型】Exclusive Listing by Lina 【佣金??】2.2%含税 【价格】88-92万 【房源状态】二手Townhouse</td>\n",
       "      <td>None</td>\n",
       "    </tr>\n",
       "    <tr>\n",
       "      <td>34222</td>\n",
       "      <td>U3/34 Evelyn street Clayton。 【授权类型】Exclusive listing by lina 【佣金??】佣金3%含税。 【价格】价格98万 【房源状态】二手townhouse</td>\n",
       "      <td>None</td>\n",
       "    </tr>\n",
       "    <tr>\n",
       "      <td>34223</td>\n",
       "      <td>5/3-5 Spring road Clayton south 【授权类型】New Listing by Lina 【佣金??】佣金22000含税 【价格】885K 【房源状态】二手Townhouse</td>\n",
       "      <td>None</td>\n",
       "    </tr>\n",
       "  </tbody>\n",
       "</table>\n",
       "</div>"
      ],
      "text/plain": [
       "                                                                                                                                 目标1  \\\n",
       "34030                                                                                      【授权类型】 【佣金??】 【价格】 【现房/准现房/期房/（请备注交割时间）】    \n",
       "34217  60 narrak st ,Balwyn 【授权类型】general by don 【佣金??】360-370万佣金1.5%+gst，370万2%+gst.合理offer 可谈 【价格】370-380 【现房/准现房/期房/（请备注交割时间）】现房    \n",
       "34221                    U4/20 Burns avenue Clayton south 【授权类型】Exclusive Listing by Lina 【佣金??】2.2%含税 【价格】88-92万 【房源状态】二手Townhouse    \n",
       "34222                        U3/34 Evelyn street Clayton。 【授权类型】Exclusive listing by lina 【佣金??】佣金3%含税。 【价格】价格98万 【房源状态】二手townhouse    \n",
       "34223                          5/3-5 Spring road Clayton south 【授权类型】New Listing by Lina 【佣金??】佣金22000含税 【价格】885K 【房源状态】二手Townhouse    \n",
       "\n",
       "        目标2  \n",
       "34030  None  \n",
       "34217  None  \n",
       "34221  None  \n",
       "34222  None  \n",
       "34223  None  "
      ]
     },
     "execution_count": 38,
     "metadata": {},
     "output_type": "execute_result"
    }
   ],
   "source": [
    "df_core4= df_core3['目标'].str.split('【项目地址】',expand=True).rename(columns={0:\"drop\",1:\"目标1\",2:\"目标2\"}).drop(columns=[\"drop\"])\n",
    "\n",
    "print(df_core4.info())\n",
    "df_core4.head()\n"
   ]
  },
  {
   "cell_type": "markdown",
   "metadata": {},
   "source": [
    "# Split II：Check Missing Value Part I -- notNull: df_core4 目标1 --copy to 目标2"
   ]
  },
  {
   "cell_type": "code",
   "execution_count": 39,
   "metadata": {},
   "outputs": [
    {
     "data": {
      "text/html": [
       "<div>\n",
       "<style scoped>\n",
       "    .dataframe tbody tr th:only-of-type {\n",
       "        vertical-align: middle;\n",
       "    }\n",
       "\n",
       "    .dataframe tbody tr th {\n",
       "        vertical-align: top;\n",
       "    }\n",
       "\n",
       "    .dataframe thead th {\n",
       "        text-align: right;\n",
       "    }\n",
       "</style>\n",
       "<table border=\"1\" class=\"dataframe\">\n",
       "  <thead>\n",
       "    <tr style=\"text-align: right;\">\n",
       "      <th></th>\n",
       "      <th>目标1</th>\n",
       "      <th>目标2</th>\n",
       "    </tr>\n",
       "  </thead>\n",
       "  <tbody>\n",
       "    <tr>\n",
       "      <td>34824</td>\n",
       "      <td>56-74 Station St Nunawading ??周末刚建好的展房！今天我们的勤劳@澳盛集团??Sloan-Ethan组 就冲在前线为大家安排了展房实拍图??超优秀的Sloan同学～绝对热卖的好项目，冲冲冲，咱们绝不落后于他人??????&lt;/title&gt; &lt;des /&gt; &lt;action /&gt; &lt;type&gt;57&lt;/type&gt; &lt;showtype&gt;0&lt;/showtype&gt; &lt;soundtype&gt;0&lt;/soundtype&gt; &lt;mediatagname /&gt; &lt;messageext /&gt; &lt;messageaction /&gt; &lt;content /&gt; &lt;contentattr&gt;0&lt;/contentattr&gt; &lt;url /&gt; &lt;lowurl /&gt; &lt;dataurl /&gt; &lt;lowdataurl /&gt; &lt;appattach&gt; &lt;totallen&gt;0&lt;/totallen&gt; &lt;attachid /&gt; &lt;emoticonmd5&gt;&lt;/emoticonmd5&gt; &lt;fileext /&gt; &lt;aeskey&gt;&lt;/aeskey&gt; &lt;/appattach&gt; &lt;extinfo /&gt; &lt;sourceusername /&gt; &lt;sourcedisplayname /&gt; &lt;thumburl /&gt; &lt;md5 /&gt; &lt;statextstr /&gt; &lt;refermsg&gt; &lt;type&gt;1&lt;/type&gt; &lt;svrid&gt;24...</td>\n",
       "      <td>56-74 Station St Nunawading 【授权类型】对接 listing by Yoyo yu 【授权已提交公司】Yes 【佣金??】local 佣金3.5%+GST；海外佣金3%+GST， 【价格】价格$86.5万起；现在收EOI $2000。 【房源状态】期房（预计2024年交割）</td>\n",
       "    </tr>\n",
       "    <tr>\n",
       "      <td>34976</td>\n",
       "      <td>32A Norfolk Avenue, Wantirna South, Vic 3152 【授权类型】General Listing By KAI 详情请看引用内容??&lt;/title&gt; &lt;des /&gt; &lt;action /&gt; &lt;type&gt;57&lt;/type&gt; &lt;showtype&gt;0&lt;/showtype&gt; &lt;soundtype&gt;0&lt;/soundtype&gt; &lt;mediatagname /&gt; &lt;messageext /&gt; &lt;messageaction /&gt; &lt;content /&gt; &lt;contentattr&gt;0&lt;/contentattr&gt; &lt;url /&gt; &lt;lowurl /&gt; &lt;dataurl /&gt; &lt;lowdataurl /&gt; &lt;appattach&gt; &lt;totallen&gt;0&lt;/totallen&gt; &lt;attachid /&gt; &lt;emoticonmd5&gt;&lt;/emoticonmd5&gt; &lt;fileext /&gt; &lt;aeskey&gt;&lt;/aeskey&gt; &lt;/appattach&gt; &lt;extinfo /&gt; &lt;sourceusername /&gt; &lt;sourcedisplayname /&gt; &lt;thumburl /&gt; &lt;md5 /&gt; &lt;statextstr /&gt; &lt;refermsg&gt; &lt;type&gt;1&lt;/type&gt; &lt;svrid&gt;2155669231309225319&lt;/svrid&gt; &lt;fromusr&gt;22095...</td>\n",
       "      <td>32A Norfolk Avenue, Wantirna South, Vic 3152 【授权类型】General Listing By KAI 【授权已提交公司】Yes 【佣金?】 3.3% Including Gst. 【价格】136-145万 【房源状态】side by side 期房 townhouse</td>\n",
       "    </tr>\n",
       "  </tbody>\n",
       "</table>\n",
       "</div>"
      ],
      "text/plain": [
       "                                                                                                                                                                                                                                                                                                                                                                                                                                                                                                                                                                                                                           目标1  \\\n",
       "34824  56-74 Station St Nunawading ??周末刚建好的展房！今天我们的勤劳@澳盛集团??Sloan-Ethan组 就冲在前线为大家安排了展房实拍图??超优秀的Sloan同学～绝对热卖的好项目，冲冲冲，咱们绝不落后于他人??????</title> <des /> <action /> <type>57</type> <showtype>0</showtype> <soundtype>0</soundtype> <mediatagname /> <messageext /> <messageaction /> <content /> <contentattr>0</contentattr> <url /> <lowurl /> <dataurl /> <lowdataurl /> <appattach> <totallen>0</totallen> <attachid /> <emoticonmd5></emoticonmd5> <fileext /> <aeskey></aeskey> </appattach> <extinfo /> <sourceusername /> <sourcedisplayname /> <thumburl /> <md5 /> <statextstr /> <refermsg> <type>1</type> <svrid>24...   \n",
       "34976  32A Norfolk Avenue, Wantirna South, Vic 3152 【授权类型】General Listing By KAI 详情请看引用内容??</title> <des /> <action /> <type>57</type> <showtype>0</showtype> <soundtype>0</soundtype> <mediatagname /> <messageext /> <messageaction /> <content /> <contentattr>0</contentattr> <url /> <lowurl /> <dataurl /> <lowdataurl /> <appattach> <totallen>0</totallen> <attachid /> <emoticonmd5></emoticonmd5> <fileext /> <aeskey></aeskey> </appattach> <extinfo /> <sourceusername /> <sourcedisplayname /> <thumburl /> <md5 /> <statextstr /> <refermsg> <type>1</type> <svrid>2155669231309225319</svrid> <fromusr>22095...   \n",
       "\n",
       "                                                                                                                                                                  目标2  \n",
       "34824        56-74 Station St Nunawading 【授权类型】对接 listing by Yoyo yu 【授权已提交公司】Yes 【佣金??】local 佣金3.5%+GST；海外佣金3%+GST， 【价格】价格$86.5万起；现在收EOI $2000。 【房源状态】期房（预计2024年交割）   \n",
       "34976  32A Norfolk Avenue, Wantirna South, Vic 3152 【授权类型】General Listing By KAI 【授权已提交公司】Yes 【佣金?】 3.3% Including Gst. 【价格】136-145万 【房源状态】side by side 期房 townhouse   "
      ]
     },
     "execution_count": 39,
     "metadata": {},
     "output_type": "execute_result"
    }
   ],
   "source": [
    "df_core4[df_core4[\"目标2\"].notnull()]"
   ]
  },
  {
   "cell_type": "markdown",
   "metadata": {},
   "source": [
    "PS：index 34824 和 34976 目标位置不对，那我们把所有的值 copy 到 目标2"
   ]
  },
  {
   "cell_type": "code",
   "execution_count": 40,
   "metadata": {},
   "outputs": [
    {
     "name": "stdout",
     "output_type": "stream",
     "text": [
      "<class 'pandas.core.frame.DataFrame'>\n",
      "Int64Index: 162 entries, 34030 to 36731\n",
      "Data columns (total 2 columns):\n",
      "目标1    157 non-null object\n",
      "目标2    157 non-null object\n",
      "dtypes: object(2)\n",
      "memory usage: 8.8+ KB\n",
      "None\n"
     ]
    },
    {
     "data": {
      "text/html": [
       "<div>\n",
       "<style scoped>\n",
       "    .dataframe tbody tr th:only-of-type {\n",
       "        vertical-align: middle;\n",
       "    }\n",
       "\n",
       "    .dataframe tbody tr th {\n",
       "        vertical-align: top;\n",
       "    }\n",
       "\n",
       "    .dataframe thead th {\n",
       "        text-align: right;\n",
       "    }\n",
       "</style>\n",
       "<table border=\"1\" class=\"dataframe\">\n",
       "  <thead>\n",
       "    <tr style=\"text-align: right;\">\n",
       "      <th></th>\n",
       "      <th>目标1</th>\n",
       "      <th>目标2</th>\n",
       "    </tr>\n",
       "  </thead>\n",
       "  <tbody>\n",
       "    <tr>\n",
       "      <td>35898</td>\n",
       "      <td>2 Burramine Rd，glen waverley VIC 3150 【授权类型】New Exclusive by Patrick zhao 【授权已提交公司】Yes 【佣金??】1.8% 【价格】200-220万 【房源状态】现房 大地二手独栋House</td>\n",
       "      <td>2 Burramine Rd，glen waverley VIC 3150 【授权类型】New Exclusive by Patrick zhao 【授权已提交公司】Yes 【佣金??】1.8% 【价格】200-220万 【房源状态】现房 大地二手独栋House</td>\n",
       "    </tr>\n",
       "    <tr>\n",
       "      <td>35981</td>\n",
       "      <td>Lot1012/3-43 Waterfront Way, Docklands, Vic 3008 【授权类型】New General listing by Patrick zhao 【授权已提交公司】Yes 【佣金??】110万以下佣金1.8%含gst，110万以上佣金2.2%含gst. 【价格】110万 【房源状态】现房 二手房刚刚交割不久，有租客</td>\n",
       "      <td>Lot1012/3-43 Waterfront Way, Docklands, Vic 3008 【授权类型】New General listing by Patrick zhao 【授权已提交公司】Yes 【佣金??】110万以下佣金1.8%含gst，110万以上佣金2.2%含gst. 【价格】110万 【房源状态】现房 二手房刚刚交割不久，有租客</td>\n",
       "    </tr>\n",
       "    <tr>\n",
       "      <td>34262</td>\n",
       "      <td>3/3 Kingsclere St Vermont 【授权类型】new exclusive listing by Jade&amp;子钧 【佣金??】佣金1.2%含gst，95万以上部分15%佣金 【价格】$92--96万， 【房源状态】11年新Unit</td>\n",
       "      <td>3/3 Kingsclere St Vermont 【授权类型】new exclusive listing by Jade&amp;子钧 【佣金??】佣金1.2%含gst，95万以上部分15%佣金 【价格】$92--96万， 【房源状态】11年新Unit</td>\n",
       "    </tr>\n",
       "  </tbody>\n",
       "</table>\n",
       "</div>"
      ],
      "text/plain": [
       "                                                                                                                                                                                     目标1  \\\n",
       "35898                                               2 Burramine Rd，glen waverley VIC 3150 【授权类型】New Exclusive by Patrick zhao 【授权已提交公司】Yes 【佣金??】1.8% 【价格】200-220万 【房源状态】现房 大地二手独栋House    \n",
       "35981  Lot1012/3-43 Waterfront Way, Docklands, Vic 3008 【授权类型】New General listing by Patrick zhao 【授权已提交公司】Yes 【佣金??】110万以下佣金1.8%含gst，110万以上佣金2.2%含gst. 【价格】110万 【房源状态】现房 二手房刚刚交割不久，有租客    \n",
       "34262                                                       3/3 Kingsclere St Vermont 【授权类型】new exclusive listing by Jade&子钧 【佣金??】佣金1.2%含gst，95万以上部分15%佣金 【价格】$92--96万， 【房源状态】11年新Unit    \n",
       "\n",
       "                                                                                                                                                                                     目标2  \n",
       "35898                                               2 Burramine Rd，glen waverley VIC 3150 【授权类型】New Exclusive by Patrick zhao 【授权已提交公司】Yes 【佣金??】1.8% 【价格】200-220万 【房源状态】现房 大地二手独栋House   \n",
       "35981  Lot1012/3-43 Waterfront Way, Docklands, Vic 3008 【授权类型】New General listing by Patrick zhao 【授权已提交公司】Yes 【佣金??】110万以下佣金1.8%含gst，110万以上佣金2.2%含gst. 【价格】110万 【房源状态】现房 二手房刚刚交割不久，有租客   \n",
       "34262                                                       3/3 Kingsclere St Vermont 【授权类型】new exclusive listing by Jade&子钧 【佣金??】佣金1.2%含gst，95万以上部分15%佣金 【价格】$92--96万， 【房源状态】11年新Unit   "
      ]
     },
     "metadata": {},
     "output_type": "display_data"
    }
   ],
   "source": [
    "df_core4.loc[df_core4[\"目标2\"].isnull(),\"目标2\"]=df_core4[\"目标1\"]\n",
    "print(df_core4.info())\n",
    "display(df_core4[df_core4[\"目标2\"].notnull()].sample(3))"
   ]
  },
  {
   "cell_type": "markdown",
   "metadata": {},
   "source": [
    "# Split II：Check missing value : df_core4\n"
   ]
  },
  {
   "cell_type": "markdown",
   "metadata": {},
   "source": [
    "非常注意: 5个MISSSING （153 减去 148） !! 但无法在 df_core4内部 copy，需要对比 df_core3，留在 concat之后"
   ]
  },
  {
   "cell_type": "code",
   "execution_count": 41,
   "metadata": {},
   "outputs": [
    {
     "data": {
      "text/html": [
       "<div>\n",
       "<style scoped>\n",
       "    .dataframe tbody tr th:only-of-type {\n",
       "        vertical-align: middle;\n",
       "    }\n",
       "\n",
       "    .dataframe tbody tr th {\n",
       "        vertical-align: top;\n",
       "    }\n",
       "\n",
       "    .dataframe thead th {\n",
       "        text-align: right;\n",
       "    }\n",
       "</style>\n",
       "<table border=\"1\" class=\"dataframe\">\n",
       "  <thead>\n",
       "    <tr style=\"text-align: right;\">\n",
       "      <th></th>\n",
       "      <th>目标1</th>\n",
       "      <th>目标2</th>\n",
       "    </tr>\n",
       "  </thead>\n",
       "  <tbody>\n",
       "    <tr>\n",
       "      <td>34836</td>\n",
       "      <td>None</td>\n",
       "      <td>None</td>\n",
       "    </tr>\n",
       "    <tr>\n",
       "      <td>34909</td>\n",
       "      <td>None</td>\n",
       "      <td>None</td>\n",
       "    </tr>\n",
       "    <tr>\n",
       "      <td>34910</td>\n",
       "      <td>None</td>\n",
       "      <td>None</td>\n",
       "    </tr>\n",
       "    <tr>\n",
       "      <td>34913</td>\n",
       "      <td>None</td>\n",
       "      <td>None</td>\n",
       "    </tr>\n",
       "    <tr>\n",
       "      <td>35550</td>\n",
       "      <td>None</td>\n",
       "      <td>None</td>\n",
       "    </tr>\n",
       "  </tbody>\n",
       "</table>\n",
       "</div>"
      ],
      "text/plain": [
       "        目标1   目标2\n",
       "34836  None  None\n",
       "34909  None  None\n",
       "34910  None  None\n",
       "34913  None  None\n",
       "35550  None  None"
      ]
     },
     "execution_count": 41,
     "metadata": {},
     "output_type": "execute_result"
    }
   ],
   "source": [
    "df_core4[df_core4[\"目标1\"].isnull()]"
   ]
  },
  {
   "cell_type": "markdown",
   "metadata": {},
   "source": [
    "Find missed value in original df:"
   ]
  },
  {
   "cell_type": "markdown",
   "metadata": {},
   "source": [
    "PS: 非常注意 iloc or loc --- select index\n",
    "\n",
    "PS: 而用 .index() -- row number"
   ]
  },
  {
   "cell_type": "code",
   "execution_count": 42,
   "metadata": {},
   "outputs": [
    {
     "data": {
      "text/html": [
       "<div>\n",
       "<style scoped>\n",
       "    .dataframe tbody tr th:only-of-type {\n",
       "        vertical-align: middle;\n",
       "    }\n",
       "\n",
       "    .dataframe tbody tr th {\n",
       "        vertical-align: top;\n",
       "    }\n",
       "\n",
       "    .dataframe thead th {\n",
       "        text-align: right;\n",
       "    }\n",
       "</style>\n",
       "<table border=\"1\" class=\"dataframe\">\n",
       "  <thead>\n",
       "    <tr style=\"text-align: right;\">\n",
       "      <th></th>\n",
       "      <th>时间</th>\n",
       "      <th>联系人</th>\n",
       "      <th>微信号</th>\n",
       "      <th>目标</th>\n",
       "      <th>房源描述</th>\n",
       "    </tr>\n",
       "  </thead>\n",
       "  <tbody>\n",
       "    <tr>\n",
       "      <td>34836</td>\n",
       "      <td>2022-02-28 18:15:03</td>\n",
       "      <td>澳盛集团??红丽</td>\n",
       "      <td>wxid_ptm5ddyvqjon12</td>\n",
       "      <td>【授权类型】Exclusive Listing by Susan hu &amp; Hongli Zhang 【授权已提交公司】Yes 【佣金??】出售商铺物业$90万以上是佣金 【价格】统一报价$ 98万澳币 【房源状态】现房商铺</td>\n",
       "      <td>北区成熟社区商铺出售，面积 459平方米，双砖建筑墙体，层高 3米 以上，全装修，带2个车位，有租约 15年（5+5+5），年租金$50000, 年Council rate $6800,由租客支付。</td>\n",
       "    </tr>\n",
       "    <tr>\n",
       "      <td>34909</td>\n",
       "      <td>2022-03-01 11:13:47</td>\n",
       "      <td>公司 澳盛集团????yoyo??</td>\n",
       "      <td>q15630185</td>\n",
       "      <td>【项目名称】west side place gold release 【项目地址]2906D/ 250 spencer St, Melbourne VIC 3000 【授权类型】nomination 【授权已提交公司】Yes 【佣金??】5% 【价格】合同价$532,400 【房源状态】8,9月交房</td>\n",
       "      <td>CBD楼王 - 商业综合体项目，1房?1书房，面积57平米朝北，原始合同签于2017年6月25日，省印花税。https://www.dropbox.com/sh/41ih0ixy4m7b17x/AACpMDQa5KGXAzXCWHMK-V7Ma?dl=0</td>\n",
       "    </tr>\n",
       "    <tr>\n",
       "      <td>34910</td>\n",
       "      <td>2022-03-01 11:16:59</td>\n",
       "      <td>公司 澳盛集团?? Lazio</td>\n",
       "      <td>lazio61707927</td>\n",
       "      <td>【项目名称】west side place 塔A 【项目地址]2407A/250 spencer St, Melbourne VIC 3000 【授权类型】nomination 【授权已提交公司】Yes 【佣金??】7% 【价格】合同价$519200 【房源状态】1个月</td>\n",
       "      <td>CBD楼王 - 商业综合体项目，2407A属于朝北当年一抢而空的价格非常好的朝北户型。面积54.83平。1房1卫很好出租户型。 https://www.dropbox.com/sh/bo2ss4kpjh6on4u/AADWUygRNIeWIsey6sO-7OHNa?dl=0</td>\n",
       "    </tr>\n",
       "    <tr>\n",
       "      <td>34913</td>\n",
       "      <td>2022-03-01 11:21:52</td>\n",
       "      <td>公司 澳盛集团????yoyo??</td>\n",
       "      <td>q15630185</td>\n",
       "      <td>q15630185: &lt;?xml version=\"1.0\"?&gt; &lt;msg&gt; &lt;appmsg appid=\"\" sdkver=\"0\"&gt; &lt;title&gt;哈哈哈，listing agent [大哭]&lt;/title&gt; &lt;des /&gt; &lt;action /&gt; &lt;type&gt;57&lt;/type&gt; &lt;showtype&gt;0&lt;/showtype&gt; &lt;soundtype&gt;0&lt;/soundtype&gt; &lt;mediatagname /&gt; &lt;messageext /&gt; &lt;messageaction /&gt; &lt;content /&gt; &lt;contentattr&gt;0&lt;/contentattr&gt; &lt;url /&gt; &lt;lowurl /&gt; &lt;dataurl /&gt; &lt;lowdataurl /&gt; &lt;songalbumurl /&gt; &lt;songlyric /&gt; &lt;appattach&gt; &lt;totallen&gt;0&lt;/totallen&gt; &lt;attachid /&gt; &lt;emoticonmd5 /&gt; &lt;fileext /&gt; &lt;cdnthumbaeskey /&gt; &lt;aeskey /&gt; &lt;/appattach&gt; &lt;extinfo /&gt; &lt;sourceusername /&gt; &lt;sourcedisplayname /&gt; &lt;thumburl /&gt; &lt;md5 /&gt; &lt;statextstr /&gt; &lt;directshare&gt;0&lt;/directshare&gt; &lt;r...</td>\n",
       "      <td>CBD楼王 - 商业综合体项目，2407A属于朝北当年一抢而空的价格非常好的朝北户型。面积54.83平。1房1卫很好出租户型。 https://www.dropbox.com/sh/bo2ss4kpjh6on4u/AADWUygRNIeWIsey6sO-7OHNa?dl=0&lt;/content&gt; &lt;msgsource&gt;&amp;lt;msgsource&amp;gt;&amp;lt;sequence_id&amp;gt;762071651&amp;lt;/sequence_id&amp;gt; &amp;lt;bizflag&amp;gt;0&amp;lt;/bizflag&amp;gt; &amp;lt;silence&amp;gt;1&amp;lt;/silence&amp;gt; &amp;lt;membercount&amp;gt;155&amp;lt;/membercount&amp;gt; &amp;lt;signature&amp;gt;v1_e6DabgBv&amp;lt;/signature&amp;gt; &amp;lt;/msgsource&amp;gt; &lt;/msgsource&gt; &lt;/refermsg&gt; &lt;/appmsg&gt; &lt;fromusername&gt;q15630185&lt;/fromusername&gt; &lt;scene&gt;0&lt;/scene&gt; &lt;appinfo&gt; &lt;version&gt;1&lt;/version&gt; &lt;appname&gt;&lt;/appname&gt; &lt;/appinfo&gt; &lt;commenturl&gt;&lt;/commenturl&gt; &lt;/msg&gt;</td>\n",
       "    </tr>\n",
       "    <tr>\n",
       "      <td>35550</td>\n",
       "      <td>2022-03-06 14:18:15</td>\n",
       "      <td>公司 澳盛集团??Xin-房产移民投</td>\n",
       "      <td>wxid_ehyn614k32xr22</td>\n",
       "      <td>【项目名称】豪华庄园 【授权类型] 对接listing by Annabella and Xin 【授权已提交公司】Yes 【佣金??】550万以上一半归中介佣金 【价格】＄560万—＄600万 【房源状态】现房</td>\n",
       "      <td>Yarra Valley 102英亩（42万平方米)，豪华的法国普罗旺斯风格庄园出售。 1，可步行至Yarra Valley最著名的中心商业区，Yarra Valley的黄金位置。 2，距离小学1.5公里，中学4.5公里。 3，巨大的三层沙岩豪宅，6卧室（每个卧室都有可出入的阳台)，5个卫生间，10个车库，2个书房+健身房+娱乐厅+家庭影剧院+家庭酒吧+酒窖+ 室外桑拿池 4，底层休闲娱乐区域设计灵感来自于伦敦的皇家阿尔伯特音乐厅。 5，精心挑选的Yarra Valley风景绝佳的位置，可以俯瞰整个Yarra河谷，背靠山峦，面对风景绝佳的河谷平原，拥有大面积湖泊。 6，具有无限的可发展潜力，面积足够大，可以发展成当地著名的旅游胜地，用于酒店及旅游的air B&amp;B，后山可以打猎………… 7，价格不及Toorak区一栋普通豪宅的一半。 预约参观，有计划购买农场庄园的朋友，强烈推荐实地参观。https://www.dropbox.com/sh/ll3sr66ncs2x1lv/AAACrrDbnCqyFwTe_vVYAfRta?dl=0</td>\n",
       "    </tr>\n",
       "  </tbody>\n",
       "</table>\n",
       "</div>"
      ],
      "text/plain": [
       "                        时间                 联系人                  微信号  \\\n",
       "34836  2022-02-28 18:15:03            澳盛集团??红丽  wxid_ptm5ddyvqjon12   \n",
       "34909  2022-03-01 11:13:47   公司 澳盛集团????yoyo??            q15630185   \n",
       "34910  2022-03-01 11:16:59     公司 澳盛集团?? Lazio        lazio61707927   \n",
       "34913  2022-03-01 11:21:52   公司 澳盛集团????yoyo??            q15630185   \n",
       "35550  2022-03-06 14:18:15  公司 澳盛集团??Xin-房产移民投  wxid_ehyn614k32xr22   \n",
       "\n",
       "                                                                                                                                                                                                                                                                                                                                                                                                                                                                                                                                                                                                                            目标  \\\n",
       "34836                                                                                                                                                                                                                                                                                                                                                                                                                                                                                                        【授权类型】Exclusive Listing by Susan hu & Hongli Zhang 【授权已提交公司】Yes 【佣金??】出售商铺物业$90万以上是佣金 【价格】统一报价$ 98万澳币 【房源状态】现房商铺    \n",
       "34909                                                                                                                                                                                                                                                                                                                                                                                                                                                                  【项目名称】west side place gold release 【项目地址]2906D/ 250 spencer St, Melbourne VIC 3000 【授权类型】nomination 【授权已提交公司】Yes 【佣金??】5% 【价格】合同价$532,400 【房源状态】8,9月交房    \n",
       "34910                                                                                                                                                                                                                                                                                                                                                                                                                                                                                 【项目名称】west side place 塔A 【项目地址]2407A/250 spencer St, Melbourne VIC 3000 【授权类型】nomination 【授权已提交公司】Yes 【佣金??】7% 【价格】合同价$519200 【房源状态】1个月    \n",
       "34913  q15630185: <?xml version=\"1.0\"?> <msg> <appmsg appid=\"\" sdkver=\"0\"> <title>哈哈哈，listing agent [大哭]</title> <des /> <action /> <type>57</type> <showtype>0</showtype> <soundtype>0</soundtype> <mediatagname /> <messageext /> <messageaction /> <content /> <contentattr>0</contentattr> <url /> <lowurl /> <dataurl /> <lowdataurl /> <songalbumurl /> <songlyric /> <appattach> <totallen>0</totallen> <attachid /> <emoticonmd5 /> <fileext /> <cdnthumbaeskey /> <aeskey /> </appattach> <extinfo /> <sourceusername /> <sourcedisplayname /> <thumburl /> <md5 /> <statextstr /> <directshare>0</directshare> <r...   \n",
       "35550                                                                                                                                                                                                                                                                                                                                                                                                                                                                                                              【项目名称】豪华庄园 【授权类型] 对接listing by Annabella and Xin 【授权已提交公司】Yes 【佣金??】550万以上一半归中介佣金 【价格】＄560万—＄600万 【房源状态】现房    \n",
       "\n",
       "                                                                                                                                                                                                                                                                                                                                                                                                                                                                                                                                                                                                            房源描述  \n",
       "34836                                                                                                                                                                                                                                                                                                                                                                                                                                                                                                        北区成熟社区商铺出售，面积 459平方米，双砖建筑墙体，层高 3米 以上，全装修，带2个车位，有租约 15年（5+5+5），年租金$50000, 年Council rate $6800,由租客支付。  \n",
       "34909                                                                                                                                                                                                                                                                                                                                                                                                                                                                            CBD楼王 - 商业综合体项目，1房?1书房，面积57平米朝北，原始合同签于2017年6月25日，省印花税。https://www.dropbox.com/sh/41ih0ixy4m7b17x/AACpMDQa5KGXAzXCWHMK-V7Ma?dl=0  \n",
       "34910                                                                                                                                                                                                                                                                                                                                                                                                                                                                  CBD楼王 - 商业综合体项目，2407A属于朝北当年一抢而空的价格非常好的朝北户型。面积54.83平。1房1卫很好出租户型。 https://www.dropbox.com/sh/bo2ss4kpjh6on4u/AADWUygRNIeWIsey6sO-7OHNa?dl=0  \n",
       "34913  CBD楼王 - 商业综合体项目，2407A属于朝北当年一抢而空的价格非常好的朝北户型。面积54.83平。1房1卫很好出租户型。 https://www.dropbox.com/sh/bo2ss4kpjh6on4u/AADWUygRNIeWIsey6sO-7OHNa?dl=0</content> <msgsource>&lt;msgsource&gt;&lt;sequence_id&gt;762071651&lt;/sequence_id&gt; &lt;bizflag&gt;0&lt;/bizflag&gt; &lt;silence&gt;1&lt;/silence&gt; &lt;membercount&gt;155&lt;/membercount&gt; &lt;signature&gt;v1_e6DabgBv&lt;/signature&gt; &lt;/msgsource&gt; </msgsource> </refermsg> </appmsg> <fromusername>q15630185</fromusername> <scene>0</scene> <appinfo> <version>1</version> <appname></appname> </appinfo> <commenturl></commenturl> </msg>  \n",
       "35550                                                                                                                    Yarra Valley 102英亩（42万平方米)，豪华的法国普罗旺斯风格庄园出售。 1，可步行至Yarra Valley最著名的中心商业区，Yarra Valley的黄金位置。 2，距离小学1.5公里，中学4.5公里。 3，巨大的三层沙岩豪宅，6卧室（每个卧室都有可出入的阳台)，5个卫生间，10个车库，2个书房+健身房+娱乐厅+家庭影剧院+家庭酒吧+酒窖+ 室外桑拿池 4，底层休闲娱乐区域设计灵感来自于伦敦的皇家阿尔伯特音乐厅。 5，精心挑选的Yarra Valley风景绝佳的位置，可以俯瞰整个Yarra河谷，背靠山峦，面对风景绝佳的河谷平原，拥有大面积湖泊。 6，具有无限的可发展潜力，面积足够大，可以发展成当地著名的旅游胜地，用于酒店及旅游的air B&B，后山可以打猎………… 7，价格不及Toorak区一栋普通豪宅的一半。 预约参观，有计划购买农场庄园的朋友，强烈推荐实地参观。https://www.dropbox.com/sh/ll3sr66ncs2x1lv/AAACrrDbnCqyFwTe_vVYAfRta?dl=0  "
      ]
     },
     "execution_count": 42,
     "metadata": {},
     "output_type": "execute_result"
    }
   ],
   "source": [
    "df_core2.loc[[34836,34909,34910,34913,35550]]"
   ]
  },
  {
   "cell_type": "markdown",
   "metadata": {},
   "source": [
    "Compare:"
   ]
  },
  {
   "cell_type": "code",
   "execution_count": 43,
   "metadata": {},
   "outputs": [
    {
     "data": {
      "text/html": [
       "<div>\n",
       "<style scoped>\n",
       "    .dataframe tbody tr th:only-of-type {\n",
       "        vertical-align: middle;\n",
       "    }\n",
       "\n",
       "    .dataframe tbody tr th {\n",
       "        vertical-align: top;\n",
       "    }\n",
       "\n",
       "    .dataframe thead th {\n",
       "        text-align: right;\n",
       "    }\n",
       "</style>\n",
       "<table border=\"1\" class=\"dataframe\">\n",
       "  <thead>\n",
       "    <tr style=\"text-align: right;\">\n",
       "      <th></th>\n",
       "      <th>时间</th>\n",
       "      <th>联系人</th>\n",
       "      <th>微信号</th>\n",
       "      <th>目标</th>\n",
       "      <th>房源描述</th>\n",
       "    </tr>\n",
       "  </thead>\n",
       "  <tbody>\n",
       "    <tr>\n",
       "      <td>35738</td>\n",
       "      <td>2022-03-07 21:09:43</td>\n",
       "      <td>公司 澳盛房产??夏子钧</td>\n",
       "      <td>xanexia</td>\n",
       "      <td>【项目名称】Spring Street 【项目地址】16 Spring Street, Box Hill 【授权类型】General by 夏子钧&amp;Sloan 【授权已提交公司】Yes 【佣金??】5.5% ，80/20 【价格】38.5万起 【房源状态】期房 2024年底交割</td>\n",
       "      <td>Coposit Box Hill 独家0利息分期首付，1万澳币即可购买，Box Hill 独家春风里展房VR看房链接http://vr.realsee.jp/vr/jLK9l8qLGxvoYgay/QpMlvrgLNnqMoHahEhBToggIkLR0n8EW/ 殿堂级设计师Elenberg Fraser的Box Hill 力作！静街高层公寓，自带80米长林荫大道项目，朝东永无遮挡公园景 春风里最新价格表 https://www.dropbox.com/sh/8fw1hy9kt9v2n7j/AACOBnFsuSVebocQP34agiQva?dl=0</td>\n",
       "    </tr>\n",
       "    <tr>\n",
       "      <td>34217</td>\n",
       "      <td>2022-02-22 10:49:49</td>\n",
       "      <td>澳盛集团??Don</td>\n",
       "      <td>wxid_rm0z8a3l53lm12</td>\n",
       "      <td>?『开放时间』周二 2.22下午1：30开放 【项目地址】60 narrak st ,Balwyn 【授权类型】general by don 【佣金??】360-370万佣金1.5%+gst，370万2%+gst.合理offer 可谈 【价格】370-380 【现房/准现房/期房/（请备注交割时间）】现房</td>\n",
       "      <td>占地556 平建筑436平方米 附近环境优美，离Greythorn Primary小学（97分）步行7分钟，走路到公交车站5分钟，去Coles超市步行5分钟，地势高，远眺市中心，city view. 请联系我约看房！https://www.dropbox.com/sh/oy40pkpun0mgt3y/AADwgUjkZfOI7M45QdcXcrcLa?dl=0</td>\n",
       "    </tr>\n",
       "  </tbody>\n",
       "</table>\n",
       "</div>"
      ],
      "text/plain": [
       "                        时间           联系人                  微信号  \\\n",
       "35738  2022-03-07 21:09:43  公司 澳盛房产??夏子钧              xanexia   \n",
       "34217  2022-02-22 10:49:49     澳盛集团??Don  wxid_rm0z8a3l53lm12   \n",
       "\n",
       "                                                                                                                                                               目标  \\\n",
       "35738                【项目名称】Spring Street 【项目地址】16 Spring Street, Box Hill 【授权类型】General by 夏子钧&Sloan 【授权已提交公司】Yes 【佣金??】5.5% ，80/20 【价格】38.5万起 【房源状态】期房 2024年底交割    \n",
       "34217  ?『开放时间』周二 2.22下午1：30开放 【项目地址】60 narrak st ,Balwyn 【授权类型】general by don 【佣金??】360-370万佣金1.5%+gst，370万2%+gst.合理offer 可谈 【价格】370-380 【现房/准现房/期房/（请备注交割时间）】现房    \n",
       "\n",
       "                                                                                                                                                                                                                                                                                          房源描述  \n",
       "35738  Coposit Box Hill 独家0利息分期首付，1万澳币即可购买，Box Hill 独家春风里展房VR看房链接http://vr.realsee.jp/vr/jLK9l8qLGxvoYgay/QpMlvrgLNnqMoHahEhBToggIkLR0n8EW/ 殿堂级设计师Elenberg Fraser的Box Hill 力作！静街高层公寓，自带80米长林荫大道项目，朝东永无遮挡公园景 春风里最新价格表 https://www.dropbox.com/sh/8fw1hy9kt9v2n7j/AACOBnFsuSVebocQP34agiQva?dl=0  \n",
       "34217                                                                                                    占地556 平建筑436平方米 附近环境优美，离Greythorn Primary小学（97分）步行7分钟，走路到公交车站5分钟，去Coles超市步行5分钟，地势高，远眺市中心，city view. 请联系我约看房！https://www.dropbox.com/sh/oy40pkpun0mgt3y/AADwgUjkZfOI7M45QdcXcrcLa?dl=0  "
      ]
     },
     "execution_count": 43,
     "metadata": {},
     "output_type": "execute_result"
    }
   ],
   "source": [
    "df_core2.loc[[35738,34217]]"
   ]
  },
  {
   "cell_type": "markdown",
   "metadata": {},
   "source": [
    "# Concat II: pd.concat([df1, df2], axis=1): df_core5"
   ]
  },
  {
   "cell_type": "code",
   "execution_count": 44,
   "metadata": {},
   "outputs": [
    {
     "name": "stdout",
     "output_type": "stream",
     "text": [
      "<class 'pandas.core.frame.DataFrame'>\n",
      "Int64Index: 162 entries, 34030 to 36731\n",
      "Data columns (total 7 columns):\n",
      "时间      162 non-null object\n",
      "联系人     162 non-null object\n",
      "微信号     162 non-null object\n",
      "目标      162 non-null object\n",
      "房源描述    162 non-null object\n",
      "目标1     157 non-null object\n",
      "目标2     157 non-null object\n",
      "dtypes: object(7)\n",
      "memory usage: 10.1+ KB\n",
      "None\n"
     ]
    }
   ],
   "source": [
    "df_core5=pd.concat([df_core3,df_core4],axis=1)\n",
    "\n",
    "print(df_core5.info())\n"
   ]
  },
  {
   "cell_type": "markdown",
   "metadata": {},
   "source": [
    "继续 Check Missing Value:"
   ]
  },
  {
   "cell_type": "code",
   "execution_count": 45,
   "metadata": {},
   "outputs": [
    {
     "data": {
      "text/html": [
       "<div>\n",
       "<style scoped>\n",
       "    .dataframe tbody tr th:only-of-type {\n",
       "        vertical-align: middle;\n",
       "    }\n",
       "\n",
       "    .dataframe tbody tr th {\n",
       "        vertical-align: top;\n",
       "    }\n",
       "\n",
       "    .dataframe thead th {\n",
       "        text-align: right;\n",
       "    }\n",
       "</style>\n",
       "<table border=\"1\" class=\"dataframe\">\n",
       "  <thead>\n",
       "    <tr style=\"text-align: right;\">\n",
       "      <th></th>\n",
       "      <th>时间</th>\n",
       "      <th>联系人</th>\n",
       "      <th>微信号</th>\n",
       "      <th>目标</th>\n",
       "      <th>房源描述</th>\n",
       "      <th>目标1</th>\n",
       "      <th>目标2</th>\n",
       "    </tr>\n",
       "  </thead>\n",
       "  <tbody>\n",
       "    <tr>\n",
       "      <td>34836</td>\n",
       "      <td>2022-02-28 18:15:03</td>\n",
       "      <td>澳盛集团??红丽</td>\n",
       "      <td>wxid_ptm5ddyvqjon12</td>\n",
       "      <td>【授权类型】Exclusive Listing by Susan hu &amp; Hongli Zhang 【授权已提交公司】Yes 【佣金??】出售商铺物业$90万以上是佣金 【价格】统一报价$ 98万澳币 【房源状态】现房商铺</td>\n",
       "      <td>北区成熟社区商铺出售，面积 459平方米，双砖建筑墙体，层高 3米 以上，全装修，带2个车位，有租约 15年（5+5+5），年租金$50000, 年Council rate $6800,由租客支付。</td>\n",
       "      <td>None</td>\n",
       "      <td>None</td>\n",
       "    </tr>\n",
       "    <tr>\n",
       "      <td>34909</td>\n",
       "      <td>2022-03-01 11:13:47</td>\n",
       "      <td>公司 澳盛集团????yoyo??</td>\n",
       "      <td>q15630185</td>\n",
       "      <td>【项目名称】west side place gold release 【项目地址]2906D/ 250 spencer St, Melbourne VIC 3000 【授权类型】nomination 【授权已提交公司】Yes 【佣金??】5% 【价格】合同价$532,400 【房源状态】8,9月交房</td>\n",
       "      <td>CBD楼王 - 商业综合体项目，1房?1书房，面积57平米朝北，原始合同签于2017年6月25日，省印花税。https://www.dropbox.com/sh/41ih0ixy4m7b17x/AACpMDQa5KGXAzXCWHMK-V7Ma?dl=0</td>\n",
       "      <td>None</td>\n",
       "      <td>None</td>\n",
       "    </tr>\n",
       "    <tr>\n",
       "      <td>34910</td>\n",
       "      <td>2022-03-01 11:16:59</td>\n",
       "      <td>公司 澳盛集团?? Lazio</td>\n",
       "      <td>lazio61707927</td>\n",
       "      <td>【项目名称】west side place 塔A 【项目地址]2407A/250 spencer St, Melbourne VIC 3000 【授权类型】nomination 【授权已提交公司】Yes 【佣金??】7% 【价格】合同价$519200 【房源状态】1个月</td>\n",
       "      <td>CBD楼王 - 商业综合体项目，2407A属于朝北当年一抢而空的价格非常好的朝北户型。面积54.83平。1房1卫很好出租户型。 https://www.dropbox.com/sh/bo2ss4kpjh6on4u/AADWUygRNIeWIsey6sO-7OHNa?dl=0</td>\n",
       "      <td>None</td>\n",
       "      <td>None</td>\n",
       "    </tr>\n",
       "    <tr>\n",
       "      <td>34913</td>\n",
       "      <td>2022-03-01 11:21:52</td>\n",
       "      <td>公司 澳盛集团????yoyo??</td>\n",
       "      <td>q15630185</td>\n",
       "      <td>q15630185: &lt;?xml version=\"1.0\"?&gt; &lt;msg&gt; &lt;appmsg appid=\"\" sdkver=\"0\"&gt; &lt;title&gt;哈哈哈，listing agent [大哭]&lt;/title&gt; &lt;des /&gt; &lt;action /&gt; &lt;type&gt;57&lt;/type&gt; &lt;showtype&gt;0&lt;/showtype&gt; &lt;soundtype&gt;0&lt;/soundtype&gt; &lt;mediatagname /&gt; &lt;messageext /&gt; &lt;messageaction /&gt; &lt;content /&gt; &lt;contentattr&gt;0&lt;/contentattr&gt; &lt;url /&gt; &lt;lowurl /&gt; &lt;dataurl /&gt; &lt;lowdataurl /&gt; &lt;songalbumurl /&gt; &lt;songlyric /&gt; &lt;appattach&gt; &lt;totallen&gt;0&lt;/totallen&gt; &lt;attachid /&gt; &lt;emoticonmd5 /&gt; &lt;fileext /&gt; &lt;cdnthumbaeskey /&gt; &lt;aeskey /&gt; &lt;/appattach&gt; &lt;extinfo /&gt; &lt;sourceusername /&gt; &lt;sourcedisplayname /&gt; &lt;thumburl /&gt; &lt;md5 /&gt; &lt;statextstr /&gt; &lt;directshare&gt;0&lt;/directshare&gt; &lt;r...</td>\n",
       "      <td>CBD楼王 - 商业综合体项目，2407A属于朝北当年一抢而空的价格非常好的朝北户型。面积54.83平。1房1卫很好出租户型。 https://www.dropbox.com/sh/bo2ss4kpjh6on4u/AADWUygRNIeWIsey6sO-7OHNa?dl=0&lt;/content&gt; &lt;msgsource&gt;&amp;lt;msgsource&amp;gt;&amp;lt;sequence_id&amp;gt;762071651&amp;lt;/sequence_id&amp;gt; &amp;lt;bizflag&amp;gt;0&amp;lt;/bizflag&amp;gt; &amp;lt;silence&amp;gt;1&amp;lt;/silence&amp;gt; &amp;lt;membercount&amp;gt;155&amp;lt;/membercount&amp;gt; &amp;lt;signature&amp;gt;v1_e6DabgBv&amp;lt;/signature&amp;gt; &amp;lt;/msgsource&amp;gt; &lt;/msgsource&gt; &lt;/refermsg&gt; &lt;/appmsg&gt; &lt;fromusername&gt;q15630185&lt;/fromusername&gt; &lt;scene&gt;0&lt;/scene&gt; &lt;appinfo&gt; &lt;version&gt;1&lt;/version&gt; &lt;appname&gt;&lt;/appname&gt; &lt;/appinfo&gt; &lt;commenturl&gt;&lt;/commenturl&gt; &lt;/msg&gt;</td>\n",
       "      <td>None</td>\n",
       "      <td>None</td>\n",
       "    </tr>\n",
       "    <tr>\n",
       "      <td>35550</td>\n",
       "      <td>2022-03-06 14:18:15</td>\n",
       "      <td>公司 澳盛集团??Xin-房产移民投</td>\n",
       "      <td>wxid_ehyn614k32xr22</td>\n",
       "      <td>【项目名称】豪华庄园 【授权类型] 对接listing by Annabella and Xin 【授权已提交公司】Yes 【佣金??】550万以上一半归中介佣金 【价格】＄560万—＄600万 【房源状态】现房</td>\n",
       "      <td>Yarra Valley 102英亩（42万平方米)，豪华的法国普罗旺斯风格庄园出售。 1，可步行至Yarra Valley最著名的中心商业区，Yarra Valley的黄金位置。 2，距离小学1.5公里，中学4.5公里。 3，巨大的三层沙岩豪宅，6卧室（每个卧室都有可出入的阳台)，5个卫生间，10个车库，2个书房+健身房+娱乐厅+家庭影剧院+家庭酒吧+酒窖+ 室外桑拿池 4，底层休闲娱乐区域设计灵感来自于伦敦的皇家阿尔伯特音乐厅。 5，精心挑选的Yarra Valley风景绝佳的位置，可以俯瞰整个Yarra河谷，背靠山峦，面对风景绝佳的河谷平原，拥有大面积湖泊。 6，具有无限的可发展潜力，面积足够大，可以发展成当地著名的旅游胜地，用于酒店及旅游的air B&amp;B，后山可以打猎………… 7，价格不及Toorak区一栋普通豪宅的一半。 预约参观，有计划购买农场庄园的朋友，强烈推荐实地参观。https://www.dropbox.com/sh/ll3sr66ncs2x1lv/AAACrrDbnCqyFwTe_vVYAfRta?dl=0</td>\n",
       "      <td>None</td>\n",
       "      <td>None</td>\n",
       "    </tr>\n",
       "  </tbody>\n",
       "</table>\n",
       "</div>"
      ],
      "text/plain": [
       "                        时间                 联系人                  微信号  \\\n",
       "34836  2022-02-28 18:15:03            澳盛集团??红丽  wxid_ptm5ddyvqjon12   \n",
       "34909  2022-03-01 11:13:47   公司 澳盛集团????yoyo??            q15630185   \n",
       "34910  2022-03-01 11:16:59     公司 澳盛集团?? Lazio        lazio61707927   \n",
       "34913  2022-03-01 11:21:52   公司 澳盛集团????yoyo??            q15630185   \n",
       "35550  2022-03-06 14:18:15  公司 澳盛集团??Xin-房产移民投  wxid_ehyn614k32xr22   \n",
       "\n",
       "                                                                                                                                                                                                                                                                                                                                                                                                                                                                                                                                                                                                                            目标  \\\n",
       "34836                                                                                                                                                                                                                                                                                                                                                                                                                                                                                                        【授权类型】Exclusive Listing by Susan hu & Hongli Zhang 【授权已提交公司】Yes 【佣金??】出售商铺物业$90万以上是佣金 【价格】统一报价$ 98万澳币 【房源状态】现房商铺    \n",
       "34909                                                                                                                                                                                                                                                                                                                                                                                                                                                                  【项目名称】west side place gold release 【项目地址]2906D/ 250 spencer St, Melbourne VIC 3000 【授权类型】nomination 【授权已提交公司】Yes 【佣金??】5% 【价格】合同价$532,400 【房源状态】8,9月交房    \n",
       "34910                                                                                                                                                                                                                                                                                                                                                                                                                                                                                 【项目名称】west side place 塔A 【项目地址]2407A/250 spencer St, Melbourne VIC 3000 【授权类型】nomination 【授权已提交公司】Yes 【佣金??】7% 【价格】合同价$519200 【房源状态】1个月    \n",
       "34913  q15630185: <?xml version=\"1.0\"?> <msg> <appmsg appid=\"\" sdkver=\"0\"> <title>哈哈哈，listing agent [大哭]</title> <des /> <action /> <type>57</type> <showtype>0</showtype> <soundtype>0</soundtype> <mediatagname /> <messageext /> <messageaction /> <content /> <contentattr>0</contentattr> <url /> <lowurl /> <dataurl /> <lowdataurl /> <songalbumurl /> <songlyric /> <appattach> <totallen>0</totallen> <attachid /> <emoticonmd5 /> <fileext /> <cdnthumbaeskey /> <aeskey /> </appattach> <extinfo /> <sourceusername /> <sourcedisplayname /> <thumburl /> <md5 /> <statextstr /> <directshare>0</directshare> <r...   \n",
       "35550                                                                                                                                                                                                                                                                                                                                                                                                                                                                                                              【项目名称】豪华庄园 【授权类型] 对接listing by Annabella and Xin 【授权已提交公司】Yes 【佣金??】550万以上一半归中介佣金 【价格】＄560万—＄600万 【房源状态】现房    \n",
       "\n",
       "                                                                                                                                                                                                                                                                                                                                                                                                                                                                                                                                                                                                            房源描述  \\\n",
       "34836                                                                                                                                                                                                                                                                                                                                                                                                                                                                                                        北区成熟社区商铺出售，面积 459平方米，双砖建筑墙体，层高 3米 以上，全装修，带2个车位，有租约 15年（5+5+5），年租金$50000, 年Council rate $6800,由租客支付。   \n",
       "34909                                                                                                                                                                                                                                                                                                                                                                                                                                                                            CBD楼王 - 商业综合体项目，1房?1书房，面积57平米朝北，原始合同签于2017年6月25日，省印花税。https://www.dropbox.com/sh/41ih0ixy4m7b17x/AACpMDQa5KGXAzXCWHMK-V7Ma?dl=0   \n",
       "34910                                                                                                                                                                                                                                                                                                                                                                                                                                                                  CBD楼王 - 商业综合体项目，2407A属于朝北当年一抢而空的价格非常好的朝北户型。面积54.83平。1房1卫很好出租户型。 https://www.dropbox.com/sh/bo2ss4kpjh6on4u/AADWUygRNIeWIsey6sO-7OHNa?dl=0   \n",
       "34913  CBD楼王 - 商业综合体项目，2407A属于朝北当年一抢而空的价格非常好的朝北户型。面积54.83平。1房1卫很好出租户型。 https://www.dropbox.com/sh/bo2ss4kpjh6on4u/AADWUygRNIeWIsey6sO-7OHNa?dl=0</content> <msgsource>&lt;msgsource&gt;&lt;sequence_id&gt;762071651&lt;/sequence_id&gt; &lt;bizflag&gt;0&lt;/bizflag&gt; &lt;silence&gt;1&lt;/silence&gt; &lt;membercount&gt;155&lt;/membercount&gt; &lt;signature&gt;v1_e6DabgBv&lt;/signature&gt; &lt;/msgsource&gt; </msgsource> </refermsg> </appmsg> <fromusername>q15630185</fromusername> <scene>0</scene> <appinfo> <version>1</version> <appname></appname> </appinfo> <commenturl></commenturl> </msg>   \n",
       "35550                                                                                                                    Yarra Valley 102英亩（42万平方米)，豪华的法国普罗旺斯风格庄园出售。 1，可步行至Yarra Valley最著名的中心商业区，Yarra Valley的黄金位置。 2，距离小学1.5公里，中学4.5公里。 3，巨大的三层沙岩豪宅，6卧室（每个卧室都有可出入的阳台)，5个卫生间，10个车库，2个书房+健身房+娱乐厅+家庭影剧院+家庭酒吧+酒窖+ 室外桑拿池 4，底层休闲娱乐区域设计灵感来自于伦敦的皇家阿尔伯特音乐厅。 5，精心挑选的Yarra Valley风景绝佳的位置，可以俯瞰整个Yarra河谷，背靠山峦，面对风景绝佳的河谷平原，拥有大面积湖泊。 6，具有无限的可发展潜力，面积足够大，可以发展成当地著名的旅游胜地，用于酒店及旅游的air B&B，后山可以打猎………… 7，价格不及Toorak区一栋普通豪宅的一半。 预约参观，有计划购买农场庄园的朋友，强烈推荐实地参观。https://www.dropbox.com/sh/ll3sr66ncs2x1lv/AAACrrDbnCqyFwTe_vVYAfRta?dl=0   \n",
       "\n",
       "        目标1   目标2  \n",
       "34836  None  None  \n",
       "34909  None  None  \n",
       "34910  None  None  \n",
       "34913  None  None  \n",
       "35550  None  None  "
      ]
     },
     "execution_count": 45,
     "metadata": {},
     "output_type": "execute_result"
    }
   ],
   "source": [
    "df_core5[df_core5[\"目标2\"].isnull()]"
   ]
  },
  {
   "cell_type": "markdown",
   "metadata": {},
   "source": [
    "# Concat II: Missing Value Part II -- 目标 -- copy to 目标2, drop duplicates -- df_core6"
   ]
  },
  {
   "cell_type": "code",
   "execution_count": 46,
   "metadata": {},
   "outputs": [
    {
     "data": {
      "text/html": [
       "<div>\n",
       "<style scoped>\n",
       "    .dataframe tbody tr th:only-of-type {\n",
       "        vertical-align: middle;\n",
       "    }\n",
       "\n",
       "    .dataframe tbody tr th {\n",
       "        vertical-align: top;\n",
       "    }\n",
       "\n",
       "    .dataframe thead th {\n",
       "        text-align: right;\n",
       "    }\n",
       "</style>\n",
       "<table border=\"1\" class=\"dataframe\">\n",
       "  <thead>\n",
       "    <tr style=\"text-align: right;\">\n",
       "      <th></th>\n",
       "      <th>时间</th>\n",
       "      <th>联系人</th>\n",
       "      <th>微信号</th>\n",
       "      <th>目标</th>\n",
       "      <th>房源描述</th>\n",
       "      <th>目标1</th>\n",
       "      <th>目标2</th>\n",
       "    </tr>\n",
       "  </thead>\n",
       "  <tbody>\n",
       "    <tr>\n",
       "      <td>34030</td>\n",
       "      <td>2022-02-21 16:28:52</td>\n",
       "      <td>公司 澳盛集团??Boxhill</td>\n",
       "      <td>wxid_vz1d02xdx5dr22</td>\n",
       "      <td>Dear all， 为了帮助大家更好的查询房源，以及更规范化管理房源，日后Listing的发布请按照以下格式发布并更新，烦请各位组长协助新人及组员完善listing information。 【项目名称】 【项目地址】 【授权类型】 【佣金??】 【价格】 【现房/准现房/期房/（请备注交割时间）】</td>\n",
       "      <td></td>\n",
       "      <td>【授权类型】 【佣金??】 【价格】 【现房/准现房/期房/（请备注交割时间）】</td>\n",
       "      <td>【授权类型】 【佣金??】 【价格】 【现房/准现房/期房/（请备注交割时间）】</td>\n",
       "    </tr>\n",
       "  </tbody>\n",
       "</table>\n",
       "</div>"
      ],
      "text/plain": [
       "                        时间               联系人                  微信号  \\\n",
       "34030  2022-02-21 16:28:52  公司 澳盛集团??Boxhill  wxid_vz1d02xdx5dr22   \n",
       "\n",
       "                                                                                                                                                            目标  \\\n",
       "34030  Dear all， 为了帮助大家更好的查询房源，以及更规范化管理房源，日后Listing的发布请按照以下格式发布并更新，烦请各位组长协助新人及组员完善listing information。 【项目名称】 【项目地址】 【授权类型】 【佣金??】 【价格】 【现房/准现房/期房/（请备注交割时间）】    \n",
       "\n",
       "      房源描述                                         目标1  \\\n",
       "34030        【授权类型】 【佣金??】 【价格】 【现房/准现房/期房/（请备注交割时间）】    \n",
       "\n",
       "                                              目标2  \n",
       "34030   【授权类型】 【佣金??】 【价格】 【现房/准现房/期房/（请备注交割时间）】   "
      ]
     },
     "execution_count": 46,
     "metadata": {},
     "output_type": "execute_result"
    }
   ],
   "source": [
    "df_core5[df_core5[\"目标2\"].notnull()].head(1)"
   ]
  },
  {
   "cell_type": "code",
   "execution_count": 47,
   "metadata": {},
   "outputs": [
    {
     "name": "stdout",
     "output_type": "stream",
     "text": [
      "<class 'pandas.core.frame.DataFrame'>\n",
      "Int64Index: 162 entries, 34030 to 36731\n",
      "Data columns (total 7 columns):\n",
      "时间      162 non-null object\n",
      "联系人     162 non-null object\n",
      "微信号     162 non-null object\n",
      "目标      162 non-null object\n",
      "房源描述    162 non-null object\n",
      "目标1     157 non-null object\n",
      "目标2     162 non-null object\n",
      "dtypes: object(7)\n",
      "memory usage: 15.1+ KB\n",
      "None\n"
     ]
    }
   ],
   "source": [
    "df_core5.loc[df_core5[\"目标2\"].isnull(),\"目标2\"]=df_core5[\"目标\"]\n",
    "print(df_core5.info())"
   ]
  },
  {
   "cell_type": "markdown",
   "metadata": {},
   "source": [
    "### 查看 目标2 的 Duplicates:"
   ]
  },
  {
   "cell_type": "code",
   "execution_count": 48,
   "metadata": {},
   "outputs": [
    {
     "name": "stdout",
     "output_type": "stream",
     "text": [
      "28 个 Duplicates\n"
     ]
    }
   ],
   "source": [
    "check3=df_core5[\"目标2\"].duplicated().sum()  # .item() convert numpy int to int\n",
    "print(f\"{check3} 个 Duplicates\") "
   ]
  },
  {
   "cell_type": "code",
   "execution_count": 49,
   "metadata": {},
   "outputs": [
    {
     "name": "stdout",
     "output_type": "stream",
     "text": [
      "<class 'pandas.core.frame.DataFrame'>\n",
      "Int64Index: 134 entries, 34030 to 36723\n",
      "Data columns (total 7 columns):\n",
      "时间      134 non-null object\n",
      "联系人     134 non-null object\n",
      "微信号     134 non-null object\n",
      "目标      134 non-null object\n",
      "房源描述    134 non-null object\n",
      "目标1     129 non-null object\n",
      "目标2     134 non-null object\n",
      "dtypes: object(7)\n",
      "memory usage: 8.4+ KB\n",
      "None\n"
     ]
    }
   ],
   "source": [
    "df_core6=df_core5.drop_duplicates(subset=\"目标2\")\n",
    "print(df_core6.info())"
   ]
  },
  {
   "cell_type": "markdown",
   "metadata": {},
   "source": [
    "# Split III： 处理 目标2 再 分解： df_core7"
   ]
  },
  {
   "cell_type": "code",
   "execution_count": 50,
   "metadata": {},
   "outputs": [
    {
     "name": "stdout",
     "output_type": "stream",
     "text": [
      "<class 'pandas.core.frame.DataFrame'>\n",
      "Int64Index: 134 entries, 34030 to 36723\n",
      "Data columns (total 7 columns):\n",
      "地址     134 non-null object\n",
      "信息1    134 non-null object\n",
      "信息2    133 non-null object\n",
      "信息3    133 non-null object\n",
      "信息4    132 non-null object\n",
      "信息5    64 non-null object\n",
      "信息6    3 non-null object\n",
      "dtypes: object(7)\n",
      "memory usage: 8.4+ KB\n",
      "None\n"
     ]
    },
    {
     "data": {
      "text/html": [
       "<div>\n",
       "<style scoped>\n",
       "    .dataframe tbody tr th:only-of-type {\n",
       "        vertical-align: middle;\n",
       "    }\n",
       "\n",
       "    .dataframe tbody tr th {\n",
       "        vertical-align: top;\n",
       "    }\n",
       "\n",
       "    .dataframe thead th {\n",
       "        text-align: right;\n",
       "    }\n",
       "</style>\n",
       "<table border=\"1\" class=\"dataframe\">\n",
       "  <thead>\n",
       "    <tr style=\"text-align: right;\">\n",
       "      <th></th>\n",
       "      <th>地址</th>\n",
       "      <th>信息1</th>\n",
       "      <th>信息2</th>\n",
       "      <th>信息3</th>\n",
       "      <th>信息4</th>\n",
       "      <th>信息5</th>\n",
       "      <th>信息6</th>\n",
       "    </tr>\n",
       "  </thead>\n",
       "  <tbody>\n",
       "    <tr>\n",
       "      <td>34030</td>\n",
       "      <td></td>\n",
       "      <td></td>\n",
       "      <td></td>\n",
       "      <td></td>\n",
       "      <td></td>\n",
       "      <td>None</td>\n",
       "      <td>None</td>\n",
       "    </tr>\n",
       "    <tr>\n",
       "      <td>34217</td>\n",
       "      <td>60 narrak st ,Balwyn</td>\n",
       "      <td>general by don</td>\n",
       "      <td>360-370万佣金1.5%+gst，370万2%+gst.合理offer 可谈</td>\n",
       "      <td>370-380</td>\n",
       "      <td>现房</td>\n",
       "      <td>None</td>\n",
       "      <td>None</td>\n",
       "    </tr>\n",
       "    <tr>\n",
       "      <td>34221</td>\n",
       "      <td>U4/20 Burns avenue Clayton south</td>\n",
       "      <td>Exclusive Listing by Lina</td>\n",
       "      <td>2.2%含税</td>\n",
       "      <td>88-92万</td>\n",
       "      <td>二手Townhouse</td>\n",
       "      <td>None</td>\n",
       "      <td>None</td>\n",
       "    </tr>\n",
       "    <tr>\n",
       "      <td>34222</td>\n",
       "      <td>U3/34 Evelyn street Clayton。</td>\n",
       "      <td>Exclusive listing by lina</td>\n",
       "      <td>佣金3%含税。</td>\n",
       "      <td>价格98万</td>\n",
       "      <td>二手townhouse</td>\n",
       "      <td>None</td>\n",
       "      <td>None</td>\n",
       "    </tr>\n",
       "    <tr>\n",
       "      <td>34223</td>\n",
       "      <td>5/3-5 Spring road Clayton south</td>\n",
       "      <td>New Listing by Lina</td>\n",
       "      <td>佣金22000含税</td>\n",
       "      <td>885K</td>\n",
       "      <td>二手Townhouse</td>\n",
       "      <td>None</td>\n",
       "      <td>None</td>\n",
       "    </tr>\n",
       "  </tbody>\n",
       "</table>\n",
       "</div>"
      ],
      "text/plain": [
       "                                      地址                         信息1  \\\n",
       "34030                                                                  \n",
       "34217              60 narrak st ,Balwyn              general by don    \n",
       "34221  U4/20 Burns avenue Clayton south   Exclusive Listing by Lina    \n",
       "34222      U3/34 Evelyn street Clayton。   Exclusive listing by lina    \n",
       "34223   5/3-5 Spring road Clayton south         New Listing by Lina    \n",
       "\n",
       "                                             信息2       信息3           信息4  \\\n",
       "34030                                                                      \n",
       "34217  360-370万佣金1.5%+gst，370万2%+gst.合理offer 可谈   370-380            现房    \n",
       "34221                                    2.2%含税    88-92万   二手Townhouse    \n",
       "34222                                   佣金3%含税。     价格98万   二手townhouse    \n",
       "34223                                 佣金22000含税      885K   二手Townhouse    \n",
       "\n",
       "        信息5   信息6  \n",
       "34030  None  None  \n",
       "34217  None  None  \n",
       "34221  None  None  \n",
       "34222  None  None  \n",
       "34223  None  None  "
      ]
     },
     "execution_count": 50,
     "metadata": {},
     "output_type": "execute_result"
    }
   ],
   "source": [
    "df_core7= df_core6['目标2'].str.split('【\\S+】',expand=True).rename(columns={0:\"地址\",1:\"信息1\",2:\"信息2\",3:\"信息3\",4:\"信息4\",5:\"信息5\",6:\"信息6\"})\n",
    "\n",
    "print(df_core7.info())\n",
    "df_core7.head()"
   ]
  },
  {
   "cell_type": "code",
   "execution_count": 51,
   "metadata": {},
   "outputs": [],
   "source": [
    "# df_core7.loc[df_core7[\"信息6\"].notnull()]"
   ]
  },
  {
   "cell_type": "code",
   "execution_count": null,
   "metadata": {},
   "outputs": [],
   "source": []
  },
  {
   "cell_type": "code",
   "execution_count": null,
   "metadata": {},
   "outputs": [],
   "source": []
  },
  {
   "cell_type": "markdown",
   "metadata": {},
   "source": [
    "# Concat III: pd.concat([df1, df2], axis=1):"
   ]
  },
  {
   "cell_type": "code",
   "execution_count": 52,
   "metadata": {},
   "outputs": [
    {
     "name": "stdout",
     "output_type": "stream",
     "text": [
      "<class 'pandas.core.frame.DataFrame'>\n",
      "Int64Index: 134 entries, 34030 to 36723\n",
      "Data columns (total 14 columns):\n",
      "时间      134 non-null object\n",
      "联系人     134 non-null object\n",
      "微信号     134 non-null object\n",
      "目标      134 non-null object\n",
      "房源描述    134 non-null object\n",
      "目标1     129 non-null object\n",
      "目标2     134 non-null object\n",
      "地址      134 non-null object\n",
      "信息1     134 non-null object\n",
      "信息2     133 non-null object\n",
      "信息3     133 non-null object\n",
      "信息4     132 non-null object\n",
      "信息5     64 non-null object\n",
      "信息6     3 non-null object\n",
      "dtypes: object(14)\n",
      "memory usage: 15.7+ KB\n",
      "None\n"
     ]
    }
   ],
   "source": [
    "df_final=pd.concat([df_core6,df_core7],axis=1)\n",
    "print(df_final.info())\n"
   ]
  },
  {
   "cell_type": "markdown",
   "metadata": {},
   "source": [
    "PS: 再 drop 目标，目标1，目标2，改变房源描述的位置：\n",
    "\n",
    "PS: Summary:\n",
    "\n",
    "1. 房源描述缺少一个，是因为有一个 【] 所以无法 split\n",
    "\n",
    "2. 信息1 -- 信息6， 因为不规律， 无法 extract"
   ]
  },
  {
   "cell_type": "markdown",
   "metadata": {},
   "source": [
    "# Clean Up: drop \"目标\"（已处理），改变column顺序：地址，房源描述：df_final3"
   ]
  },
  {
   "cell_type": "code",
   "execution_count": 53,
   "metadata": {},
   "outputs": [
    {
     "name": "stdout",
     "output_type": "stream",
     "text": [
      "<class 'pandas.core.frame.DataFrame'>\n",
      "Int64Index: 134 entries, 34030 to 36723\n",
      "Data columns (total 11 columns):\n",
      "时间      134 non-null object\n",
      "联系人     134 non-null object\n",
      "微信号     134 non-null object\n",
      "房源描述    134 non-null object\n",
      "地址      134 non-null object\n",
      "信息1     134 non-null object\n",
      "信息2     133 non-null object\n",
      "信息3     133 non-null object\n",
      "信息4     132 non-null object\n",
      "信息5     64 non-null object\n",
      "信息6     3 non-null object\n",
      "dtypes: object(11)\n",
      "memory usage: 12.6+ KB\n",
      "None\n"
     ]
    }
   ],
   "source": [
    "df_final2= df_final.drop(columns=[\"目标\",\"目标1\",\"目标2\"])\n",
    "print(df_final2.info())"
   ]
  },
  {
   "cell_type": "code",
   "execution_count": 54,
   "metadata": {},
   "outputs": [
    {
     "data": {
      "text/html": [
       "<div>\n",
       "<style scoped>\n",
       "    .dataframe tbody tr th:only-of-type {\n",
       "        vertical-align: middle;\n",
       "    }\n",
       "\n",
       "    .dataframe tbody tr th {\n",
       "        vertical-align: top;\n",
       "    }\n",
       "\n",
       "    .dataframe thead th {\n",
       "        text-align: right;\n",
       "    }\n",
       "</style>\n",
       "<table border=\"1\" class=\"dataframe\">\n",
       "  <thead>\n",
       "    <tr style=\"text-align: right;\">\n",
       "      <th></th>\n",
       "      <th>地址</th>\n",
       "      <th>时间</th>\n",
       "      <th>联系人</th>\n",
       "      <th>微信号</th>\n",
       "      <th>信息1</th>\n",
       "      <th>信息2</th>\n",
       "      <th>信息3</th>\n",
       "      <th>信息4</th>\n",
       "      <th>信息5</th>\n",
       "      <th>信息6</th>\n",
       "      <th>房源描述</th>\n",
       "    </tr>\n",
       "  </thead>\n",
       "  <tbody>\n",
       "    <tr>\n",
       "      <td>34298</td>\n",
       "      <td>91 Ward road Berwick VIC 3806</td>\n",
       "      <td>2022-02-22 23:50:41</td>\n",
       "      <td>公司工 澳盛装修Tingers??</td>\n",
       "      <td>ting1458</td>\n",
       "      <td>独家代理by Tingers&amp;Fran</td>\n",
       "      <td>95万以上60%佣金含GST （佣金可谈)</td>\n",
       "      <td>建议报价98-102万</td>\n",
       "      <td>准现房/交割时间30-90天</td>\n",
       "      <td>None</td>\n",
       "      <td>None</td>\n",
       "      <td>拐角，独立，双层红砖，大别墅，建于2001年 4房2卫双车库，全套主卧，开放式大厅，现代化厨房，房内外都保持完美。拐角高位，视线开阔，无遮挡。占地594平米，建筑224平米。后院有15x19米 的巨大shed, 结构和功能非常好，可以办公、做手工和经营生意。 近学校、商铺和 berwick springs lake。同地段售价都在$100-$110万，这个地区是热门西人区，价格涨得飞快，秒卖房源！！！ 现目前有租客，麻烦私下找我安排时间看房，谢谢配合。https://www.dropbox.com/sh/765tpo3by175zwf/AAA9c_yTmjlqv08jL5RO4LRZa?dl=0</td>\n",
       "    </tr>\n",
       "    <tr>\n",
       "      <td>34223</td>\n",
       "      <td>5/3-5 Spring road Clayton south</td>\n",
       "      <td>2022-02-22 11:12:09</td>\n",
       "      <td>公司 澳盛集团??Boxhill</td>\n",
       "      <td>wxid_vz1d02xdx5dr22</td>\n",
       "      <td>New Listing by Lina</td>\n",
       "      <td>佣金22000含税</td>\n",
       "      <td>885K</td>\n",
       "      <td>二手Townhouse</td>\n",
       "      <td>None</td>\n",
       "      <td>None</td>\n",
       "      <td>7年二手重翻新townhouse，3房2.5卫+宽敞独立餐厅和客厅。步行到Clayton商业中心和火车站。预约看房。 https://www.dropbox.com/sh/4m4pzibwe5eruap/AACaHC4emG2E72AjPspbJ8JUa?dl=0</td>\n",
       "    </tr>\n",
       "    <tr>\n",
       "      <td>34730</td>\n",
       "      <td>Lot2306/308 Exhibition Street, Melbourne VIC</td>\n",
       "      <td>2022-02-27 19:05:48</td>\n",
       "      <td>Patrick_zhao ????Austrump</td>\n",
       "      <td>wxid_ix7152e5n6qj21</td>\n",
       "      <td>new exclusive listing by Patrick zhao</td>\n",
       "      <td>亏8% 自行斟酌</td>\n",
       "      <td>如下</td>\n",
       "      <td></td>\n",
       "      <td>None</td>\n",
       "      <td>None</td>\n",
       "      <td>血亏8%?? 原合同价：$526, 000，1房1卫 室内面积51.1㎡ 2017年6月签的合同，可以节省大量印花税??东西北朝向，大落地窗，好景观！预计2022年6-7月交房。亏8%转，佣金自加?? https://drive.google.com/drive/folders/1eI5DaUch3UXqtrxHU80DiQDFp8zxShkY?usp=sharing</td>\n",
       "    </tr>\n",
       "  </tbody>\n",
       "</table>\n",
       "</div>"
      ],
      "text/plain": [
       "                                                  地址                   时间  \\\n",
       "34298                 91 Ward road Berwick VIC 3806   2022-02-22 23:50:41   \n",
       "34223               5/3-5 Spring road Clayton south   2022-02-22 11:12:09   \n",
       "34730  Lot2306/308 Exhibition Street, Melbourne VIC   2022-02-27 19:05:48   \n",
       "\n",
       "                             联系人                  微信号  \\\n",
       "34298          公司工 澳盛装修Tingers??             ting1458   \n",
       "34223           公司 澳盛集团??Boxhill  wxid_vz1d02xdx5dr22   \n",
       "34730  Patrick_zhao ????Austrump  wxid_ix7152e5n6qj21   \n",
       "\n",
       "                                          信息1                     信息2  \\\n",
       "34298                    独家代理by Tingers&Fran   95万以上60%佣金含GST （佣金可谈)    \n",
       "34223                    New Listing by Lina               佣金22000含税    \n",
       "34730  new exclusive listing by Patrick zhao                亏8% 自行斟酌    \n",
       "\n",
       "                信息3              信息4   信息5   信息6  \\\n",
       "34298  建议报价98-102万   准现房/交割时间30-90天   None  None   \n",
       "34223         885K      二手Townhouse   None  None   \n",
       "34730           如下                    None  None   \n",
       "\n",
       "                                                                                                                                                                                                                                                                                                                房源描述  \n",
       "34298  拐角，独立，双层红砖，大别墅，建于2001年 4房2卫双车库，全套主卧，开放式大厅，现代化厨房，房内外都保持完美。拐角高位，视线开阔，无遮挡。占地594平米，建筑224平米。后院有15x19米 的巨大shed, 结构和功能非常好，可以办公、做手工和经营生意。 近学校、商铺和 berwick springs lake。同地段售价都在$100-$110万，这个地区是热门西人区，价格涨得飞快，秒卖房源！！！ 现目前有租客，麻烦私下找我安排时间看房，谢谢配合。https://www.dropbox.com/sh/765tpo3by175zwf/AAA9c_yTmjlqv08jL5RO4LRZa?dl=0  \n",
       "34223                                                                                                                                                                           7年二手重翻新townhouse，3房2.5卫+宽敞独立餐厅和客厅。步行到Clayton商业中心和火车站。预约看房。 https://www.dropbox.com/sh/4m4pzibwe5eruap/AACaHC4emG2E72AjPspbJ8JUa?dl=0  \n",
       "34730                                                                                                                      血亏8%?? 原合同价：$526, 000，1房1卫 室内面积51.1㎡ 2017年6月签的合同，可以节省大量印花税??东西北朝向，大落地窗，好景观！预计2022年6-7月交房。亏8%转，佣金自加?? https://drive.google.com/drive/folders/1eI5DaUch3UXqtrxHU80DiQDFp8zxShkY?usp=sharing  "
      ]
     },
     "execution_count": 54,
     "metadata": {},
     "output_type": "execute_result"
    }
   ],
   "source": [
    "df_final3 = df_final2[[\"地址\",\"时间\",\"联系人\",\"微信号\",\"信息1\",\"信息2\",\"信息3\",\"信息4\",\"信息5\",\"信息6\",\"房源描述\"]]\n",
    "df_final3.sample(3)"
   ]
  },
  {
   "cell_type": "markdown",
   "metadata": {},
   "source": [
    "# Check 残留 -- 信息1：中还有地址"
   ]
  },
  {
   "cell_type": "code",
   "execution_count": 55,
   "metadata": {},
   "outputs": [
    {
     "data": {
      "text/html": [
       "<div>\n",
       "<style scoped>\n",
       "    .dataframe tbody tr th:only-of-type {\n",
       "        vertical-align: middle;\n",
       "    }\n",
       "\n",
       "    .dataframe tbody tr th {\n",
       "        vertical-align: top;\n",
       "    }\n",
       "\n",
       "    .dataframe thead th {\n",
       "        text-align: right;\n",
       "    }\n",
       "</style>\n",
       "<table border=\"1\" class=\"dataframe\">\n",
       "  <thead>\n",
       "    <tr style=\"text-align: right;\">\n",
       "      <th></th>\n",
       "      <th>地址</th>\n",
       "      <th>时间</th>\n",
       "      <th>联系人</th>\n",
       "      <th>微信号</th>\n",
       "      <th>信息1</th>\n",
       "      <th>信息2</th>\n",
       "      <th>信息3</th>\n",
       "      <th>信息4</th>\n",
       "      <th>信息5</th>\n",
       "      <th>信息6</th>\n",
       "      <th>房源描述</th>\n",
       "    </tr>\n",
       "  </thead>\n",
       "  <tbody>\n",
       "    <tr>\n",
       "      <td>34909</td>\n",
       "      <td></td>\n",
       "      <td>2022-03-01 11:13:47</td>\n",
       "      <td>公司 澳盛集团????yoyo??</td>\n",
       "      <td>q15630185</td>\n",
       "      <td>west side place gold release 【项目地址]2906D/ 250 spencer St, Melbourne VIC 3000</td>\n",
       "      <td>nomination</td>\n",
       "      <td>Yes</td>\n",
       "      <td>5%</td>\n",
       "      <td>合同价$532,400</td>\n",
       "      <td>8,9月交房</td>\n",
       "      <td>CBD楼王 - 商业综合体项目，1房?1书房，面积57平米朝北，原始合同签于2017年6月25日，省印花税。https://www.dropbox.com/sh/41ih0ixy4m7b17x/AACpMDQa5KGXAzXCWHMK-V7Ma?dl=0</td>\n",
       "    </tr>\n",
       "    <tr>\n",
       "      <td>34910</td>\n",
       "      <td></td>\n",
       "      <td>2022-03-01 11:16:59</td>\n",
       "      <td>公司 澳盛集团?? Lazio</td>\n",
       "      <td>lazio61707927</td>\n",
       "      <td>west side place 塔A 【项目地址]2407A/250 spencer St, Melbourne VIC 3000</td>\n",
       "      <td>nomination</td>\n",
       "      <td>Yes</td>\n",
       "      <td>7%</td>\n",
       "      <td>合同价$519200</td>\n",
       "      <td>1个月</td>\n",
       "      <td>CBD楼王 - 商业综合体项目，2407A属于朝北当年一抢而空的价格非常好的朝北户型。面积54.83平。1房1卫很好出租户型。 https://www.dropbox.com/sh/bo2ss4kpjh6on4u/AADWUygRNIeWIsey6sO-7OHNa?dl=0</td>\n",
       "    </tr>\n",
       "    <tr>\n",
       "      <td>34913</td>\n",
       "      <td>q15630185: &lt;?xml version=\"1.0\"?&gt; &lt;msg&gt; &lt;appmsg appid=\"\" sdkver=\"0\"&gt; &lt;title&gt;哈哈哈，listing agent [大哭]&lt;/title&gt; &lt;des /&gt; &lt;action /&gt; &lt;type&gt;57&lt;/type&gt; &lt;showtype&gt;0&lt;/showtype&gt; &lt;soundtype&gt;0&lt;/soundtype&gt; &lt;mediatagname /&gt; &lt;messageext /&gt; &lt;messageaction /&gt; &lt;content /&gt; &lt;contentattr&gt;0&lt;/contentattr&gt; &lt;url /&gt; &lt;lowurl /&gt; &lt;dataurl /&gt; &lt;lowdataurl /&gt; &lt;songalbumurl /&gt; &lt;songlyric /&gt; &lt;appattach&gt; &lt;totallen&gt;0&lt;/totallen&gt; &lt;attachid /&gt; &lt;emoticonmd5 /&gt; &lt;fileext /&gt; &lt;cdnthumbaeskey /&gt; &lt;aeskey /&gt; &lt;/appattach&gt; &lt;extinfo /&gt; &lt;sourceusername /&gt; &lt;sourcedisplayname /&gt; &lt;thumburl /&gt; &lt;md5 /&gt; &lt;statextstr /&gt; &lt;directshare&gt;0&lt;/directshare&gt; &lt;r...</td>\n",
       "      <td>2022-03-01 11:21:52</td>\n",
       "      <td>公司 澳盛集团????yoyo??</td>\n",
       "      <td>q15630185</td>\n",
       "      <td>west side place 塔A 【项目地址]2407A/250 spencer St, Melbourne VIC 3000</td>\n",
       "      <td>nomination</td>\n",
       "      <td>Yes</td>\n",
       "      <td>7%</td>\n",
       "      <td>合同价$519200</td>\n",
       "      <td>1个月</td>\n",
       "      <td>CBD楼王 - 商业综合体项目，2407A属于朝北当年一抢而空的价格非常好的朝北户型。面积54.83平。1房1卫很好出租户型。 https://www.dropbox.com/sh/bo2ss4kpjh6on4u/AADWUygRNIeWIsey6sO-7OHNa?dl=0&lt;/content&gt; &lt;msgsource&gt;&amp;lt;msgsource&amp;gt;&amp;lt;sequence_id&amp;gt;762071651&amp;lt;/sequence_id&amp;gt; &amp;lt;bizflag&amp;gt;0&amp;lt;/bizflag&amp;gt; &amp;lt;silence&amp;gt;1&amp;lt;/silence&amp;gt; &amp;lt;membercount&amp;gt;155&amp;lt;/membercount&amp;gt; &amp;lt;signature&amp;gt;v1_e6DabgBv&amp;lt;/signature&amp;gt; &amp;lt;/msgsource&amp;gt; &lt;/msgsource&gt; &lt;/refermsg&gt; &lt;/appmsg&gt; &lt;fromusername&gt;q15630185&lt;/fromusername&gt; &lt;scene&gt;0&lt;/scene&gt; &lt;appinfo&gt; &lt;version&gt;1&lt;/version&gt; &lt;appname&gt;&lt;/appname&gt; &lt;/appinfo&gt; &lt;commenturl&gt;&lt;/commenturl&gt; &lt;/msg&gt;</td>\n",
       "    </tr>\n",
       "  </tbody>\n",
       "</table>\n",
       "</div>"
      ],
      "text/plain": [
       "                                                                                                                                                                                                                                                                                                                                                                                                                                                                                                                                                                                                                            地址  \\\n",
       "34909                                                                                                                                                                                                                                                                                                                                                                                                                                                                                                                                                                                                                            \n",
       "34910                                                                                                                                                                                                                                                                                                                                                                                                                                                                                                                                                                                                                            \n",
       "34913  q15630185: <?xml version=\"1.0\"?> <msg> <appmsg appid=\"\" sdkver=\"0\"> <title>哈哈哈，listing agent [大哭]</title> <des /> <action /> <type>57</type> <showtype>0</showtype> <soundtype>0</soundtype> <mediatagname /> <messageext /> <messageaction /> <content /> <contentattr>0</contentattr> <url /> <lowurl /> <dataurl /> <lowdataurl /> <songalbumurl /> <songlyric /> <appattach> <totallen>0</totallen> <attachid /> <emoticonmd5 /> <fileext /> <cdnthumbaeskey /> <aeskey /> </appattach> <extinfo /> <sourceusername /> <sourcedisplayname /> <thumburl /> <md5 /> <statextstr /> <directshare>0</directshare> <r...   \n",
       "\n",
       "                        时间                联系人            微信号  \\\n",
       "34909  2022-03-01 11:13:47  公司 澳盛集团????yoyo??      q15630185   \n",
       "34910  2022-03-01 11:16:59    公司 澳盛集团?? Lazio  lazio61707927   \n",
       "34913  2022-03-01 11:21:52  公司 澳盛集团????yoyo??      q15630185   \n",
       "\n",
       "                                                                                 信息1  \\\n",
       "34909  west side place gold release 【项目地址]2906D/ 250 spencer St, Melbourne VIC 3000    \n",
       "34910             west side place 塔A 【项目地址]2407A/250 spencer St, Melbourne VIC 3000    \n",
       "34913             west side place 塔A 【项目地址]2407A/250 spencer St, Melbourne VIC 3000    \n",
       "\n",
       "               信息2   信息3  信息4           信息5      信息6  \\\n",
       "34909  nomination   Yes   5%   合同价$532,400   8,9月交房    \n",
       "34910  nomination   Yes   7%    合同价$519200      1个月    \n",
       "34913  nomination   Yes   7%    合同价$519200      1个月    \n",
       "\n",
       "                                                                                                                                                                                                                                                                                                                                                                                                                                                                                                                                                                                                            房源描述  \n",
       "34909                                                                                                                                                                                                                                                                                                                                                                                                                                                                            CBD楼王 - 商业综合体项目，1房?1书房，面积57平米朝北，原始合同签于2017年6月25日，省印花税。https://www.dropbox.com/sh/41ih0ixy4m7b17x/AACpMDQa5KGXAzXCWHMK-V7Ma?dl=0  \n",
       "34910                                                                                                                                                                                                                                                                                                                                                                                                                                                                  CBD楼王 - 商业综合体项目，2407A属于朝北当年一抢而空的价格非常好的朝北户型。面积54.83平。1房1卫很好出租户型。 https://www.dropbox.com/sh/bo2ss4kpjh6on4u/AADWUygRNIeWIsey6sO-7OHNa?dl=0  \n",
       "34913  CBD楼王 - 商业综合体项目，2407A属于朝北当年一抢而空的价格非常好的朝北户型。面积54.83平。1房1卫很好出租户型。 https://www.dropbox.com/sh/bo2ss4kpjh6on4u/AADWUygRNIeWIsey6sO-7OHNa?dl=0</content> <msgsource>&lt;msgsource&gt;&lt;sequence_id&gt;762071651&lt;/sequence_id&gt; &lt;bizflag&gt;0&lt;/bizflag&gt; &lt;silence&gt;1&lt;/silence&gt; &lt;membercount&gt;155&lt;/membercount&gt; &lt;signature&gt;v1_e6DabgBv&lt;/signature&gt; &lt;/msgsource&gt; </msgsource> </refermsg> </appmsg> <fromusername>q15630185</fromusername> <scene>0</scene> <appinfo> <version>1</version> <appname></appname> </appinfo> <commenturl></commenturl> </msg>  "
      ]
     },
     "execution_count": 55,
     "metadata": {},
     "output_type": "execute_result"
    }
   ],
   "source": [
    "df_final3[df_final3[\"信息1\"].str.contains(\"项目地址\")]"
   ]
  },
  {
   "cell_type": "code",
   "execution_count": 56,
   "metadata": {},
   "outputs": [],
   "source": [
    "df_final3.loc[df_final3[\"信息1\"].str.contains(\"项目地址\"),\"地址\"]=df_final3[\"信息1\"]"
   ]
  },
  {
   "cell_type": "code",
   "execution_count": 57,
   "metadata": {},
   "outputs": [
    {
     "data": {
      "text/html": [
       "<div>\n",
       "<style scoped>\n",
       "    .dataframe tbody tr th:only-of-type {\n",
       "        vertical-align: middle;\n",
       "    }\n",
       "\n",
       "    .dataframe tbody tr th {\n",
       "        vertical-align: top;\n",
       "    }\n",
       "\n",
       "    .dataframe thead th {\n",
       "        text-align: right;\n",
       "    }\n",
       "</style>\n",
       "<table border=\"1\" class=\"dataframe\">\n",
       "  <thead>\n",
       "    <tr style=\"text-align: right;\">\n",
       "      <th></th>\n",
       "      <th>地址</th>\n",
       "      <th>时间</th>\n",
       "      <th>联系人</th>\n",
       "      <th>微信号</th>\n",
       "      <th>信息1</th>\n",
       "      <th>信息2</th>\n",
       "      <th>信息3</th>\n",
       "      <th>信息4</th>\n",
       "      <th>信息5</th>\n",
       "      <th>信息6</th>\n",
       "      <th>房源描述</th>\n",
       "    </tr>\n",
       "  </thead>\n",
       "  <tbody>\n",
       "    <tr>\n",
       "      <td>34909</td>\n",
       "      <td>west side place gold release 【项目地址]2906D/ 250 spencer St, Melbourne VIC 3000</td>\n",
       "      <td>2022-03-01 11:13:47</td>\n",
       "      <td>公司 澳盛集团????yoyo??</td>\n",
       "      <td>q15630185</td>\n",
       "      <td>west side place gold release 【项目地址]2906D/ 250 spencer St, Melbourne VIC 3000</td>\n",
       "      <td>nomination</td>\n",
       "      <td>Yes</td>\n",
       "      <td>5%</td>\n",
       "      <td>合同价$532,400</td>\n",
       "      <td>8,9月交房</td>\n",
       "      <td>CBD楼王 - 商业综合体项目，1房?1书房，面积57平米朝北，原始合同签于2017年6月25日，省印花税。https://www.dropbox.com/sh/41ih0ixy4m7b17x/AACpMDQa5KGXAzXCWHMK-V7Ma?dl=0</td>\n",
       "    </tr>\n",
       "    <tr>\n",
       "      <td>34910</td>\n",
       "      <td>west side place 塔A 【项目地址]2407A/250 spencer St, Melbourne VIC 3000</td>\n",
       "      <td>2022-03-01 11:16:59</td>\n",
       "      <td>公司 澳盛集团?? Lazio</td>\n",
       "      <td>lazio61707927</td>\n",
       "      <td>west side place 塔A 【项目地址]2407A/250 spencer St, Melbourne VIC 3000</td>\n",
       "      <td>nomination</td>\n",
       "      <td>Yes</td>\n",
       "      <td>7%</td>\n",
       "      <td>合同价$519200</td>\n",
       "      <td>1个月</td>\n",
       "      <td>CBD楼王 - 商业综合体项目，2407A属于朝北当年一抢而空的价格非常好的朝北户型。面积54.83平。1房1卫很好出租户型。 https://www.dropbox.com/sh/bo2ss4kpjh6on4u/AADWUygRNIeWIsey6sO-7OHNa?dl=0</td>\n",
       "    </tr>\n",
       "    <tr>\n",
       "      <td>34913</td>\n",
       "      <td>west side place 塔A 【项目地址]2407A/250 spencer St, Melbourne VIC 3000</td>\n",
       "      <td>2022-03-01 11:21:52</td>\n",
       "      <td>公司 澳盛集团????yoyo??</td>\n",
       "      <td>q15630185</td>\n",
       "      <td>west side place 塔A 【项目地址]2407A/250 spencer St, Melbourne VIC 3000</td>\n",
       "      <td>nomination</td>\n",
       "      <td>Yes</td>\n",
       "      <td>7%</td>\n",
       "      <td>合同价$519200</td>\n",
       "      <td>1个月</td>\n",
       "      <td>CBD楼王 - 商业综合体项目，2407A属于朝北当年一抢而空的价格非常好的朝北户型。面积54.83平。1房1卫很好出租户型。 https://www.dropbox.com/sh/bo2ss4kpjh6on4u/AADWUygRNIeWIsey6sO-7OHNa?dl=0&lt;/content&gt; &lt;msgsource&gt;&amp;lt;msgsource&amp;gt;&amp;lt;sequence_id&amp;gt;762071651&amp;lt;/sequence_id&amp;gt; &amp;lt;bizflag&amp;gt;0&amp;lt;/bizflag&amp;gt; &amp;lt;silence&amp;gt;1&amp;lt;/silence&amp;gt; &amp;lt;membercount&amp;gt;155&amp;lt;/membercount&amp;gt; &amp;lt;signature&amp;gt;v1_e6DabgBv&amp;lt;/signature&amp;gt; &amp;lt;/msgsource&amp;gt; &lt;/msgsource&gt; &lt;/refermsg&gt; &lt;/appmsg&gt; &lt;fromusername&gt;q15630185&lt;/fromusername&gt; &lt;scene&gt;0&lt;/scene&gt; &lt;appinfo&gt; &lt;version&gt;1&lt;/version&gt; &lt;appname&gt;&lt;/appname&gt; &lt;/appinfo&gt; &lt;commenturl&gt;&lt;/commenturl&gt; &lt;/msg&gt;</td>\n",
       "    </tr>\n",
       "  </tbody>\n",
       "</table>\n",
       "</div>"
      ],
      "text/plain": [
       "                                                                                  地址  \\\n",
       "34909  west side place gold release 【项目地址]2906D/ 250 spencer St, Melbourne VIC 3000    \n",
       "34910             west side place 塔A 【项目地址]2407A/250 spencer St, Melbourne VIC 3000    \n",
       "34913             west side place 塔A 【项目地址]2407A/250 spencer St, Melbourne VIC 3000    \n",
       "\n",
       "                        时间                联系人            微信号  \\\n",
       "34909  2022-03-01 11:13:47  公司 澳盛集团????yoyo??      q15630185   \n",
       "34910  2022-03-01 11:16:59    公司 澳盛集团?? Lazio  lazio61707927   \n",
       "34913  2022-03-01 11:21:52  公司 澳盛集团????yoyo??      q15630185   \n",
       "\n",
       "                                                                                 信息1  \\\n",
       "34909  west side place gold release 【项目地址]2906D/ 250 spencer St, Melbourne VIC 3000    \n",
       "34910             west side place 塔A 【项目地址]2407A/250 spencer St, Melbourne VIC 3000    \n",
       "34913             west side place 塔A 【项目地址]2407A/250 spencer St, Melbourne VIC 3000    \n",
       "\n",
       "               信息2   信息3  信息4           信息5      信息6  \\\n",
       "34909  nomination   Yes   5%   合同价$532,400   8,9月交房    \n",
       "34910  nomination   Yes   7%    合同价$519200      1个月    \n",
       "34913  nomination   Yes   7%    合同价$519200      1个月    \n",
       "\n",
       "                                                                                                                                                                                                                                                                                                                                                                                                                                                                                                                                                                                                            房源描述  \n",
       "34909                                                                                                                                                                                                                                                                                                                                                                                                                                                                            CBD楼王 - 商业综合体项目，1房?1书房，面积57平米朝北，原始合同签于2017年6月25日，省印花税。https://www.dropbox.com/sh/41ih0ixy4m7b17x/AACpMDQa5KGXAzXCWHMK-V7Ma?dl=0  \n",
       "34910                                                                                                                                                                                                                                                                                                                                                                                                                                                                  CBD楼王 - 商业综合体项目，2407A属于朝北当年一抢而空的价格非常好的朝北户型。面积54.83平。1房1卫很好出租户型。 https://www.dropbox.com/sh/bo2ss4kpjh6on4u/AADWUygRNIeWIsey6sO-7OHNa?dl=0  \n",
       "34913  CBD楼王 - 商业综合体项目，2407A属于朝北当年一抢而空的价格非常好的朝北户型。面积54.83平。1房1卫很好出租户型。 https://www.dropbox.com/sh/bo2ss4kpjh6on4u/AADWUygRNIeWIsey6sO-7OHNa?dl=0</content> <msgsource>&lt;msgsource&gt;&lt;sequence_id&gt;762071651&lt;/sequence_id&gt; &lt;bizflag&gt;0&lt;/bizflag&gt; &lt;silence&gt;1&lt;/silence&gt; &lt;membercount&gt;155&lt;/membercount&gt; &lt;signature&gt;v1_e6DabgBv&lt;/signature&gt; &lt;/msgsource&gt; </msgsource> </refermsg> </appmsg> <fromusername>q15630185</fromusername> <scene>0</scene> <appinfo> <version>1</version> <appname></appname> </appinfo> <commenturl></commenturl> </msg>  "
      ]
     },
     "execution_count": 57,
     "metadata": {},
     "output_type": "execute_result"
    }
   ],
   "source": [
    "df_final3[df_final3[\"信息1\"].str.contains(\"项目地址\")]"
   ]
  },
  {
   "cell_type": "markdown",
   "metadata": {},
   "source": [
    "# Clean index column:"
   ]
  },
  {
   "cell_type": "code",
   "execution_count": 58,
   "metadata": {},
   "outputs": [
    {
     "data": {
      "text/html": [
       "<div>\n",
       "<style scoped>\n",
       "    .dataframe tbody tr th:only-of-type {\n",
       "        vertical-align: middle;\n",
       "    }\n",
       "\n",
       "    .dataframe tbody tr th {\n",
       "        vertical-align: top;\n",
       "    }\n",
       "\n",
       "    .dataframe thead th {\n",
       "        text-align: right;\n",
       "    }\n",
       "</style>\n",
       "<table border=\"1\" class=\"dataframe\">\n",
       "  <thead>\n",
       "    <tr style=\"text-align: right;\">\n",
       "      <th></th>\n",
       "      <th>地址</th>\n",
       "      <th>时间</th>\n",
       "      <th>联系人</th>\n",
       "      <th>微信号</th>\n",
       "      <th>信息1</th>\n",
       "      <th>信息2</th>\n",
       "      <th>信息3</th>\n",
       "      <th>信息4</th>\n",
       "      <th>信息5</th>\n",
       "      <th>信息6</th>\n",
       "      <th>房源描述</th>\n",
       "    </tr>\n",
       "  </thead>\n",
       "  <tbody>\n",
       "    <tr>\n",
       "      <td>98</td>\n",
       "      <td>12-14 power street Donvale</td>\n",
       "      <td>2022-03-08 13:44:57</td>\n",
       "      <td>公司 澳盛集团????yoyo??</td>\n",
       "      <td>q15630185</td>\n",
       "      <td>对接 listing by Yoyo yu</td>\n",
       "      <td>Yes</td>\n",
       "      <td>$35000</td>\n",
       "      <td>价格$123.88-125.88万</td>\n",
       "      <td>现房</td>\n",
       "      <td>None</td>\n",
       "      <td>Dear all new listing by Yoyo: 12-14 Powers St Donvale. 顶级公校校区联排！全新现房??随时交割。仅剩最后2套。 位于双校区，4房大户型，地势高，全套miele。 ?????? East Doncaster Secondary Collage 和 Milgate 97分小学 U1:现更改为独立地址：6 powers st donvale，4房3.5卫2车位。室内172平，占地197平。价格$125.88万。 U5: 价格$123.88万，现地址更新为4/10 powers st donvale，4房3.5卫2车位，室内172平，占地228平。佣金都是$35000。https://www.dropbox.com/sh/e8w64tlqxsueeuw/AADPBIEo-1uu6q_G9Vy_fu2wa?dl=0</td>\n",
       "    </tr>\n",
       "  </tbody>\n",
       "</table>\n",
       "</div>"
      ],
      "text/plain": [
       "                             地址                   时间                联系人  \\\n",
       "98  12-14 power street Donvale   2022-03-08 13:44:57  公司 澳盛集团????yoyo??   \n",
       "\n",
       "          微信号                     信息1   信息2      信息3                 信息4  信息5  \\\n",
       "98  q15630185  对接 listing by Yoyo yu   Yes   $35000   价格$123.88-125.88万   现房    \n",
       "\n",
       "     信息6  \\\n",
       "98  None   \n",
       "\n",
       "                                                                                                                                                                                                                                                                                                                                                                                                房源描述  \n",
       "98  Dear all new listing by Yoyo: 12-14 Powers St Donvale. 顶级公校校区联排！全新现房??随时交割。仅剩最后2套。 位于双校区，4房大户型，地势高，全套miele。 ?????? East Doncaster Secondary Collage 和 Milgate 97分小学 U1:现更改为独立地址：6 powers st donvale，4房3.5卫2车位。室内172平，占地197平。价格$125.88万。 U5: 价格$123.88万，现地址更新为4/10 powers st donvale，4房3.5卫2车位，室内172平，占地228平。佣金都是$35000。https://www.dropbox.com/sh/e8w64tlqxsueeuw/AADPBIEo-1uu6q_G9Vy_fu2wa?dl=0  "
      ]
     },
     "execution_count": 58,
     "metadata": {},
     "output_type": "execute_result"
    }
   ],
   "source": [
    "df_final4 = df_final3.reset_index(drop=True)\n",
    "df_final4.sample(1)"
   ]
  },
  {
   "cell_type": "markdown",
   "metadata": {},
   "source": [
    "# 测试学习："
   ]
  },
  {
   "cell_type": "markdown",
   "metadata": {},
   "source": [
    "remove:\n",
    "1. \" * \" 号   \" 。\"号  \" | \" 号 -- OK\n",
    "\n",
    "2. 中文\n",
    "\n",
    "3. \" ( xxx ) \" 包含  -- PS： 两种，英文括号，中文括号  -- OK\n",
    "\n",
    "4. \" * xxx * \"  包含  -- OK \n",
    "\n",
    "drop: 地址中包含：\n",
    "1. 空白 -- 没有英文的  -- 虽然空白被认为不是 null, 但不含英文肯定不是 -- OK\n",
    "\n",
    "2. <> -- OK "
   ]
  },
  {
   "cell_type": "markdown",
   "metadata": {},
   "source": [
    "PS：测试 = 正确"
   ]
  },
  {
   "cell_type": "code",
   "execution_count": 59,
   "metadata": {},
   "outputs": [
    {
     "data": {
      "text/plain": [
       "4"
      ]
     },
     "execution_count": 59,
     "metadata": {},
     "output_type": "execute_result"
    }
   ],
   "source": [
    "df_final4[\"地址\"].str.contains(\"\\*+\").sum()"
   ]
  },
  {
   "cell_type": "code",
   "execution_count": 60,
   "metadata": {},
   "outputs": [
    {
     "data": {
      "text/html": [
       "<div>\n",
       "<style scoped>\n",
       "    .dataframe tbody tr th:only-of-type {\n",
       "        vertical-align: middle;\n",
       "    }\n",
       "\n",
       "    .dataframe tbody tr th {\n",
       "        vertical-align: top;\n",
       "    }\n",
       "\n",
       "    .dataframe thead th {\n",
       "        text-align: right;\n",
       "    }\n",
       "</style>\n",
       "<table border=\"1\" class=\"dataframe\">\n",
       "  <thead>\n",
       "    <tr style=\"text-align: right;\">\n",
       "      <th></th>\n",
       "      <th>地址</th>\n",
       "      <th>时间</th>\n",
       "      <th>联系人</th>\n",
       "      <th>微信号</th>\n",
       "      <th>信息1</th>\n",
       "      <th>信息2</th>\n",
       "      <th>信息3</th>\n",
       "      <th>信息4</th>\n",
       "      <th>信息5</th>\n",
       "      <th>信息6</th>\n",
       "      <th>房源描述</th>\n",
       "    </tr>\n",
       "  </thead>\n",
       "  <tbody>\n",
       "    <tr>\n",
       "      <td>14</td>\n",
       "      <td>* 3604/285 La Trobe Street, Melbourne VIC 3004 * EPORO Tower *</td>\n",
       "      <td>2022-02-22 14:31:21</td>\n",
       "      <td>Patrick_zhao ????Austrump</td>\n",
       "      <td>wxid_ix7152e5n6qj21</td>\n",
       "      <td>Exclusive listing by Patrick zhao *</td>\n",
       "      <td>52万以上都是佣金建议报价54万+ *</td>\n",
       "      <td>52万 *</td>\n",
       "      <td>* 二手5年新公寓 2房1卫1车位 *</td>\n",
       "      <td>None</td>\n",
       "      <td>None</td>\n",
       "      <td>* 室内54平，阳台3平，2房1卫1车位 居住共57平。朝北！房型方正，采光良好，收租神器，楼下就是Melbourne central近一切。电车站free tram zone 四通八达，目前有租客，租约到22年2月25号，管理权已在澳盛管家，看房提前跟我预约。同事们加油！ * https://drive.google.com/drive/folders/1XJygmraOP-u0IgjPEtp_cPUx-pL0jxC8?usp=sharing</td>\n",
       "    </tr>\n",
       "    <tr>\n",
       "      <td>16</td>\n",
       "      <td>* 11 Dunlop ave, Kew, 3101 *</td>\n",
       "      <td>2022-02-22 23:36:12</td>\n",
       "      <td>澳盛集团??Don</td>\n",
       "      <td>wxid_rm0z8a3l53lm12</td>\n",
       "      <td>Exclusive listing *</td>\n",
       "      <td>佣金340万内1.1%含Gst，超过部分20%是佣金。 *</td>\n",
       "      <td>建议报价340-350万 *</td>\n",
       "      <td>二手房 *</td>\n",
       "      <td>None</td>\n",
       "      <td>None</td>\n",
       "      <td>4B 3B 2living 2 kitchen 2 garages 占地643 SQM，距离市区仅5 km，公校私校环绕，出门紧邻雅拉河，钓鱼散步锻炼，集休闲娱乐于林荫之中。走路2分钟电车站直达CBD，房东购买后，请local builder精心装修，四面通透明亮condition很好，绿植围绕，设计简约独特大气，可拧包入住。1公里内实现咖啡馆，健身房，Kew图书馆，购物街（Coles，Woolies，亚超，中餐厅）一应俱全的绝妙式生活。 重点??请各位同事发广告的时候不要发外观图片和地址。很多中介最近一直在骚扰房东，房东回复是不卖。 https://www.dropbox.com/sh/bh7cogegvd7lol2/AAC4QMUwVLmI-RQqxatCBp1fa?dl=0</td>\n",
       "    </tr>\n",
       "    <tr>\n",
       "      <td>51</td>\n",
       "      <td>* 2409/285 La Trobe Street, Melbourne VIC 3004 * EPORO Tower *</td>\n",
       "      <td>2022-02-26 15:27:28</td>\n",
       "      <td>公司 澳盛集团??胡e娃</td>\n",
       "      <td>evahyd</td>\n",
       "      <td>Exclusive listing by EVA AND DON *</td>\n",
       "      <td>1.1万含GST *</td>\n",
       "      <td>39万-42万 *</td>\n",
       "      <td>* 二手5年新公寓 一房一厅一卫 *</td>\n",
       "      <td>None</td>\n",
       "      <td>None</td>\n",
       "      <td>* 室内55平，阳台3平，1 房1厅共58平。拐角房型，采光良好，收租神器，楼下就是Melbourne central近一切。电车站free tram zone 四通八达，随时预约看房。 https://www.dropbox.com/sh/fs3hpesf5mlachw/AADrtNSG3yUL36xMCS-3U7kqa?dl=0</td>\n",
       "    </tr>\n",
       "    <tr>\n",
       "      <td>53</td>\n",
       "      <td>* 3604/285 La Trobe Street, Melbourne VIC 3004 * EPORO Tower *</td>\n",
       "      <td>2022-02-26 18:27:21</td>\n",
       "      <td>Patrick_zhao ????Austrump</td>\n",
       "      <td>wxid_ix7152e5n6qj21</td>\n",
       "      <td>Exclusive listing by Patrick zhao *</td>\n",
       "      <td>52万以上都是佣金建议报价54万+ *</td>\n",
       "      <td>54万 *</td>\n",
       "      <td>* 二手5年新公寓 2房1卫1车位 *</td>\n",
       "      <td>None</td>\n",
       "      <td>None</td>\n",
       "      <td>* Eporo Tower室内54平，阳台3平，2房1卫1车位 居住共57平。朝北！房型方正，采光良好，收租神器，楼下就是Melbourne central近一切。电车站free tram zone 四通八达，目前有租客，3.1号会清空！物业费大概4000一年。看房提前跟我预约。同事们加油！ * https://drive.google.com/drive/folders/1XJygmraOP-u0IgjPEtp_cPUx-pL0jxC8?usp=sharing</td>\n",
       "    </tr>\n",
       "  </tbody>\n",
       "</table>\n",
       "</div>"
      ],
      "text/plain": [
       "                                                                  地址  \\\n",
       "14   * 3604/285 La Trobe Street, Melbourne VIC 3004 * EPORO Tower *    \n",
       "16                                     * 11 Dunlop ave, Kew, 3101 *    \n",
       "51   * 2409/285 La Trobe Street, Melbourne VIC 3004 * EPORO Tower *    \n",
       "53   * 3604/285 La Trobe Street, Melbourne VIC 3004 * EPORO Tower *    \n",
       "\n",
       "                     时间                        联系人                  微信号  \\\n",
       "14  2022-02-22 14:31:21  Patrick_zhao ????Austrump  wxid_ix7152e5n6qj21   \n",
       "16  2022-02-22 23:36:12                  澳盛集团??Don  wxid_rm0z8a3l53lm12   \n",
       "51  2022-02-26 15:27:28               公司 澳盛集团??胡e娃               evahyd   \n",
       "53  2022-02-26 18:27:21  Patrick_zhao ????Austrump  wxid_ix7152e5n6qj21   \n",
       "\n",
       "                                     信息1                             信息2  \\\n",
       "14  Exclusive listing by Patrick zhao *             52万以上都是佣金建议报价54万+ *    \n",
       "16                  Exclusive listing *   佣金340万内1.1%含Gst，超过部分20%是佣金。 *    \n",
       "51   Exclusive listing by EVA AND DON *                      1.1万含GST *    \n",
       "53  Exclusive listing by Patrick zhao *             52万以上都是佣金建议报价54万+ *    \n",
       "\n",
       "                信息3                    信息4   信息5   信息6  \\\n",
       "14           52万 *    * 二手5年新公寓 2房1卫1车位 *   None  None   \n",
       "16  建议报价340-350万 *                  二手房 *   None  None   \n",
       "51       39万-42万 *     * 二手5年新公寓 一房一厅一卫 *   None  None   \n",
       "53           54万 *    * 二手5年新公寓 2房1卫1车位 *   None  None   \n",
       "\n",
       "                                                                                                                                                                                                                                                                                                                                                         房源描述  \n",
       "14                                                                                                                           * 室内54平，阳台3平，2房1卫1车位 居住共57平。朝北！房型方正，采光良好，收租神器，楼下就是Melbourne central近一切。电车站free tram zone 四通八达，目前有租客，租约到22年2月25号，管理权已在澳盛管家，看房提前跟我预约。同事们加油！ * https://drive.google.com/drive/folders/1XJygmraOP-u0IgjPEtp_cPUx-pL0jxC8?usp=sharing  \n",
       "16   4B 3B 2living 2 kitchen 2 garages 占地643 SQM，距离市区仅5 km，公校私校环绕，出门紧邻雅拉河，钓鱼散步锻炼，集休闲娱乐于林荫之中。走路2分钟电车站直达CBD，房东购买后，请local builder精心装修，四面通透明亮condition很好，绿植围绕，设计简约独特大气，可拧包入住。1公里内实现咖啡馆，健身房，Kew图书馆，购物街（Coles，Woolies，亚超，中餐厅）一应俱全的绝妙式生活。 重点??请各位同事发广告的时候不要发外观图片和地址。很多中介最近一直在骚扰房东，房东回复是不卖。 https://www.dropbox.com/sh/bh7cogegvd7lol2/AAC4QMUwVLmI-RQqxatCBp1fa?dl=0  \n",
       "51                                                                                                                                                                                    * 室内55平，阳台3平，1 房1厅共58平。拐角房型，采光良好，收租神器，楼下就是Melbourne central近一切。电车站free tram zone 四通八达，随时预约看房。 https://www.dropbox.com/sh/fs3hpesf5mlachw/AADrtNSG3yUL36xMCS-3U7kqa?dl=0  \n",
       "53                                                                                                                  * Eporo Tower室内54平，阳台3平，2房1卫1车位 居住共57平。朝北！房型方正，采光良好，收租神器，楼下就是Melbourne central近一切。电车站free tram zone 四通八达，目前有租客，3.1号会清空！物业费大概4000一年。看房提前跟我预约。同事们加油！ * https://drive.google.com/drive/folders/1XJygmraOP-u0IgjPEtp_cPUx-pL0jxC8?usp=sharing  "
      ]
     },
     "execution_count": 60,
     "metadata": {},
     "output_type": "execute_result"
    }
   ],
   "source": [
    "df_final4[df_final4[\"地址\"].str.contains(\"\\*+\")]"
   ]
  },
  {
   "cell_type": "markdown",
   "metadata": {},
   "source": [
    "PS：测试 = 正确"
   ]
  },
  {
   "cell_type": "code",
   "execution_count": 61,
   "metadata": {},
   "outputs": [
    {
     "data": {
      "text/plain": [
       "3"
      ]
     },
     "execution_count": 61,
     "metadata": {},
     "output_type": "execute_result"
    }
   ],
   "source": [
    "df_final4[\"地址\"].str.contains(\"\\。\").sum()"
   ]
  },
  {
   "cell_type": "code",
   "execution_count": 62,
   "metadata": {},
   "outputs": [
    {
     "data": {
      "text/html": [
       "<div>\n",
       "<style scoped>\n",
       "    .dataframe tbody tr th:only-of-type {\n",
       "        vertical-align: middle;\n",
       "    }\n",
       "\n",
       "    .dataframe tbody tr th {\n",
       "        vertical-align: top;\n",
       "    }\n",
       "\n",
       "    .dataframe thead th {\n",
       "        text-align: right;\n",
       "    }\n",
       "</style>\n",
       "<table border=\"1\" class=\"dataframe\">\n",
       "  <thead>\n",
       "    <tr style=\"text-align: right;\">\n",
       "      <th></th>\n",
       "      <th>地址</th>\n",
       "      <th>时间</th>\n",
       "      <th>联系人</th>\n",
       "      <th>微信号</th>\n",
       "      <th>信息1</th>\n",
       "      <th>信息2</th>\n",
       "      <th>信息3</th>\n",
       "      <th>信息4</th>\n",
       "      <th>信息5</th>\n",
       "      <th>信息6</th>\n",
       "      <th>房源描述</th>\n",
       "    </tr>\n",
       "  </thead>\n",
       "  <tbody>\n",
       "    <tr>\n",
       "      <td>3</td>\n",
       "      <td>U3/34 Evelyn street Clayton。</td>\n",
       "      <td>2022-02-22 11:03:14</td>\n",
       "      <td>公司 澳盛集团??Boxhill</td>\n",
       "      <td>wxid_vz1d02xdx5dr22</td>\n",
       "      <td>Exclusive listing by lina</td>\n",
       "      <td>佣金3%含税。</td>\n",
       "      <td>价格98万</td>\n",
       "      <td>二手townhouse</td>\n",
       "      <td>None</td>\n",
       "      <td>None</td>\n",
       "      <td>3年新二手townhouse，5房3.5卫1+1车库，步行6分钟到莫那什大学。开车4分钟到Clayton商业中心。投资自住的不二之选。（目前分组状态月收入5200）。有租客一定要提前预约看房。https://www.dropbox.com/sh/pqklscfc2gqwyx4/AACulI2884zgT1455pCsomQya?dl=0&lt;/title&gt; &lt;des /&gt; &lt;action /&gt; &lt;type&gt;57&lt;/type&gt; &lt;showtype&gt;0&lt;/showtype&gt; &lt;soundtype&gt;0&lt;/soundtype&gt; &lt;mediatagname /&gt; &lt;messageext /&gt; &lt;messageaction /&gt; &lt;content /&gt; &lt;contentattr&gt;0&lt;/contentattr&gt; &lt;url /&gt; &lt;lowurl /&gt; &lt;dataurl /&gt; &lt;lowdataurl /&gt; &lt;songalbumurl /&gt; &lt;songlyric /&gt; &lt;appattach&gt; &lt;totallen&gt;0&lt;/totallen&gt; &lt;attachid /&gt; &lt;emoticonmd5&gt;&lt;/emoticonmd5&gt; &lt;fileext /&gt; &lt;cdnthumbaeskey /&gt; &lt;aeskey&gt;&lt;/aeskey&gt; &lt;/appattach&gt; &lt;extinfo /&gt; &lt;sourceusername /...</td>\n",
       "    </tr>\n",
       "    <tr>\n",
       "      <td>20</td>\n",
       "      <td>11/11 Mary St Blackburn VIC 3130 多用途仓库。房东要价$150万，含佣金1万+超出部分5/5. (佣金和价格都可谈） 建议报价145-155万</td>\n",
       "      <td>2022-02-23 14:20:20</td>\n",
       "      <td>??aFran家业</td>\n",
       "      <td>wxid_v0nwllbc91tu11</td>\n",
       "      <td>多用途现房仓库/30-90天交割</td>\n",
       "      <td>None</td>\n",
       "      <td>None</td>\n",
       "      <td>None</td>\n",
       "      <td>None</td>\n",
       "      <td>None</td>\n",
       "      <td>仓库总面积627平包括120平米的楼上办公及操作间。 仓库目前有租客，做广告印刷生意，月租金$5000, 年$60,000. Outgoings: 市政费： $2397.4, 水$1239.22, 物业费：$4155, 总共$7791, 这些都由租客支付。 仓库在blackburn 中心地带，靠近火车站。这一片工厂区因其地理位置，有被收购开发的潜力，因目前有租客，请各位同事私下找我预约看房，谢谢配合。https://www.dropbox.com/sh/xo6w2kbn95qku1d/AADEvazh06sZyK1Me142v7Lya?dl=0</td>\n",
       "    </tr>\n",
       "    <tr>\n",
       "      <td>52</td>\n",
       "      <td>213 doncaster road Balwyn north vic 3104。</td>\n",
       "      <td>2022-02-26 16:17:53</td>\n",
       "      <td>公司 澳盛集团??jerry</td>\n",
       "      <td>chenjrjerry</td>\n",
       "      <td>独家代理 Exclusive listing by lazio &amp;jerry</td>\n",
       "      <td>超过550万部分50%佣金 超过600万的部分70%是佣金</td>\n",
       "      <td>房东要价550万到手</td>\n",
       "      <td></td>\n",
       "      <td>None</td>\n",
       "      <td>None</td>\n",
       "      <td>超大豪宅。现代风880平，5房5 en-suit 8 toilet 1 study 1 gym 3 car garage。环境安静，近Balwyn公园、Deepdene公园和Belmont公园——这一切也让该地段给人一种家庭友好的感觉。Balwyn区的购物中心主要在Whitehorse Road，Balwyn Road两侧也有。开车几分钟就到balwyn high。 详情可以看链接https://www.dropbox.com/sh/c0fc3765so2ly5s/AADDK_Gw7PJ69o0rI7zktSqka?dl=0</td>\n",
       "    </tr>\n",
       "  </tbody>\n",
       "</table>\n",
       "</div>"
      ],
      "text/plain": [
       "                                                                                          地址  \\\n",
       "3                                                              U3/34 Evelyn street Clayton。    \n",
       "20  11/11 Mary St Blackburn VIC 3130 多用途仓库。房东要价$150万，含佣金1万+超出部分5/5. (佣金和价格都可谈） 建议报价145-155万    \n",
       "52                                                213 doncaster road Balwyn north vic 3104。    \n",
       "\n",
       "                     时间               联系人                  微信号  \\\n",
       "3   2022-02-22 11:03:14  公司 澳盛集团??Boxhill  wxid_vz1d02xdx5dr22   \n",
       "20  2022-02-23 14:20:20         ??aFran家业  wxid_v0nwllbc91tu11   \n",
       "52  2022-02-26 16:17:53    公司 澳盛集团??jerry          chenjrjerry   \n",
       "\n",
       "                                        信息1                             信息2  \\\n",
       "3                Exclusive listing by lina                         佣金3%含税。    \n",
       "20                        多用途现房仓库/30-90天交割                             None   \n",
       "52  独家代理 Exclusive listing by lazio &jerry   超过550万部分50%佣金 超过600万的部分70%是佣金    \n",
       "\n",
       "            信息3           信息4   信息5   信息6  \\\n",
       "3        价格98万   二手townhouse   None  None   \n",
       "20         None          None  None  None   \n",
       "52  房东要价550万到手                 None  None   \n",
       "\n",
       "                                                                                                                                                                                                                                                                                                                                                                                                                                                                                                                                                                                                                       房源描述  \n",
       "3   3年新二手townhouse，5房3.5卫1+1车库，步行6分钟到莫那什大学。开车4分钟到Clayton商业中心。投资自住的不二之选。（目前分组状态月收入5200）。有租客一定要提前预约看房。https://www.dropbox.com/sh/pqklscfc2gqwyx4/AACulI2884zgT1455pCsomQya?dl=0</title> <des /> <action /> <type>57</type> <showtype>0</showtype> <soundtype>0</soundtype> <mediatagname /> <messageext /> <messageaction /> <content /> <contentattr>0</contentattr> <url /> <lowurl /> <dataurl /> <lowdataurl /> <songalbumurl /> <songlyric /> <appattach> <totallen>0</totallen> <attachid /> <emoticonmd5></emoticonmd5> <fileext /> <cdnthumbaeskey /> <aeskey></aeskey> </appattach> <extinfo /> <sourceusername /...  \n",
       "20                                                                                                                                                                                                                                                                                                                                      仓库总面积627平包括120平米的楼上办公及操作间。 仓库目前有租客，做广告印刷生意，月租金$5000, 年$60,000. Outgoings: 市政费： $2397.4, 水$1239.22, 物业费：$4155, 总共$7791, 这些都由租客支付。 仓库在blackburn 中心地带，靠近火车站。这一片工厂区因其地理位置，有被收购开发的潜力，因目前有租客，请各位同事私下找我预约看房，谢谢配合。https://www.dropbox.com/sh/xo6w2kbn95qku1d/AADEvazh06sZyK1Me142v7Lya?dl=0  \n",
       "52                                                                                                                                                                                                                                                                                                                                                超大豪宅。现代风880平，5房5 en-suit 8 toilet 1 study 1 gym 3 car garage。环境安静，近Balwyn公园、Deepdene公园和Belmont公园——这一切也让该地段给人一种家庭友好的感觉。Balwyn区的购物中心主要在Whitehorse Road，Balwyn Road两侧也有。开车几分钟就到balwyn high。 详情可以看链接https://www.dropbox.com/sh/c0fc3765so2ly5s/AADDK_Gw7PJ69o0rI7zktSqka?dl=0  "
      ]
     },
     "execution_count": 62,
     "metadata": {},
     "output_type": "execute_result"
    }
   ],
   "source": [
    "df_final4[df_final4[\"地址\"].str.contains(\"\\。+\")]"
   ]
  },
  {
   "cell_type": "markdown",
   "metadata": {},
   "source": [
    "PS：测试 = 正确"
   ]
  },
  {
   "cell_type": "code",
   "execution_count": 63,
   "metadata": {},
   "outputs": [
    {
     "data": {
      "text/plain": [
       "2"
      ]
     },
     "execution_count": 63,
     "metadata": {},
     "output_type": "execute_result"
    }
   ],
   "source": [
    "df_final4[\"地址\"].str.contains(\"\\|+\").sum()"
   ]
  },
  {
   "cell_type": "code",
   "execution_count": 64,
   "metadata": {},
   "outputs": [
    {
     "data": {
      "text/plain": [
       "2"
      ]
     },
     "execution_count": 64,
     "metadata": {},
     "output_type": "execute_result"
    }
   ],
   "source": [
    "df_final4[\"地址\"].str.contains(r\"\\(\\D+\\)\").sum()"
   ]
  },
  {
   "cell_type": "code",
   "execution_count": 65,
   "metadata": {},
   "outputs": [
    {
     "data": {
      "text/html": [
       "<div>\n",
       "<style scoped>\n",
       "    .dataframe tbody tr th:only-of-type {\n",
       "        vertical-align: middle;\n",
       "    }\n",
       "\n",
       "    .dataframe tbody tr th {\n",
       "        vertical-align: top;\n",
       "    }\n",
       "\n",
       "    .dataframe thead th {\n",
       "        text-align: right;\n",
       "    }\n",
       "</style>\n",
       "<table border=\"1\" class=\"dataframe\">\n",
       "  <thead>\n",
       "    <tr style=\"text-align: right;\">\n",
       "      <th></th>\n",
       "      <th>地址</th>\n",
       "      <th>时间</th>\n",
       "      <th>联系人</th>\n",
       "      <th>微信号</th>\n",
       "      <th>信息1</th>\n",
       "      <th>信息2</th>\n",
       "      <th>信息3</th>\n",
       "      <th>信息4</th>\n",
       "      <th>信息5</th>\n",
       "      <th>信息6</th>\n",
       "      <th>房源描述</th>\n",
       "    </tr>\n",
       "  </thead>\n",
       "  <tbody>\n",
       "    <tr>\n",
       "      <td>63</td>\n",
       "      <td>west side place gold release 【项目地址]2906D/ 250 spencer St, Melbourne VIC 3000</td>\n",
       "      <td>2022-03-01 11:13:47</td>\n",
       "      <td>公司 澳盛集团????yoyo??</td>\n",
       "      <td>q15630185</td>\n",
       "      <td>west side place gold release 【项目地址]2906D/ 250 spencer St, Melbourne VIC 3000</td>\n",
       "      <td>nomination</td>\n",
       "      <td>Yes</td>\n",
       "      <td>5%</td>\n",
       "      <td>合同价$532,400</td>\n",
       "      <td>8,9月交房</td>\n",
       "      <td>CBD楼王 - 商业综合体项目，1房?1书房，面积57平米朝北，原始合同签于2017年6月25日，省印花税。https://www.dropbox.com/sh/41ih0ixy4m7b17x/AACpMDQa5KGXAzXCWHMK-V7Ma?dl=0</td>\n",
       "    </tr>\n",
       "    <tr>\n",
       "      <td>64</td>\n",
       "      <td>west side place 塔A 【项目地址]2407A/250 spencer St, Melbourne VIC 3000</td>\n",
       "      <td>2022-03-01 11:16:59</td>\n",
       "      <td>公司 澳盛集团?? Lazio</td>\n",
       "      <td>lazio61707927</td>\n",
       "      <td>west side place 塔A 【项目地址]2407A/250 spencer St, Melbourne VIC 3000</td>\n",
       "      <td>nomination</td>\n",
       "      <td>Yes</td>\n",
       "      <td>7%</td>\n",
       "      <td>合同价$519200</td>\n",
       "      <td>1个月</td>\n",
       "      <td>CBD楼王 - 商业综合体项目，2407A属于朝北当年一抢而空的价格非常好的朝北户型。面积54.83平。1房1卫很好出租户型。 https://www.dropbox.com/sh/bo2ss4kpjh6on4u/AADWUygRNIeWIsey6sO-7OHNa?dl=0</td>\n",
       "    </tr>\n",
       "    <tr>\n",
       "      <td>65</td>\n",
       "      <td>west side place 塔A 【项目地址]2407A/250 spencer St, Melbourne VIC 3000</td>\n",
       "      <td>2022-03-01 11:21:52</td>\n",
       "      <td>公司 澳盛集团????yoyo??</td>\n",
       "      <td>q15630185</td>\n",
       "      <td>west side place 塔A 【项目地址]2407A/250 spencer St, Melbourne VIC 3000</td>\n",
       "      <td>nomination</td>\n",
       "      <td>Yes</td>\n",
       "      <td>7%</td>\n",
       "      <td>合同价$519200</td>\n",
       "      <td>1个月</td>\n",
       "      <td>CBD楼王 - 商业综合体项目，2407A属于朝北当年一抢而空的价格非常好的朝北户型。面积54.83平。1房1卫很好出租户型。 https://www.dropbox.com/sh/bo2ss4kpjh6on4u/AADWUygRNIeWIsey6sO-7OHNa?dl=0&lt;/content&gt; &lt;msgsource&gt;&amp;lt;msgsource&amp;gt;&amp;lt;sequence_id&amp;gt;762071651&amp;lt;/sequence_id&amp;gt; &amp;lt;bizflag&amp;gt;0&amp;lt;/bizflag&amp;gt; &amp;lt;silence&amp;gt;1&amp;lt;/silence&amp;gt; &amp;lt;membercount&amp;gt;155&amp;lt;/membercount&amp;gt; &amp;lt;signature&amp;gt;v1_e6DabgBv&amp;lt;/signature&amp;gt; &amp;lt;/msgsource&amp;gt; &lt;/msgsource&gt; &lt;/refermsg&gt; &lt;/appmsg&gt; &lt;fromusername&gt;q15630185&lt;/fromusername&gt; &lt;scene&gt;0&lt;/scene&gt; &lt;appinfo&gt; &lt;version&gt;1&lt;/version&gt; &lt;appname&gt;&lt;/appname&gt; &lt;/appinfo&gt; &lt;commenturl&gt;&lt;/commenturl&gt; &lt;/msg&gt;</td>\n",
       "    </tr>\n",
       "  </tbody>\n",
       "</table>\n",
       "</div>"
      ],
      "text/plain": [
       "                                                                               地址  \\\n",
       "63  west side place gold release 【项目地址]2906D/ 250 spencer St, Melbourne VIC 3000    \n",
       "64             west side place 塔A 【项目地址]2407A/250 spencer St, Melbourne VIC 3000    \n",
       "65             west side place 塔A 【项目地址]2407A/250 spencer St, Melbourne VIC 3000    \n",
       "\n",
       "                     时间                联系人            微信号  \\\n",
       "63  2022-03-01 11:13:47  公司 澳盛集团????yoyo??      q15630185   \n",
       "64  2022-03-01 11:16:59    公司 澳盛集团?? Lazio  lazio61707927   \n",
       "65  2022-03-01 11:21:52  公司 澳盛集团????yoyo??      q15630185   \n",
       "\n",
       "                                                                              信息1  \\\n",
       "63  west side place gold release 【项目地址]2906D/ 250 spencer St, Melbourne VIC 3000    \n",
       "64             west side place 塔A 【项目地址]2407A/250 spencer St, Melbourne VIC 3000    \n",
       "65             west side place 塔A 【项目地址]2407A/250 spencer St, Melbourne VIC 3000    \n",
       "\n",
       "            信息2   信息3  信息4           信息5      信息6  \\\n",
       "63  nomination   Yes   5%   合同价$532,400   8,9月交房    \n",
       "64  nomination   Yes   7%    合同价$519200      1个月    \n",
       "65  nomination   Yes   7%    合同价$519200      1个月    \n",
       "\n",
       "                                                                                                                                                                                                                                                                                                                                                                                                                                                                                                                                                                                                         房源描述  \n",
       "63                                                                                                                                                                                                                                                                                                                                                                                                                                                                            CBD楼王 - 商业综合体项目，1房?1书房，面积57平米朝北，原始合同签于2017年6月25日，省印花税。https://www.dropbox.com/sh/41ih0ixy4m7b17x/AACpMDQa5KGXAzXCWHMK-V7Ma?dl=0  \n",
       "64                                                                                                                                                                                                                                                                                                                                                                                                                                                                  CBD楼王 - 商业综合体项目，2407A属于朝北当年一抢而空的价格非常好的朝北户型。面积54.83平。1房1卫很好出租户型。 https://www.dropbox.com/sh/bo2ss4kpjh6on4u/AADWUygRNIeWIsey6sO-7OHNa?dl=0  \n",
       "65  CBD楼王 - 商业综合体项目，2407A属于朝北当年一抢而空的价格非常好的朝北户型。面积54.83平。1房1卫很好出租户型。 https://www.dropbox.com/sh/bo2ss4kpjh6on4u/AADWUygRNIeWIsey6sO-7OHNa?dl=0</content> <msgsource>&lt;msgsource&gt;&lt;sequence_id&gt;762071651&lt;/sequence_id&gt; &lt;bizflag&gt;0&lt;/bizflag&gt; &lt;silence&gt;1&lt;/silence&gt; &lt;membercount&gt;155&lt;/membercount&gt; &lt;signature&gt;v1_e6DabgBv&lt;/signature&gt; &lt;/msgsource&gt; </msgsource> </refermsg> </appmsg> <fromusername>q15630185</fromusername> <scene>0</scene> <appinfo> <version>1</version> <appname></appname> </appinfo> <commenturl></commenturl> </msg>  "
      ]
     },
     "execution_count": 65,
     "metadata": {},
     "output_type": "execute_result"
    }
   ],
   "source": [
    "df_final4[df_final4[\"地址\"].str.contains(\"【\")]"
   ]
  },
  {
   "cell_type": "code",
   "execution_count": 66,
   "metadata": {},
   "outputs": [
    {
     "data": {
      "text/html": [
       "<div>\n",
       "<style scoped>\n",
       "    .dataframe tbody tr th:only-of-type {\n",
       "        vertical-align: middle;\n",
       "    }\n",
       "\n",
       "    .dataframe tbody tr th {\n",
       "        vertical-align: top;\n",
       "    }\n",
       "\n",
       "    .dataframe thead th {\n",
       "        text-align: right;\n",
       "    }\n",
       "</style>\n",
       "<table border=\"1\" class=\"dataframe\">\n",
       "  <thead>\n",
       "    <tr style=\"text-align: right;\">\n",
       "      <th></th>\n",
       "      <th>地址</th>\n",
       "      <th>时间</th>\n",
       "      <th>联系人</th>\n",
       "      <th>微信号</th>\n",
       "      <th>信息1</th>\n",
       "      <th>信息2</th>\n",
       "      <th>信息3</th>\n",
       "      <th>信息4</th>\n",
       "      <th>信息5</th>\n",
       "      <th>信息6</th>\n",
       "      <th>房源描述</th>\n",
       "    </tr>\n",
       "  </thead>\n",
       "  <tbody>\n",
       "    <tr>\n",
       "      <td>63</td>\n",
       "      <td>west side place gold release 【项目地址]2906D/ 250 spencer St, Melbourne VIC 3000</td>\n",
       "      <td>2022-03-01 11:13:47</td>\n",
       "      <td>公司 澳盛集团????yoyo??</td>\n",
       "      <td>q15630185</td>\n",
       "      <td>west side place gold release 【项目地址]2906D/ 250 spencer St, Melbourne VIC 3000</td>\n",
       "      <td>nomination</td>\n",
       "      <td>Yes</td>\n",
       "      <td>5%</td>\n",
       "      <td>合同价$532,400</td>\n",
       "      <td>8,9月交房</td>\n",
       "      <td>CBD楼王 - 商业综合体项目，1房?1书房，面积57平米朝北，原始合同签于2017年6月25日，省印花税。https://www.dropbox.com/sh/41ih0ixy4m7b17x/AACpMDQa5KGXAzXCWHMK-V7Ma?dl=0</td>\n",
       "    </tr>\n",
       "    <tr>\n",
       "      <td>64</td>\n",
       "      <td>west side place 塔A 【项目地址]2407A/250 spencer St, Melbourne VIC 3000</td>\n",
       "      <td>2022-03-01 11:16:59</td>\n",
       "      <td>公司 澳盛集团?? Lazio</td>\n",
       "      <td>lazio61707927</td>\n",
       "      <td>west side place 塔A 【项目地址]2407A/250 spencer St, Melbourne VIC 3000</td>\n",
       "      <td>nomination</td>\n",
       "      <td>Yes</td>\n",
       "      <td>7%</td>\n",
       "      <td>合同价$519200</td>\n",
       "      <td>1个月</td>\n",
       "      <td>CBD楼王 - 商业综合体项目，2407A属于朝北当年一抢而空的价格非常好的朝北户型。面积54.83平。1房1卫很好出租户型。 https://www.dropbox.com/sh/bo2ss4kpjh6on4u/AADWUygRNIeWIsey6sO-7OHNa?dl=0</td>\n",
       "    </tr>\n",
       "    <tr>\n",
       "      <td>65</td>\n",
       "      <td>west side place 塔A 【项目地址]2407A/250 spencer St, Melbourne VIC 3000</td>\n",
       "      <td>2022-03-01 11:21:52</td>\n",
       "      <td>公司 澳盛集团????yoyo??</td>\n",
       "      <td>q15630185</td>\n",
       "      <td>west side place 塔A 【项目地址]2407A/250 spencer St, Melbourne VIC 3000</td>\n",
       "      <td>nomination</td>\n",
       "      <td>Yes</td>\n",
       "      <td>7%</td>\n",
       "      <td>合同价$519200</td>\n",
       "      <td>1个月</td>\n",
       "      <td>CBD楼王 - 商业综合体项目，2407A属于朝北当年一抢而空的价格非常好的朝北户型。面积54.83平。1房1卫很好出租户型。 https://www.dropbox.com/sh/bo2ss4kpjh6on4u/AADWUygRNIeWIsey6sO-7OHNa?dl=0&lt;/content&gt; &lt;msgsource&gt;&amp;lt;msgsource&amp;gt;&amp;lt;sequence_id&amp;gt;762071651&amp;lt;/sequence_id&amp;gt; &amp;lt;bizflag&amp;gt;0&amp;lt;/bizflag&amp;gt; &amp;lt;silence&amp;gt;1&amp;lt;/silence&amp;gt; &amp;lt;membercount&amp;gt;155&amp;lt;/membercount&amp;gt; &amp;lt;signature&amp;gt;v1_e6DabgBv&amp;lt;/signature&amp;gt; &amp;lt;/msgsource&amp;gt; &lt;/msgsource&gt; &lt;/refermsg&gt; &lt;/appmsg&gt; &lt;fromusername&gt;q15630185&lt;/fromusername&gt; &lt;scene&gt;0&lt;/scene&gt; &lt;appinfo&gt; &lt;version&gt;1&lt;/version&gt; &lt;appname&gt;&lt;/appname&gt; &lt;/appinfo&gt; &lt;commenturl&gt;&lt;/commenturl&gt; &lt;/msg&gt;</td>\n",
       "    </tr>\n",
       "  </tbody>\n",
       "</table>\n",
       "</div>"
      ],
      "text/plain": [
       "                                                                               地址  \\\n",
       "63  west side place gold release 【项目地址]2906D/ 250 spencer St, Melbourne VIC 3000    \n",
       "64             west side place 塔A 【项目地址]2407A/250 spencer St, Melbourne VIC 3000    \n",
       "65             west side place 塔A 【项目地址]2407A/250 spencer St, Melbourne VIC 3000    \n",
       "\n",
       "                     时间                联系人            微信号  \\\n",
       "63  2022-03-01 11:13:47  公司 澳盛集团????yoyo??      q15630185   \n",
       "64  2022-03-01 11:16:59    公司 澳盛集团?? Lazio  lazio61707927   \n",
       "65  2022-03-01 11:21:52  公司 澳盛集团????yoyo??      q15630185   \n",
       "\n",
       "                                                                              信息1  \\\n",
       "63  west side place gold release 【项目地址]2906D/ 250 spencer St, Melbourne VIC 3000    \n",
       "64             west side place 塔A 【项目地址]2407A/250 spencer St, Melbourne VIC 3000    \n",
       "65             west side place 塔A 【项目地址]2407A/250 spencer St, Melbourne VIC 3000    \n",
       "\n",
       "            信息2   信息3  信息4           信息5      信息6  \\\n",
       "63  nomination   Yes   5%   合同价$532,400   8,9月交房    \n",
       "64  nomination   Yes   7%    合同价$519200      1个月    \n",
       "65  nomination   Yes   7%    合同价$519200      1个月    \n",
       "\n",
       "                                                                                                                                                                                                                                                                                                                                                                                                                                                                                                                                                                                                         房源描述  \n",
       "63                                                                                                                                                                                                                                                                                                                                                                                                                                                                            CBD楼王 - 商业综合体项目，1房?1书房，面积57平米朝北，原始合同签于2017年6月25日，省印花税。https://www.dropbox.com/sh/41ih0ixy4m7b17x/AACpMDQa5KGXAzXCWHMK-V7Ma?dl=0  \n",
       "64                                                                                                                                                                                                                                                                                                                                                                                                                                                                  CBD楼王 - 商业综合体项目，2407A属于朝北当年一抢而空的价格非常好的朝北户型。面积54.83平。1房1卫很好出租户型。 https://www.dropbox.com/sh/bo2ss4kpjh6on4u/AADWUygRNIeWIsey6sO-7OHNa?dl=0  \n",
       "65  CBD楼王 - 商业综合体项目，2407A属于朝北当年一抢而空的价格非常好的朝北户型。面积54.83平。1房1卫很好出租户型。 https://www.dropbox.com/sh/bo2ss4kpjh6on4u/AADWUygRNIeWIsey6sO-7OHNa?dl=0</content> <msgsource>&lt;msgsource&gt;&lt;sequence_id&gt;762071651&lt;/sequence_id&gt; &lt;bizflag&gt;0&lt;/bizflag&gt; &lt;silence&gt;1&lt;/silence&gt; &lt;membercount&gt;155&lt;/membercount&gt; &lt;signature&gt;v1_e6DabgBv&lt;/signature&gt; &lt;/msgsource&gt; </msgsource> </refermsg> </appmsg> <fromusername>q15630185</fromusername> <scene>0</scene> <appinfo> <version>1</version> <appname></appname> </appinfo> <commenturl></commenturl> </msg>  "
      ]
     },
     "execution_count": 66,
     "metadata": {},
     "output_type": "execute_result"
    }
   ],
   "source": [
    "df_final4[df_final4[\"地址\"].str.contains(\"]\")]"
   ]
  },
  {
   "cell_type": "markdown",
   "metadata": {},
   "source": [
    "PS: <...> 表情乱码，测试 = 正确"
   ]
  },
  {
   "cell_type": "code",
   "execution_count": 67,
   "metadata": {},
   "outputs": [
    {
     "data": {
      "text/plain": [
       "0"
      ]
     },
     "execution_count": 67,
     "metadata": {},
     "output_type": "execute_result"
    }
   ],
   "source": [
    "df_final4[\"地址\"].str.contains(r\"\\<msg>\").sum()"
   ]
  },
  {
   "cell_type": "markdown",
   "metadata": {},
   "source": [
    "OR:"
   ]
  },
  {
   "cell_type": "code",
   "execution_count": 68,
   "metadata": {},
   "outputs": [
    {
     "data": {
      "text/plain": [
       "0"
      ]
     },
     "execution_count": 68,
     "metadata": {},
     "output_type": "execute_result"
    }
   ],
   "source": [
    "df_final4[\"地址\"].str.contains(r\"\\<title>\").sum()"
   ]
  },
  {
   "cell_type": "markdown",
   "metadata": {},
   "source": [
    "OR:"
   ]
  },
  {
   "cell_type": "code",
   "execution_count": 69,
   "metadata": {},
   "outputs": [
    {
     "data": {
      "text/html": [
       "<div>\n",
       "<style scoped>\n",
       "    .dataframe tbody tr th:only-of-type {\n",
       "        vertical-align: middle;\n",
       "    }\n",
       "\n",
       "    .dataframe tbody tr th {\n",
       "        vertical-align: top;\n",
       "    }\n",
       "\n",
       "    .dataframe thead th {\n",
       "        text-align: right;\n",
       "    }\n",
       "</style>\n",
       "<table border=\"1\" class=\"dataframe\">\n",
       "  <thead>\n",
       "    <tr style=\"text-align: right;\">\n",
       "      <th></th>\n",
       "      <th>地址</th>\n",
       "      <th>时间</th>\n",
       "      <th>联系人</th>\n",
       "      <th>微信号</th>\n",
       "      <th>信息1</th>\n",
       "      <th>信息2</th>\n",
       "      <th>信息3</th>\n",
       "      <th>信息4</th>\n",
       "      <th>信息5</th>\n",
       "      <th>信息6</th>\n",
       "      <th>房源描述</th>\n",
       "    </tr>\n",
       "  </thead>\n",
       "  <tbody>\n",
       "  </tbody>\n",
       "</table>\n",
       "</div>"
      ],
      "text/plain": [
       "Empty DataFrame\n",
       "Columns: [地址, 时间, 联系人, 微信号, 信息1, 信息2, 信息3, 信息4, 信息5, 信息6, 房源描述]\n",
       "Index: []"
      ]
     },
     "execution_count": 69,
     "metadata": {},
     "output_type": "execute_result"
    }
   ],
   "source": [
    "df_final4[df_final4[\"地址\"].str.contains(r\"\\<\\S+>\")]"
   ]
  },
  {
   "cell_type": "markdown",
   "metadata": {},
   "source": [
    "PS: 中文 、 英文括号 = 5个 = 正确"
   ]
  },
  {
   "cell_type": "code",
   "execution_count": 70,
   "metadata": {},
   "outputs": [
    {
     "data": {
      "text/html": [
       "<div>\n",
       "<style scoped>\n",
       "    .dataframe tbody tr th:only-of-type {\n",
       "        vertical-align: middle;\n",
       "    }\n",
       "\n",
       "    .dataframe tbody tr th {\n",
       "        vertical-align: top;\n",
       "    }\n",
       "\n",
       "    .dataframe thead th {\n",
       "        text-align: right;\n",
       "    }\n",
       "</style>\n",
       "<table border=\"1\" class=\"dataframe\">\n",
       "  <thead>\n",
       "    <tr style=\"text-align: right;\">\n",
       "      <th></th>\n",
       "      <th>地址</th>\n",
       "      <th>时间</th>\n",
       "      <th>联系人</th>\n",
       "      <th>微信号</th>\n",
       "      <th>信息1</th>\n",
       "      <th>信息2</th>\n",
       "      <th>信息3</th>\n",
       "      <th>信息4</th>\n",
       "      <th>信息5</th>\n",
       "      <th>信息6</th>\n",
       "      <th>房源描述</th>\n",
       "    </tr>\n",
       "  </thead>\n",
       "  <tbody>\n",
       "    <tr>\n",
       "      <td>31</td>\n",
       "      <td>Deanside Attwell（house and land）</td>\n",
       "      <td>2022-02-24 14:02:00</td>\n",
       "      <td>公司 Angus??澳盛地产.生意和移</td>\n",
       "      <td>F607909167</td>\n",
       "      <td>对接listing by Angus</td>\n",
       "      <td>佣金5.5%</td>\n",
       "      <td>From 47.8万</td>\n",
       "      <td>House and land</td>\n",
       "      <td>None</td>\n",
       "      <td>None</td>\n",
       "      <td>西北区Deanside Attwell 小区3套3房house and land 都是直接对着大公园的和小溪的 土地今年Q3 titled。 【推广文案】西北区Deanside??三房house and land??直接对着大公园和小溪，风景风水皆好??土地今年Q3 titled?价格47.8万起??省税项目，适合投资?? https://www.dropbox.com/sh/0rrspjmkomjlix8/AADqzfPmmWlWh1Fr2idu1OsQa?dl=0</td>\n",
       "    </tr>\n",
       "    <tr>\n",
       "      <td>39</td>\n",
       "      <td>35-37 Whitehorse Road, Blackburn （Boxhill 双校区）</td>\n",
       "      <td>2022-02-25 13:11:13</td>\n",
       "      <td>Lynnie琳妮??澳盛房产生意租赁</td>\n",
       "      <td>yaojingzhitong</td>\n",
       "      <td>General listing by Eva &amp; Lynnie</td>\n",
       "      <td>3.3% incl GST (50/50)</td>\n",
       "      <td>Unit 1: $1,222,500 4房3卫双车，套房在一楼，带前花园， 朝东北 Unit 8: $1,222,500 4房3卫双车，套房在一楼，带前花园， 朝西南 Unit 7: $1,075,800 3房3卫双车，套房在三楼，朝东北 Unit 14: $1,075,800 3房3卫双车，双套房，带小后园 朝西南 Unit 2-5: $1,075,800 3房3卫双车，三套房，朝西北（可改为4房） Unit 9-12: $1,075,800 3房3卫双车，三套房，朝东南（可改为4房） Unit 6: $831,300 2房2卫单车，朝东北 Unit 13: $831,300 2房2卫单车，朝西南</td>\n",
       "      <td>联排别墅，Off the plan townhouse，2023年中开工，18-20个月左右完工</td>\n",
       "      <td>None</td>\n",
       "      <td>None</td>\n",
       "      <td>总占地面积1075平米，总共14套的三层Townhouse。经典精巧的外墙设计，两房三房和四房精品联排别墅系列坐落在Blackburn中心. 高档配置，浴室到顶瓷砖，欧式厨房电器，遥控是安全车门，中央冷暖空调，400 mm镶边石厨房台面。 周边配置完善，靠近Box hill shopping central 5分钟车程和Blackburn North购物中心, Box hill医院周边。围绕着餐厅，咖啡厅，杂货铺以及公园等室内外休闲场所。 【学区描述】Laburnum小学（98分） 3分钟车程和Box Hill中学校区 8分钟走路 https://www.dropbox.com/sh/vdnr0ig9czzthu6/AACyoPJ5izDILO1xnXY_bS4qa?dl=0</td>\n",
       "    </tr>\n",
       "    <tr>\n",
       "      <td>40</td>\n",
       "      <td>35-37 Whitehorse Road, Blackburn （Boxhill 双校区）</td>\n",
       "      <td>2022-02-25 13:17:27</td>\n",
       "      <td>公司 澳盛集团??Olivia</td>\n",
       "      <td>wxid_yfkvs2hfkys112</td>\n",
       "      <td>General listing by Eva &amp;amp; Lynnie</td>\n",
       "      <td>3.3% incl GST (50/50)</td>\n",
       "      <td>Unit 1: $1,222,500 4房3卫双车，套房在一楼，带前花园， 朝东北 Unit 8: $1,222,500 4房3卫双车，套房在一楼，带前花园， 朝西南 Unit 7: $1,075,800 3房3卫双车，套房在三楼，朝东北 Unit 14: $1,075,800 3房3卫双车，双套房，带小后园 朝西南 Unit 2-5: $1,075,800 3房3卫双车，三套房，朝西北（可改为4房） Unit 9-12: $1,075,800 3房3卫双车，三套房，朝东南（可改为4房） Unit 6: $831,300 2房2卫单车，朝东北 Unit 13: $831,300 2房2卫单车，朝西南</td>\n",
       "      <td>联排别墅，Off the plan townhouse，2023年中开工，18-20个月左右完工</td>\n",
       "      <td>None</td>\n",
       "      <td>None</td>\n",
       "      <td>总占地面积1075平米，总共14套的三层Townhouse。经典精巧的外墙设计，两房三房和四房精品联排别墅系列坐落在Blackburn中心. 高档配置，浴室到顶瓷砖，欧式厨房电器，遥控是安全车门，中央冷暖空调，400 mm镶边石厨房台面。 周边配置完善，靠近Box hill shopping central 5分钟车程和Blackburn North购物中心, Box hill医院周边。围绕着餐厅，咖啡厅，杂货铺以及公园等室内外休闲场所。 【学区描述】Laburnum小学（98分） 3分钟车程和Box Hill中学校区 8分钟走路 https://www.dropbox.com/sh/vdnr0ig9czzthu6/AACyoPJ5izDILO1xnXY_bS4qa?dl=0&lt;/content&gt; &lt;/refermsg&gt; &lt;extinfo /&gt; &lt;sourceusername /&gt; &lt;sourcedisplayname /&gt; &lt;commenturl /&gt; &lt;appattach&gt; &lt;totallen&gt;0&lt;/totallen&gt; &lt;attachid /&gt; &lt;emoticonmd5 /&gt; &lt;fileext /&gt; &lt;aeskey /&gt; &lt;/appattach&gt; &lt;weappinfo&gt; &lt;pagepath /&gt; &lt;username /&gt; &lt;appid /&gt; &lt;appservicetype...</td>\n",
       "    </tr>\n",
       "  </tbody>\n",
       "</table>\n",
       "</div>"
      ],
      "text/plain": [
       "                                                 地址                   时间  \\\n",
       "31                Deanside Attwell（house and land）   2022-02-24 14:02:00   \n",
       "39  35-37 Whitehorse Road, Blackburn （Boxhill 双校区）   2022-02-25 13:11:13   \n",
       "40  35-37 Whitehorse Road, Blackburn （Boxhill 双校区）   2022-02-25 13:17:27   \n",
       "\n",
       "                    联系人                  微信号  \\\n",
       "31  公司 Angus??澳盛地产.生意和移           F607909167   \n",
       "39   Lynnie琳妮??澳盛房产生意租赁       yaojingzhitong   \n",
       "40      公司 澳盛集团??Olivia  wxid_yfkvs2hfkys112   \n",
       "\n",
       "                                     信息1                      信息2  \\\n",
       "31                   对接listing by Angus                   佣金5.5%    \n",
       "39      General listing by Eva & Lynnie    3.3% incl GST (50/50)    \n",
       "40  General listing by Eva &amp; Lynnie    3.3% incl GST (50/50)    \n",
       "\n",
       "                                                                                                                                                                                                                                                                                                                  信息3  \\\n",
       "31                                                                                                                                                                                                                                                                                                        From 47.8万    \n",
       "39   Unit 1: $1,222,500 4房3卫双车，套房在一楼，带前花园， 朝东北 Unit 8: $1,222,500 4房3卫双车，套房在一楼，带前花园， 朝西南 Unit 7: $1,075,800 3房3卫双车，套房在三楼，朝东北 Unit 14: $1,075,800 3房3卫双车，双套房，带小后园 朝西南 Unit 2-5: $1,075,800 3房3卫双车，三套房，朝西北（可改为4房） Unit 9-12: $1,075,800 3房3卫双车，三套房，朝东南（可改为4房） Unit 6: $831,300 2房2卫单车，朝东北 Unit 13: $831,300 2房2卫单车，朝西南    \n",
       "40   Unit 1: $1,222,500 4房3卫双车，套房在一楼，带前花园， 朝东北 Unit 8: $1,222,500 4房3卫双车，套房在一楼，带前花园， 朝西南 Unit 7: $1,075,800 3房3卫双车，套房在三楼，朝东北 Unit 14: $1,075,800 3房3卫双车，双套房，带小后园 朝西南 Unit 2-5: $1,075,800 3房3卫双车，三套房，朝西北（可改为4房） Unit 9-12: $1,075,800 3房3卫双车，三套房，朝东南（可改为4房） Unit 6: $831,300 2房2卫单车，朝东北 Unit 13: $831,300 2房2卫单车，朝西南    \n",
       "\n",
       "                                                  信息4   信息5   信息6  \\\n",
       "31                                    House and land   None  None   \n",
       "39  联排别墅，Off the plan townhouse，2023年中开工，18-20个月左右完工   None  None   \n",
       "40  联排别墅，Off the plan townhouse，2023年中开工，18-20个月左右完工   None  None   \n",
       "\n",
       "                                                                                                                                                                                                                                                                                                                                                                                                                                                                                                                                                                                                                       房源描述  \n",
       "31                                                                                                                                                                                                                                                                                                                                                                             西北区Deanside Attwell 小区3套3房house and land 都是直接对着大公园的和小溪的 土地今年Q3 titled。 【推广文案】西北区Deanside??三房house and land??直接对着大公园和小溪，风景风水皆好??土地今年Q3 titled?价格47.8万起??省税项目，适合投资?? https://www.dropbox.com/sh/0rrspjmkomjlix8/AADqzfPmmWlWh1Fr2idu1OsQa?dl=0  \n",
       "39                                                                                                                                                                                                                                                                   总占地面积1075平米，总共14套的三层Townhouse。经典精巧的外墙设计，两房三房和四房精品联排别墅系列坐落在Blackburn中心. 高档配置，浴室到顶瓷砖，欧式厨房电器，遥控是安全车门，中央冷暖空调，400 mm镶边石厨房台面。 周边配置完善，靠近Box hill shopping central 5分钟车程和Blackburn North购物中心, Box hill医院周边。围绕着餐厅，咖啡厅，杂货铺以及公园等室内外休闲场所。 【学区描述】Laburnum小学（98分） 3分钟车程和Box Hill中学校区 8分钟走路 https://www.dropbox.com/sh/vdnr0ig9czzthu6/AACyoPJ5izDILO1xnXY_bS4qa?dl=0  \n",
       "40  总占地面积1075平米，总共14套的三层Townhouse。经典精巧的外墙设计，两房三房和四房精品联排别墅系列坐落在Blackburn中心. 高档配置，浴室到顶瓷砖，欧式厨房电器，遥控是安全车门，中央冷暖空调，400 mm镶边石厨房台面。 周边配置完善，靠近Box hill shopping central 5分钟车程和Blackburn North购物中心, Box hill医院周边。围绕着餐厅，咖啡厅，杂货铺以及公园等室内外休闲场所。 【学区描述】Laburnum小学（98分） 3分钟车程和Box Hill中学校区 8分钟走路 https://www.dropbox.com/sh/vdnr0ig9czzthu6/AACyoPJ5izDILO1xnXY_bS4qa?dl=0</content> </refermsg> <extinfo /> <sourceusername /> <sourcedisplayname /> <commenturl /> <appattach> <totallen>0</totallen> <attachid /> <emoticonmd5 /> <fileext /> <aeskey /> </appattach> <weappinfo> <pagepath /> <username /> <appid /> <appservicetype...  "
      ]
     },
     "execution_count": 70,
     "metadata": {},
     "output_type": "execute_result"
    }
   ],
   "source": [
    "df_final4[df_final4[\"地址\"].str.contains(r\"\\（\\D+\\）\")]"
   ]
  },
  {
   "cell_type": "code",
   "execution_count": 71,
   "metadata": {},
   "outputs": [
    {
     "data": {
      "text/html": [
       "<div>\n",
       "<style scoped>\n",
       "    .dataframe tbody tr th:only-of-type {\n",
       "        vertical-align: middle;\n",
       "    }\n",
       "\n",
       "    .dataframe tbody tr th {\n",
       "        vertical-align: top;\n",
       "    }\n",
       "\n",
       "    .dataframe thead th {\n",
       "        text-align: right;\n",
       "    }\n",
       "</style>\n",
       "<table border=\"1\" class=\"dataframe\">\n",
       "  <thead>\n",
       "    <tr style=\"text-align: right;\">\n",
       "      <th></th>\n",
       "      <th>地址</th>\n",
       "      <th>时间</th>\n",
       "      <th>联系人</th>\n",
       "      <th>微信号</th>\n",
       "      <th>信息1</th>\n",
       "      <th>信息2</th>\n",
       "      <th>信息3</th>\n",
       "      <th>信息4</th>\n",
       "      <th>信息5</th>\n",
       "      <th>信息6</th>\n",
       "      <th>房源描述</th>\n",
       "    </tr>\n",
       "  </thead>\n",
       "  <tbody>\n",
       "    <tr>\n",
       "      <td>41</td>\n",
       "      <td>12 &amp; 14 Highland cres, Mooroolbark VIC 3138 (火车站边上的大地house)</td>\n",
       "      <td>2022-02-25 13:36:57</td>\n",
       "      <td>Lynnie琳妮??澳盛房产生意租赁</td>\n",
       "      <td>yaojingzhitong</td>\n",
       "      <td>Exclusive listing by Lynnie</td>\n",
       "      <td>1.2% . inc gst</td>\n",
       "      <td>210万（接近售价offer可谈）</td>\n",
       "      <td>现房，大地二手独立别墅</td>\n",
       "      <td>两套均在出租状态12#租金每月为$1,955（周$488），14#租金$1,651（周$413）</td>\n",
       "      <td>None</td>\n",
       "      <td>两套房子打包卖总面积是1,975 Sqm; 12 Highland cres 占地1113 m2 , 4房2卫2车，1980 建成； 14 Highland cres 占地862 m2，2房1卫2车. 房东做了10套的Townhouse设计（供参考）但没有Subject to Council Approval. 在Mooroolbark 商业中心，步行即可到达 Yarra hills 中学、购物中心、Mooroolbark Main Street 和仅 850 米外的火车站！可欣赏 Kiloran Reserve 的壮丽景色，后院可通往椭圆形足球场、Mooroolbark Bowls Club、游泳池和网球场。 目前的房屋提供宽敞的休息室和带用餐区的厨房，厨具燃气暖气和空调设置等完整。12号窗户都安装了安全性卷帘。室内水疗和阳光房，巨大的菜园带鸡舍， 双车库和大量的街边车道停车位，三间卧室以及独立的浴缸和淋浴间。 https://www.dropbox.com/sh/ynb8jrmvo4e2fw9/AABLil9Pm4iG0htlmCZwwSeJa?dl=0</td>\n",
       "    </tr>\n",
       "    <tr>\n",
       "      <td>44</td>\n",
       "      <td>Lot 1-10/31 Valley Fair Drive Narre Warren Drive (Off Plan)</td>\n",
       "      <td>2022-02-25 15:08:31</td>\n",
       "      <td>Bianca??澳盛集团</td>\n",
       "      <td>LS_0126</td>\n",
       "      <td>New general listing By Bianca Liu</td>\n",
       "      <td>2.2% include GST</td>\n",
       "      <td>From $499,000</td>\n",
       "      <td>期房(明年第一季度)</td>\n",
       "      <td>None</td>\n",
       "      <td>None</td>\n",
       "      <td>Narre Warren最便宜的两层三层Townhouse???两房$499,000起?三房$575,000起? 每套townhouse都是独立门牌 (会在Price List上标明) 五分钟生活圈 闹中取静? 步行3分钟到公园； 步行5分钟到餐馆超市商圈； 步行5分钟到Narre Warren火车站； 步行10分钟到Westfield； 开车十分钟到维州第三的Nossal High精英高中； 开车十分钟到Haileybury Berwick校区； 开车十分钟到Federation Uni Berwick Campus。 https://www.dropbox.com/sh/pn70q9y2x7mxea4/AAA5u3KrTKHxluV7r9SZjm42a?dl=0</td>\n",
       "    </tr>\n",
       "  </tbody>\n",
       "</table>\n",
       "</div>"
      ],
      "text/plain": [
       "                                                              地址  \\\n",
       "41  12 & 14 Highland cres, Mooroolbark VIC 3138 (火车站边上的大地house)    \n",
       "44  Lot 1-10/31 Valley Fair Drive Narre Warren Drive (Off Plan)    \n",
       "\n",
       "                     时间                 联系人             微信号  \\\n",
       "41  2022-02-25 13:36:57  Lynnie琳妮??澳盛房产生意租赁  yaojingzhitong   \n",
       "44  2022-02-25 15:08:31        Bianca??澳盛集团         LS_0126   \n",
       "\n",
       "                                   信息1                信息2                 信息3  \\\n",
       "41        Exclusive listing by Lynnie     1.2% . inc gst   210万（接近售价offer可谈）    \n",
       "44  New general listing By Bianca Liu   2.2% include GST       From $499,000    \n",
       "\n",
       "             信息4                                                信息5   信息6  \\\n",
       "41  现房，大地二手独立别墅   两套均在出租状态12#租金每月为$1,955（周$488），14#租金$1,651（周$413）   None   \n",
       "44   期房(明年第一季度)                                                None  None   \n",
       "\n",
       "                                                                                                                                                                                                                                                                                                                                                                                                                                                                                                      房源描述  \n",
       "41  两套房子打包卖总面积是1,975 Sqm; 12 Highland cres 占地1113 m2 , 4房2卫2车，1980 建成； 14 Highland cres 占地862 m2，2房1卫2车. 房东做了10套的Townhouse设计（供参考）但没有Subject to Council Approval. 在Mooroolbark 商业中心，步行即可到达 Yarra hills 中学、购物中心、Mooroolbark Main Street 和仅 850 米外的火车站！可欣赏 Kiloran Reserve 的壮丽景色，后院可通往椭圆形足球场、Mooroolbark Bowls Club、游泳池和网球场。 目前的房屋提供宽敞的休息室和带用餐区的厨房，厨具燃气暖气和空调设置等完整。12号窗户都安装了安全性卷帘。室内水疗和阳光房，巨大的菜园带鸡舍， 双车库和大量的街边车道停车位，三间卧室以及独立的浴缸和淋浴间。 https://www.dropbox.com/sh/ynb8jrmvo4e2fw9/AABLil9Pm4iG0htlmCZwwSeJa?dl=0  \n",
       "44                                                                                                                                                       Narre Warren最便宜的两层三层Townhouse???两房$499,000起?三房$575,000起? 每套townhouse都是独立门牌 (会在Price List上标明) 五分钟生活圈 闹中取静? 步行3分钟到公园； 步行5分钟到餐馆超市商圈； 步行5分钟到Narre Warren火车站； 步行10分钟到Westfield； 开车十分钟到维州第三的Nossal High精英高中； 开车十分钟到Haileybury Berwick校区； 开车十分钟到Federation Uni Berwick Campus。 https://www.dropbox.com/sh/pn70q9y2x7mxea4/AAA5u3KrTKHxluV7r9SZjm42a?dl=0  "
      ]
     },
     "execution_count": 71,
     "metadata": {},
     "output_type": "execute_result"
    }
   ],
   "source": [
    "df_final4[df_final4[\"地址\"].str.contains(r\"\\(\\D+\\)\")]"
   ]
  },
  {
   "cell_type": "markdown",
   "metadata": {},
   "source": [
    "PS: \" * xxx  * \"= 5个 = 正确"
   ]
  },
  {
   "cell_type": "code",
   "execution_count": 72,
   "metadata": {},
   "outputs": [
    {
     "data": {
      "text/html": [
       "<div>\n",
       "<style scoped>\n",
       "    .dataframe tbody tr th:only-of-type {\n",
       "        vertical-align: middle;\n",
       "    }\n",
       "\n",
       "    .dataframe tbody tr th {\n",
       "        vertical-align: top;\n",
       "    }\n",
       "\n",
       "    .dataframe thead th {\n",
       "        text-align: right;\n",
       "    }\n",
       "</style>\n",
       "<table border=\"1\" class=\"dataframe\">\n",
       "  <thead>\n",
       "    <tr style=\"text-align: right;\">\n",
       "      <th></th>\n",
       "      <th>地址</th>\n",
       "      <th>时间</th>\n",
       "      <th>联系人</th>\n",
       "      <th>微信号</th>\n",
       "      <th>信息1</th>\n",
       "      <th>信息2</th>\n",
       "      <th>信息3</th>\n",
       "      <th>信息4</th>\n",
       "      <th>信息5</th>\n",
       "      <th>信息6</th>\n",
       "      <th>房源描述</th>\n",
       "    </tr>\n",
       "  </thead>\n",
       "  <tbody>\n",
       "    <tr>\n",
       "      <td>14</td>\n",
       "      <td>* 3604/285 La Trobe Street, Melbourne VIC 3004 * EPORO Tower *</td>\n",
       "      <td>2022-02-22 14:31:21</td>\n",
       "      <td>Patrick_zhao ????Austrump</td>\n",
       "      <td>wxid_ix7152e5n6qj21</td>\n",
       "      <td>Exclusive listing by Patrick zhao *</td>\n",
       "      <td>52万以上都是佣金建议报价54万+ *</td>\n",
       "      <td>52万 *</td>\n",
       "      <td>* 二手5年新公寓 2房1卫1车位 *</td>\n",
       "      <td>None</td>\n",
       "      <td>None</td>\n",
       "      <td>* 室内54平，阳台3平，2房1卫1车位 居住共57平。朝北！房型方正，采光良好，收租神器，楼下就是Melbourne central近一切。电车站free tram zone 四通八达，目前有租客，租约到22年2月25号，管理权已在澳盛管家，看房提前跟我预约。同事们加油！ * https://drive.google.com/drive/folders/1XJygmraOP-u0IgjPEtp_cPUx-pL0jxC8?usp=sharing</td>\n",
       "    </tr>\n",
       "    <tr>\n",
       "      <td>51</td>\n",
       "      <td>* 2409/285 La Trobe Street, Melbourne VIC 3004 * EPORO Tower *</td>\n",
       "      <td>2022-02-26 15:27:28</td>\n",
       "      <td>公司 澳盛集团??胡e娃</td>\n",
       "      <td>evahyd</td>\n",
       "      <td>Exclusive listing by EVA AND DON *</td>\n",
       "      <td>1.1万含GST *</td>\n",
       "      <td>39万-42万 *</td>\n",
       "      <td>* 二手5年新公寓 一房一厅一卫 *</td>\n",
       "      <td>None</td>\n",
       "      <td>None</td>\n",
       "      <td>* 室内55平，阳台3平，1 房1厅共58平。拐角房型，采光良好，收租神器，楼下就是Melbourne central近一切。电车站free tram zone 四通八达，随时预约看房。 https://www.dropbox.com/sh/fs3hpesf5mlachw/AADrtNSG3yUL36xMCS-3U7kqa?dl=0</td>\n",
       "    </tr>\n",
       "    <tr>\n",
       "      <td>53</td>\n",
       "      <td>* 3604/285 La Trobe Street, Melbourne VIC 3004 * EPORO Tower *</td>\n",
       "      <td>2022-02-26 18:27:21</td>\n",
       "      <td>Patrick_zhao ????Austrump</td>\n",
       "      <td>wxid_ix7152e5n6qj21</td>\n",
       "      <td>Exclusive listing by Patrick zhao *</td>\n",
       "      <td>52万以上都是佣金建议报价54万+ *</td>\n",
       "      <td>54万 *</td>\n",
       "      <td>* 二手5年新公寓 2房1卫1车位 *</td>\n",
       "      <td>None</td>\n",
       "      <td>None</td>\n",
       "      <td>* Eporo Tower室内54平，阳台3平，2房1卫1车位 居住共57平。朝北！房型方正，采光良好，收租神器，楼下就是Melbourne central近一切。电车站free tram zone 四通八达，目前有租客，3.1号会清空！物业费大概4000一年。看房提前跟我预约。同事们加油！ * https://drive.google.com/drive/folders/1XJygmraOP-u0IgjPEtp_cPUx-pL0jxC8?usp=sharing</td>\n",
       "    </tr>\n",
       "  </tbody>\n",
       "</table>\n",
       "</div>"
      ],
      "text/plain": [
       "                                                                  地址  \\\n",
       "14   * 3604/285 La Trobe Street, Melbourne VIC 3004 * EPORO Tower *    \n",
       "51   * 2409/285 La Trobe Street, Melbourne VIC 3004 * EPORO Tower *    \n",
       "53   * 3604/285 La Trobe Street, Melbourne VIC 3004 * EPORO Tower *    \n",
       "\n",
       "                     时间                        联系人                  微信号  \\\n",
       "14  2022-02-22 14:31:21  Patrick_zhao ????Austrump  wxid_ix7152e5n6qj21   \n",
       "51  2022-02-26 15:27:28               公司 澳盛集团??胡e娃               evahyd   \n",
       "53  2022-02-26 18:27:21  Patrick_zhao ????Austrump  wxid_ix7152e5n6qj21   \n",
       "\n",
       "                                     信息1                   信息2         信息3  \\\n",
       "14  Exclusive listing by Patrick zhao *   52万以上都是佣金建议报价54万+ *       52万 *    \n",
       "51   Exclusive listing by EVA AND DON *            1.1万含GST *   39万-42万 *    \n",
       "53  Exclusive listing by Patrick zhao *   52万以上都是佣金建议报价54万+ *       54万 *    \n",
       "\n",
       "                      信息4   信息5   信息6  \\\n",
       "14   * 二手5年新公寓 2房1卫1车位 *   None  None   \n",
       "51    * 二手5年新公寓 一房一厅一卫 *   None  None   \n",
       "53   * 二手5年新公寓 2房1卫1车位 *   None  None   \n",
       "\n",
       "                                                                                                                                                                                                                                          房源描述  \n",
       "14            * 室内54平，阳台3平，2房1卫1车位 居住共57平。朝北！房型方正，采光良好，收租神器，楼下就是Melbourne central近一切。电车站free tram zone 四通八达，目前有租客，租约到22年2月25号，管理权已在澳盛管家，看房提前跟我预约。同事们加油！ * https://drive.google.com/drive/folders/1XJygmraOP-u0IgjPEtp_cPUx-pL0jxC8?usp=sharing  \n",
       "51                                                                     * 室内55平，阳台3平，1 房1厅共58平。拐角房型，采光良好，收租神器，楼下就是Melbourne central近一切。电车站free tram zone 四通八达，随时预约看房。 https://www.dropbox.com/sh/fs3hpesf5mlachw/AADrtNSG3yUL36xMCS-3U7kqa?dl=0  \n",
       "53   * Eporo Tower室内54平，阳台3平，2房1卫1车位 居住共57平。朝北！房型方正，采光良好，收租神器，楼下就是Melbourne central近一切。电车站free tram zone 四通八达，目前有租客，3.1号会清空！物业费大概4000一年。看房提前跟我预约。同事们加油！ * https://drive.google.com/drive/folders/1XJygmraOP-u0IgjPEtp_cPUx-pL0jxC8?usp=sharing  "
      ]
     },
     "execution_count": 72,
     "metadata": {},
     "output_type": "execute_result"
    }
   ],
   "source": [
    "df_final4[df_final4[\"地址\"].str.contains(r\"\\*\\D+\\*\")]"
   ]
  },
  {
   "cell_type": "markdown",
   "metadata": {},
   "source": [
    "PS: 找到 空白 消息 = 正确！\n",
    "\n",
    "非常注意：Map 会过滤掉，所以不要紧！！\n",
    "\n",
    "非常注意：不包含 ！！！ 用 ~ ！！！ "
   ]
  },
  {
   "cell_type": "code",
   "execution_count": 73,
   "metadata": {},
   "outputs": [
    {
     "data": {
      "text/html": [
       "<div>\n",
       "<style scoped>\n",
       "    .dataframe tbody tr th:only-of-type {\n",
       "        vertical-align: middle;\n",
       "    }\n",
       "\n",
       "    .dataframe tbody tr th {\n",
       "        vertical-align: top;\n",
       "    }\n",
       "\n",
       "    .dataframe thead th {\n",
       "        text-align: right;\n",
       "    }\n",
       "</style>\n",
       "<table border=\"1\" class=\"dataframe\">\n",
       "  <thead>\n",
       "    <tr style=\"text-align: right;\">\n",
       "      <th></th>\n",
       "      <th>地址</th>\n",
       "      <th>时间</th>\n",
       "      <th>联系人</th>\n",
       "      <th>微信号</th>\n",
       "      <th>信息1</th>\n",
       "      <th>信息2</th>\n",
       "      <th>信息3</th>\n",
       "      <th>信息4</th>\n",
       "      <th>信息5</th>\n",
       "      <th>信息6</th>\n",
       "      <th>房源描述</th>\n",
       "    </tr>\n",
       "  </thead>\n",
       "  <tbody>\n",
       "    <tr>\n",
       "      <td>0</td>\n",
       "      <td></td>\n",
       "      <td>2022-02-21 16:28:52</td>\n",
       "      <td>公司 澳盛集团??Boxhill</td>\n",
       "      <td>wxid_vz1d02xdx5dr22</td>\n",
       "      <td></td>\n",
       "      <td></td>\n",
       "      <td></td>\n",
       "      <td></td>\n",
       "      <td>None</td>\n",
       "      <td>None</td>\n",
       "      <td></td>\n",
       "    </tr>\n",
       "    <tr>\n",
       "      <td>5</td>\n",
       "      <td></td>\n",
       "      <td>2022-02-22 11:30:05</td>\n",
       "      <td>公司 澳盛集团?? Lazio</td>\n",
       "      <td>lazio61707927</td>\n",
       "      <td>普通代理/独家代理/对接 by listing agent</td>\n",
       "      <td></td>\n",
       "      <td></td>\n",
       "      <td>现房/准现房/期房/（请备注交割时间）</td>\n",
       "      <td>None</td>\n",
       "      <td>None</td>\n",
       "      <td>&lt;/content&gt; &lt;msgsource&gt;&amp;lt;msgsource&amp;gt;&amp;lt;sequence_id&amp;gt;773780472&amp;lt;/sequence_id&amp;gt; &amp;lt;bizflag&amp;gt;0&amp;lt;/bizflag&amp;gt; &amp;lt;silence&amp;gt;1&amp;lt;/silence&amp;gt; &amp;lt;membercount&amp;gt;165&amp;lt;/membercount&amp;gt; &amp;lt;signature&amp;gt;v1_KXqSEz/n&amp;lt;/signature&amp;gt; &amp;lt;/msgsource&amp;gt; &lt;/msgsource&gt; &lt;/refermsg&gt; &lt;/appmsg&gt; &lt;fromusername&gt;lazio61707927&lt;/fromusername&gt; &lt;scene&gt;0&lt;/scene&gt; &lt;appinfo&gt; &lt;version&gt;1&lt;/version&gt; &lt;appname&gt;&lt;/appname&gt; &lt;/appinfo&gt; &lt;commenturl&gt;&lt;/commenturl&gt; &lt;/msg&gt;</td>\n",
       "    </tr>\n",
       "    <tr>\n",
       "      <td>60</td>\n",
       "      <td></td>\n",
       "      <td>2022-02-28 18:15:03</td>\n",
       "      <td>澳盛集团??红丽</td>\n",
       "      <td>wxid_ptm5ddyvqjon12</td>\n",
       "      <td>Exclusive Listing by Susan hu &amp; Hongli Zhang</td>\n",
       "      <td>Yes</td>\n",
       "      <td>出售商铺物业$90万以上是佣金</td>\n",
       "      <td>统一报价$ 98万澳币</td>\n",
       "      <td>现房商铺</td>\n",
       "      <td>None</td>\n",
       "      <td>北区成熟社区商铺出售，面积 459平方米，双砖建筑墙体，层高 3米 以上，全装修，带2个车位，有租约 15年（5+5+5），年租金$50000, 年Council rate $6800,由租客支付。</td>\n",
       "    </tr>\n",
       "    <tr>\n",
       "      <td>66</td>\n",
       "      <td></td>\n",
       "      <td>2022-03-01 11:43:10</td>\n",
       "      <td>公司 澳盛集团??Laura Chen</td>\n",
       "      <td>MissDoggy_Piggy</td>\n",
       "      <td>General/Exclusive/ 对接/nomination by listing agent（不要漏掉listing agent信息）</td>\n",
       "      <td>Yes / Not Yet</td>\n",
       "      <td></td>\n",
       "      <td></td>\n",
       "      <td>现房/准现房/期房/（请备注交割时间）</td>\n",
       "      <td>None</td>\n",
       "      <td>此部分不要出现佣金信息??</td>\n",
       "    </tr>\n",
       "    <tr>\n",
       "      <td>91</td>\n",
       "      <td></td>\n",
       "      <td>2022-03-06 14:18:15</td>\n",
       "      <td>公司 澳盛集团??Xin-房产移民投</td>\n",
       "      <td>wxid_ehyn614k32xr22</td>\n",
       "      <td>豪华庄园 【授权类型] 对接listing by Annabella and Xin</td>\n",
       "      <td>Yes</td>\n",
       "      <td>550万以上一半归中介佣金</td>\n",
       "      <td>＄560万—＄600万</td>\n",
       "      <td>现房</td>\n",
       "      <td>None</td>\n",
       "      <td>Yarra Valley 102英亩（42万平方米)，豪华的法国普罗旺斯风格庄园出售。 1，可步行至Yarra Valley最著名的中心商业区，Yarra Valley的黄金位置。 2，距离小学1.5公里，中学4.5公里。 3，巨大的三层沙岩豪宅，6卧室（每个卧室都有可出入的阳台)，5个卫生间，10个车库，2个书房+健身房+娱乐厅+家庭影剧院+家庭酒吧+酒窖+ 室外桑拿池 4，底层休闲娱乐区域设计灵感来自于伦敦的皇家阿尔伯特音乐厅。 5，精心挑选的Yarra Valley风景绝佳的位置，可以俯瞰整个Yarra河谷，背靠山峦，面对风景绝佳的河谷平原，拥有大面积湖泊。 6，具有无限的可发展潜力，面积足够大，可以发展成当地著名的旅游胜地，用于酒店及旅游的air B&amp;B，后山可以打猎………… 7，价格不及Toorak区一栋普通豪宅的一半。 预约参观，有计划购买农场庄园的朋友，强烈推荐实地参观。https://www.dropbox.com/sh/ll3sr66ncs2x1lv/AAACrrDbnCqyFwTe_vVYAfRta?dl=0</td>\n",
       "    </tr>\n",
       "  </tbody>\n",
       "</table>\n",
       "</div>"
      ],
      "text/plain": [
       "   地址                   时间                  联系人                  微信号  \\\n",
       "0      2022-02-21 16:28:52     公司 澳盛集团??Boxhill  wxid_vz1d02xdx5dr22   \n",
       "5      2022-02-22 11:30:05      公司 澳盛集团?? Lazio        lazio61707927   \n",
       "60     2022-02-28 18:15:03             澳盛集团??红丽  wxid_ptm5ddyvqjon12   \n",
       "66     2022-03-01 11:43:10  公司 澳盛集团??Laura Chen      MissDoggy_Piggy   \n",
       "91     2022-03-06 14:18:15   公司 澳盛集团??Xin-房产移民投  wxid_ehyn614k32xr22   \n",
       "\n",
       "                                                                        信息1  \\\n",
       "0                                                                             \n",
       "5                                            普通代理/独家代理/对接 by listing agent    \n",
       "60                            Exclusive Listing by Susan hu & Hongli Zhang    \n",
       "66  General/Exclusive/ 对接/nomination by listing agent（不要漏掉listing agent信息）    \n",
       "91                              豪华庄园 【授权类型] 对接listing by Annabella and Xin    \n",
       "\n",
       "               信息2               信息3                   信息4  \\\n",
       "0                                                            \n",
       "5                                     现房/准现房/期房/（请备注交割时间）    \n",
       "60            Yes   出售商铺物业$90万以上是佣金           统一报价$ 98万澳币    \n",
       "66  Yes / Not Yet                                            \n",
       "91            Yes     550万以上一半归中介佣金           ＄560万—＄600万    \n",
       "\n",
       "                     信息5   信息6  \\\n",
       "0                   None  None   \n",
       "5                   None  None   \n",
       "60                 现房商铺   None   \n",
       "66  现房/准现房/期房/（请备注交割时间）   None   \n",
       "91                   现房   None   \n",
       "\n",
       "                                                                                                                                                                                                                                                                                                                                                                                                                                                                                       房源描述  \n",
       "0                                                                                                                                                                                                                                                                                                                                                                                                                                                                                            \n",
       "5                      </content> <msgsource>&lt;msgsource&gt;&lt;sequence_id&gt;773780472&lt;/sequence_id&gt; &lt;bizflag&gt;0&lt;/bizflag&gt; &lt;silence&gt;1&lt;/silence&gt; &lt;membercount&gt;165&lt;/membercount&gt; &lt;signature&gt;v1_KXqSEz/n&lt;/signature&gt; &lt;/msgsource&gt; </msgsource> </refermsg> </appmsg> <fromusername>lazio61707927</fromusername> <scene>0</scene> <appinfo> <version>1</version> <appname></appname> </appinfo> <commenturl></commenturl> </msg>  \n",
       "60                                                                                                                                                                                                                                                                                                                                                                                      北区成熟社区商铺出售，面积 459平方米，双砖建筑墙体，层高 3米 以上，全装修，带2个车位，有租约 15年（5+5+5），年租金$50000, 年Council rate $6800,由租客支付。  \n",
       "66                                                                                                                                                                                                                                                                                                                                                                                                                                                                            此部分不要出现佣金信息??  \n",
       "91  Yarra Valley 102英亩（42万平方米)，豪华的法国普罗旺斯风格庄园出售。 1，可步行至Yarra Valley最著名的中心商业区，Yarra Valley的黄金位置。 2，距离小学1.5公里，中学4.5公里。 3，巨大的三层沙岩豪宅，6卧室（每个卧室都有可出入的阳台)，5个卫生间，10个车库，2个书房+健身房+娱乐厅+家庭影剧院+家庭酒吧+酒窖+ 室外桑拿池 4，底层休闲娱乐区域设计灵感来自于伦敦的皇家阿尔伯特音乐厅。 5，精心挑选的Yarra Valley风景绝佳的位置，可以俯瞰整个Yarra河谷，背靠山峦，面对风景绝佳的河谷平原，拥有大面积湖泊。 6，具有无限的可发展潜力，面积足够大，可以发展成当地著名的旅游胜地，用于酒店及旅游的air B&B，后山可以打猎………… 7，价格不及Toorak区一栋普通豪宅的一半。 预约参观，有计划购买农场庄园的朋友，强烈推荐实地参观。https://www.dropbox.com/sh/ll3sr66ncs2x1lv/AAACrrDbnCqyFwTe_vVYAfRta?dl=0  "
      ]
     },
     "execution_count": 73,
     "metadata": {},
     "output_type": "execute_result"
    }
   ],
   "source": [
    "df_final4[~df_final4[\"地址\"].str.contains(\"[a-zA-Z0-9]\")]"
   ]
  },
  {
   "cell_type": "markdown",
   "metadata": {},
   "source": [
    "PS: 测试 是否包含中文："
   ]
  },
  {
   "cell_type": "code",
   "execution_count": 74,
   "metadata": {},
   "outputs": [
    {
     "data": {
      "text/html": [
       "<div>\n",
       "<style scoped>\n",
       "    .dataframe tbody tr th:only-of-type {\n",
       "        vertical-align: middle;\n",
       "    }\n",
       "\n",
       "    .dataframe tbody tr th {\n",
       "        vertical-align: top;\n",
       "    }\n",
       "\n",
       "    .dataframe thead th {\n",
       "        text-align: right;\n",
       "    }\n",
       "</style>\n",
       "<table border=\"1\" class=\"dataframe\">\n",
       "  <thead>\n",
       "    <tr style=\"text-align: right;\">\n",
       "      <th></th>\n",
       "      <th>地址</th>\n",
       "      <th>时间</th>\n",
       "      <th>联系人</th>\n",
       "      <th>微信号</th>\n",
       "      <th>信息1</th>\n",
       "      <th>信息2</th>\n",
       "      <th>信息3</th>\n",
       "      <th>信息4</th>\n",
       "      <th>信息5</th>\n",
       "      <th>信息6</th>\n",
       "      <th>房源描述</th>\n",
       "    </tr>\n",
       "  </thead>\n",
       "  <tbody>\n",
       "    <tr>\n",
       "      <td>20</td>\n",
       "      <td>11/11 Mary St Blackburn VIC 3130 多用途仓库。房东要价$150万，含佣金1万+超出部分5/5. (佣金和价格都可谈） 建议报价145-155万</td>\n",
       "      <td>2022-02-23 14:20:20</td>\n",
       "      <td>??aFran家业</td>\n",
       "      <td>wxid_v0nwllbc91tu11</td>\n",
       "      <td>多用途现房仓库/30-90天交割</td>\n",
       "      <td>None</td>\n",
       "      <td>None</td>\n",
       "      <td>None</td>\n",
       "      <td>None</td>\n",
       "      <td>None</td>\n",
       "      <td>仓库总面积627平包括120平米的楼上办公及操作间。 仓库目前有租客，做广告印刷生意，月租金$5000, 年$60,000. Outgoings: 市政费： $2397.4, 水$1239.22, 物业费：$4155, 总共$7791, 这些都由租客支付。 仓库在blackburn 中心地带，靠近火车站。这一片工厂区因其地理位置，有被收购开发的潜力，因目前有租客，请各位同事私下找我预约看房，谢谢配合。https://www.dropbox.com/sh/xo6w2kbn95qku1d/AADEvazh06sZyK1Me142v7Lya?dl=0</td>\n",
       "    </tr>\n",
       "    <tr>\n",
       "      <td>39</td>\n",
       "      <td>35-37 Whitehorse Road, Blackburn （Boxhill 双校区）</td>\n",
       "      <td>2022-02-25 13:11:13</td>\n",
       "      <td>Lynnie琳妮??澳盛房产生意租赁</td>\n",
       "      <td>yaojingzhitong</td>\n",
       "      <td>General listing by Eva &amp; Lynnie</td>\n",
       "      <td>3.3% incl GST (50/50)</td>\n",
       "      <td>Unit 1: $1,222,500 4房3卫双车，套房在一楼，带前花园， 朝东北 Unit 8: $1,222,500 4房3卫双车，套房在一楼，带前花园， 朝西南 Unit 7: $1,075,800 3房3卫双车，套房在三楼，朝东北 Unit 14: $1,075,800 3房3卫双车，双套房，带小后园 朝西南 Unit 2-5: $1,075,800 3房3卫双车，三套房，朝西北（可改为4房） Unit 9-12: $1,075,800 3房3卫双车，三套房，朝东南（可改为4房） Unit 6: $831,300 2房2卫单车，朝东北 Unit 13: $831,300 2房2卫单车，朝西南</td>\n",
       "      <td>联排别墅，Off the plan townhouse，2023年中开工，18-20个月左右完工</td>\n",
       "      <td>None</td>\n",
       "      <td>None</td>\n",
       "      <td>总占地面积1075平米，总共14套的三层Townhouse。经典精巧的外墙设计，两房三房和四房精品联排别墅系列坐落在Blackburn中心. 高档配置，浴室到顶瓷砖，欧式厨房电器，遥控是安全车门，中央冷暖空调，400 mm镶边石厨房台面。 周边配置完善，靠近Box hill shopping central 5分钟车程和Blackburn North购物中心, Box hill医院周边。围绕着餐厅，咖啡厅，杂货铺以及公园等室内外休闲场所。 【学区描述】Laburnum小学（98分） 3分钟车程和Box Hill中学校区 8分钟走路 https://www.dropbox.com/sh/vdnr0ig9czzthu6/AACyoPJ5izDILO1xnXY_bS4qa?dl=0</td>\n",
       "    </tr>\n",
       "    <tr>\n",
       "      <td>40</td>\n",
       "      <td>35-37 Whitehorse Road, Blackburn （Boxhill 双校区）</td>\n",
       "      <td>2022-02-25 13:17:27</td>\n",
       "      <td>公司 澳盛集团??Olivia</td>\n",
       "      <td>wxid_yfkvs2hfkys112</td>\n",
       "      <td>General listing by Eva &amp;amp; Lynnie</td>\n",
       "      <td>3.3% incl GST (50/50)</td>\n",
       "      <td>Unit 1: $1,222,500 4房3卫双车，套房在一楼，带前花园， 朝东北 Unit 8: $1,222,500 4房3卫双车，套房在一楼，带前花园， 朝西南 Unit 7: $1,075,800 3房3卫双车，套房在三楼，朝东北 Unit 14: $1,075,800 3房3卫双车，双套房，带小后园 朝西南 Unit 2-5: $1,075,800 3房3卫双车，三套房，朝西北（可改为4房） Unit 9-12: $1,075,800 3房3卫双车，三套房，朝东南（可改为4房） Unit 6: $831,300 2房2卫单车，朝东北 Unit 13: $831,300 2房2卫单车，朝西南</td>\n",
       "      <td>联排别墅，Off the plan townhouse，2023年中开工，18-20个月左右完工</td>\n",
       "      <td>None</td>\n",
       "      <td>None</td>\n",
       "      <td>总占地面积1075平米，总共14套的三层Townhouse。经典精巧的外墙设计，两房三房和四房精品联排别墅系列坐落在Blackburn中心. 高档配置，浴室到顶瓷砖，欧式厨房电器，遥控是安全车门，中央冷暖空调，400 mm镶边石厨房台面。 周边配置完善，靠近Box hill shopping central 5分钟车程和Blackburn North购物中心, Box hill医院周边。围绕着餐厅，咖啡厅，杂货铺以及公园等室内外休闲场所。 【学区描述】Laburnum小学（98分） 3分钟车程和Box Hill中学校区 8分钟走路 https://www.dropbox.com/sh/vdnr0ig9czzthu6/AACyoPJ5izDILO1xnXY_bS4qa?dl=0&lt;/content&gt; &lt;/refermsg&gt; &lt;extinfo /&gt; &lt;sourceusername /&gt; &lt;sourcedisplayname /&gt; &lt;commenturl /&gt; &lt;appattach&gt; &lt;totallen&gt;0&lt;/totallen&gt; &lt;attachid /&gt; &lt;emoticonmd5 /&gt; &lt;fileext /&gt; &lt;aeskey /&gt; &lt;/appattach&gt; &lt;weappinfo&gt; &lt;pagepath /&gt; &lt;username /&gt; &lt;appid /&gt; &lt;appservicetype...</td>\n",
       "    </tr>\n",
       "    <tr>\n",
       "      <td>41</td>\n",
       "      <td>12 &amp; 14 Highland cres, Mooroolbark VIC 3138 (火车站边上的大地house)</td>\n",
       "      <td>2022-02-25 13:36:57</td>\n",
       "      <td>Lynnie琳妮??澳盛房产生意租赁</td>\n",
       "      <td>yaojingzhitong</td>\n",
       "      <td>Exclusive listing by Lynnie</td>\n",
       "      <td>1.2% . inc gst</td>\n",
       "      <td>210万（接近售价offer可谈）</td>\n",
       "      <td>现房，大地二手独立别墅</td>\n",
       "      <td>两套均在出租状态12#租金每月为$1,955（周$488），14#租金$1,651（周$413）</td>\n",
       "      <td>None</td>\n",
       "      <td>两套房子打包卖总面积是1,975 Sqm; 12 Highland cres 占地1113 m2 , 4房2卫2车，1980 建成； 14 Highland cres 占地862 m2，2房1卫2车. 房东做了10套的Townhouse设计（供参考）但没有Subject to Council Approval. 在Mooroolbark 商业中心，步行即可到达 Yarra hills 中学、购物中心、Mooroolbark Main Street 和仅 850 米外的火车站！可欣赏 Kiloran Reserve 的壮丽景色，后院可通往椭圆形足球场、Mooroolbark Bowls Club、游泳池和网球场。 目前的房屋提供宽敞的休息室和带用餐区的厨房，厨具燃气暖气和空调设置等完整。12号窗户都安装了安全性卷帘。室内水疗和阳光房，巨大的菜园带鸡舍， 双车库和大量的街边车道停车位，三间卧室以及独立的浴缸和淋浴间。 https://www.dropbox.com/sh/ynb8jrmvo4e2fw9/AABLil9Pm4iG0htlmCZwwSeJa?dl=0</td>\n",
       "    </tr>\n",
       "    <tr>\n",
       "      <td>49</td>\n",
       "      <td>912/826 Whitehorse Road, Box Hill 白马御景</td>\n",
       "      <td>2022-02-25 20:46:04</td>\n",
       "      <td>公司 澳盛集团??JoJo</td>\n",
       "      <td>zhangshengjojo</td>\n",
       "      <td>转楼花 by Linli and JoJo</td>\n",
       "      <td>亏5%，可谈</td>\n",
       "      <td>合同价48.9万</td>\n",
       "      <td>现房转楼花</td>\n",
       "      <td>None</td>\n",
       "      <td>None</td>\n",
       "      <td>2房2卫，白马御景最低价格，房东急转，总面积69.1平 ??房东验房时找了专业估价师，妥妥满估最佳投资户型?? 视频和估价邮件在链接里。 https://www.dropbox.com/sh/39fnx92yls8n24f/AABFtBP0PmEqSmN39cmAOwD_a?dl=0</td>\n",
       "    </tr>\n",
       "    <tr>\n",
       "      <td>63</td>\n",
       "      <td>west side place gold release 【项目地址]2906D/ 250 spencer St, Melbourne VIC 3000</td>\n",
       "      <td>2022-03-01 11:13:47</td>\n",
       "      <td>公司 澳盛集团????yoyo??</td>\n",
       "      <td>q15630185</td>\n",
       "      <td>west side place gold release 【项目地址]2906D/ 250 spencer St, Melbourne VIC 3000</td>\n",
       "      <td>nomination</td>\n",
       "      <td>Yes</td>\n",
       "      <td>5%</td>\n",
       "      <td>合同价$532,400</td>\n",
       "      <td>8,9月交房</td>\n",
       "      <td>CBD楼王 - 商业综合体项目，1房?1书房，面积57平米朝北，原始合同签于2017年6月25日，省印花税。https://www.dropbox.com/sh/41ih0ixy4m7b17x/AACpMDQa5KGXAzXCWHMK-V7Ma?dl=0</td>\n",
       "    </tr>\n",
       "    <tr>\n",
       "      <td>64</td>\n",
       "      <td>west side place 塔A 【项目地址]2407A/250 spencer St, Melbourne VIC 3000</td>\n",
       "      <td>2022-03-01 11:16:59</td>\n",
       "      <td>公司 澳盛集团?? Lazio</td>\n",
       "      <td>lazio61707927</td>\n",
       "      <td>west side place 塔A 【项目地址]2407A/250 spencer St, Melbourne VIC 3000</td>\n",
       "      <td>nomination</td>\n",
       "      <td>Yes</td>\n",
       "      <td>7%</td>\n",
       "      <td>合同价$519200</td>\n",
       "      <td>1个月</td>\n",
       "      <td>CBD楼王 - 商业综合体项目，2407A属于朝北当年一抢而空的价格非常好的朝北户型。面积54.83平。1房1卫很好出租户型。 https://www.dropbox.com/sh/bo2ss4kpjh6on4u/AADWUygRNIeWIsey6sO-7OHNa?dl=0</td>\n",
       "    </tr>\n",
       "    <tr>\n",
       "      <td>65</td>\n",
       "      <td>west side place 塔A 【项目地址]2407A/250 spencer St, Melbourne VIC 3000</td>\n",
       "      <td>2022-03-01 11:21:52</td>\n",
       "      <td>公司 澳盛集团????yoyo??</td>\n",
       "      <td>q15630185</td>\n",
       "      <td>west side place 塔A 【项目地址]2407A/250 spencer St, Melbourne VIC 3000</td>\n",
       "      <td>nomination</td>\n",
       "      <td>Yes</td>\n",
       "      <td>7%</td>\n",
       "      <td>合同价$519200</td>\n",
       "      <td>1个月</td>\n",
       "      <td>CBD楼王 - 商业综合体项目，2407A属于朝北当年一抢而空的价格非常好的朝北户型。面积54.83平。1房1卫很好出租户型。 https://www.dropbox.com/sh/bo2ss4kpjh6on4u/AADWUygRNIeWIsey6sO-7OHNa?dl=0&lt;/content&gt; &lt;msgsource&gt;&amp;lt;msgsource&amp;gt;&amp;lt;sequence_id&amp;gt;762071651&amp;lt;/sequence_id&amp;gt; &amp;lt;bizflag&amp;gt;0&amp;lt;/bizflag&amp;gt; &amp;lt;silence&amp;gt;1&amp;lt;/silence&amp;gt; &amp;lt;membercount&amp;gt;155&amp;lt;/membercount&amp;gt; &amp;lt;signature&amp;gt;v1_e6DabgBv&amp;lt;/signature&amp;gt; &amp;lt;/msgsource&amp;gt; &lt;/msgsource&gt; &lt;/refermsg&gt; &lt;/appmsg&gt; &lt;fromusername&gt;q15630185&lt;/fromusername&gt; &lt;scene&gt;0&lt;/scene&gt; &lt;appinfo&gt; &lt;version&gt;1&lt;/version&gt; &lt;appname&gt;&lt;/appname&gt; &lt;/appinfo&gt; &lt;commenturl&gt;&lt;/commenturl&gt; &lt;/msg&gt;</td>\n",
       "    </tr>\n",
       "    <tr>\n",
       "      <td>81</td>\n",
       "      <td>223-227 Gower Street, Preston 卖点</td>\n",
       "      <td>2022-03-01 22:00:03</td>\n",
       "      <td>公司 澳盛集团??Carol瑶瑶</td>\n",
       "      <td>Carolyaoyao</td>\n",
       "      <td>对接listing by Carol</td>\n",
       "      <td>yes</td>\n",
       "      <td>4.4%incl GST</td>\n",
       "      <td>Unit 1: $880,000 Unit 2: $895,000 Unit 5: $850,000 Unit 6: $850,000 Unit 9: $795,000 Unit 10: $795,000 Unit 11: SOLD Unit 13: $825,000 Unit 14: $825,000 Unit 15: SOLD</td>\n",
       "      <td>准现房</td>\n",
       "      <td>None</td>\n",
       "      <td>Preston最中心最便利的位置，走两步就到Preston Market和火车站，超性价比别墅。 https://www.dropbox.com/sh/w0c7etk89m96ug8/AABSv-8u1i2k7vLAMJ9jQ_hca?dl=0</td>\n",
       "    </tr>\n",
       "  </tbody>\n",
       "</table>\n",
       "</div>"
      ],
      "text/plain": [
       "                                                                                          地址  \\\n",
       "20  11/11 Mary St Blackburn VIC 3130 多用途仓库。房东要价$150万，含佣金1万+超出部分5/5. (佣金和价格都可谈） 建议报价145-155万    \n",
       "39                                           35-37 Whitehorse Road, Blackburn （Boxhill 双校区）    \n",
       "40                                           35-37 Whitehorse Road, Blackburn （Boxhill 双校区）    \n",
       "41                              12 & 14 Highland cres, Mooroolbark VIC 3138 (火车站边上的大地house)    \n",
       "49                                                   912/826 Whitehorse Road, Box Hill 白马御景    \n",
       "63             west side place gold release 【项目地址]2906D/ 250 spencer St, Melbourne VIC 3000    \n",
       "64                        west side place 塔A 【项目地址]2407A/250 spencer St, Melbourne VIC 3000    \n",
       "65                        west side place 塔A 【项目地址]2407A/250 spencer St, Melbourne VIC 3000    \n",
       "81                                                         223-227 Gower Street, Preston 卖点    \n",
       "\n",
       "                     时间                 联系人                  微信号  \\\n",
       "20  2022-02-23 14:20:20           ??aFran家业  wxid_v0nwllbc91tu11   \n",
       "39  2022-02-25 13:11:13  Lynnie琳妮??澳盛房产生意租赁       yaojingzhitong   \n",
       "40  2022-02-25 13:17:27     公司 澳盛集团??Olivia  wxid_yfkvs2hfkys112   \n",
       "41  2022-02-25 13:36:57  Lynnie琳妮??澳盛房产生意租赁       yaojingzhitong   \n",
       "49  2022-02-25 20:46:04       公司 澳盛集团??JoJo       zhangshengjojo   \n",
       "63  2022-03-01 11:13:47   公司 澳盛集团????yoyo??            q15630185   \n",
       "64  2022-03-01 11:16:59     公司 澳盛集团?? Lazio        lazio61707927   \n",
       "65  2022-03-01 11:21:52   公司 澳盛集团????yoyo??            q15630185   \n",
       "81  2022-03-01 22:00:03    公司 澳盛集团??Carol瑶瑶          Carolyaoyao   \n",
       "\n",
       "                                                                              信息1  \\\n",
       "20                                                              多用途现房仓库/30-90天交割    \n",
       "39                                               General listing by Eva & Lynnie    \n",
       "40                                           General listing by Eva &amp; Lynnie    \n",
       "41                                                   Exclusive listing by Lynnie    \n",
       "49                                                         转楼花 by Linli and JoJo    \n",
       "63  west side place gold release 【项目地址]2906D/ 250 spencer St, Melbourne VIC 3000    \n",
       "64             west side place 塔A 【项目地址]2407A/250 spencer St, Melbourne VIC 3000    \n",
       "65             west side place 塔A 【项目地址]2407A/250 spencer St, Melbourne VIC 3000    \n",
       "81                                                            对接listing by Carol    \n",
       "\n",
       "                        信息2  \\\n",
       "20                     None   \n",
       "39   3.3% incl GST (50/50)    \n",
       "40   3.3% incl GST (50/50)    \n",
       "41          1.2% . inc gst    \n",
       "49                  亏5%，可谈    \n",
       "63              nomination    \n",
       "64              nomination    \n",
       "65              nomination    \n",
       "81                     yes    \n",
       "\n",
       "                                                                                                                                                                                                                                                                                                                  信息3  \\\n",
       "20                                                                                                                                                                                                                                                                                                               None   \n",
       "39   Unit 1: $1,222,500 4房3卫双车，套房在一楼，带前花园， 朝东北 Unit 8: $1,222,500 4房3卫双车，套房在一楼，带前花园， 朝西南 Unit 7: $1,075,800 3房3卫双车，套房在三楼，朝东北 Unit 14: $1,075,800 3房3卫双车，双套房，带小后园 朝西南 Unit 2-5: $1,075,800 3房3卫双车，三套房，朝西北（可改为4房） Unit 9-12: $1,075,800 3房3卫双车，三套房，朝东南（可改为4房） Unit 6: $831,300 2房2卫单车，朝东北 Unit 13: $831,300 2房2卫单车，朝西南    \n",
       "40   Unit 1: $1,222,500 4房3卫双车，套房在一楼，带前花园， 朝东北 Unit 8: $1,222,500 4房3卫双车，套房在一楼，带前花园， 朝西南 Unit 7: $1,075,800 3房3卫双车，套房在三楼，朝东北 Unit 14: $1,075,800 3房3卫双车，双套房，带小后园 朝西南 Unit 2-5: $1,075,800 3房3卫双车，三套房，朝西北（可改为4房） Unit 9-12: $1,075,800 3房3卫双车，三套房，朝东南（可改为4房） Unit 6: $831,300 2房2卫单车，朝东北 Unit 13: $831,300 2房2卫单车，朝西南    \n",
       "41                                                                                                                                                                                                                                                                                                 210万（接近售价offer可谈）    \n",
       "49                                                                                                                                                                                                                                                                                                          合同价48.9万    \n",
       "63                                                                                                                                                                                                                                                                                                               Yes    \n",
       "64                                                                                                                                                                                                                                                                                                               Yes    \n",
       "65                                                                                                                                                                                                                                                                                                               Yes    \n",
       "81                                                                                                                                                                                                                                                                                                     4.4%incl GST     \n",
       "\n",
       "                                                                                                                                                                                  信息4  \\\n",
       "20                                                                                                                                                                               None   \n",
       "39                                                                                                                                  联排别墅，Off the plan townhouse，2023年中开工，18-20个月左右完工    \n",
       "40                                                                                                                                  联排别墅，Off the plan townhouse，2023年中开工，18-20个月左右完工    \n",
       "41                                                                                                                                                                       现房，大地二手独立别墅    \n",
       "49                                                                                                                                                                             现房转楼花    \n",
       "63                                                                                                                                                                                5%    \n",
       "64                                                                                                                                                                                7%    \n",
       "65                                                                                                                                                                                7%    \n",
       "81            Unit 1: $880,000 Unit 2: $895,000 Unit 5: $850,000 Unit 6: $850,000 Unit 9: $795,000 Unit 10: $795,000 Unit 11: SOLD Unit 13: $825,000 Unit 14: $825,000 Unit 15: SOLD    \n",
       "\n",
       "                                                  信息5      信息6  \\\n",
       "20                                               None     None   \n",
       "39                                               None     None   \n",
       "40                                               None     None   \n",
       "41  两套均在出租状态12#租金每月为$1,955（周$488），14#租金$1,651（周$413）      None   \n",
       "49                                               None     None   \n",
       "63                                       合同价$532,400   8,9月交房    \n",
       "64                                        合同价$519200      1个月    \n",
       "65                                        合同价$519200      1个月    \n",
       "81                                               准现房      None   \n",
       "\n",
       "                                                                                                                                                                                                                                                                                                                                                                                                                                                                                                                                                                                                                       房源描述  \n",
       "20                                                                                                                                                                                                                                                                                                                                      仓库总面积627平包括120平米的楼上办公及操作间。 仓库目前有租客，做广告印刷生意，月租金$5000, 年$60,000. Outgoings: 市政费： $2397.4, 水$1239.22, 物业费：$4155, 总共$7791, 这些都由租客支付。 仓库在blackburn 中心地带，靠近火车站。这一片工厂区因其地理位置，有被收购开发的潜力，因目前有租客，请各位同事私下找我预约看房，谢谢配合。https://www.dropbox.com/sh/xo6w2kbn95qku1d/AADEvazh06sZyK1Me142v7Lya?dl=0  \n",
       "39                                                                                                                                                                                                                                                                   总占地面积1075平米，总共14套的三层Townhouse。经典精巧的外墙设计，两房三房和四房精品联排别墅系列坐落在Blackburn中心. 高档配置，浴室到顶瓷砖，欧式厨房电器，遥控是安全车门，中央冷暖空调，400 mm镶边石厨房台面。 周边配置完善，靠近Box hill shopping central 5分钟车程和Blackburn North购物中心, Box hill医院周边。围绕着餐厅，咖啡厅，杂货铺以及公园等室内外休闲场所。 【学区描述】Laburnum小学（98分） 3分钟车程和Box Hill中学校区 8分钟走路 https://www.dropbox.com/sh/vdnr0ig9czzthu6/AACyoPJ5izDILO1xnXY_bS4qa?dl=0  \n",
       "40  总占地面积1075平米，总共14套的三层Townhouse。经典精巧的外墙设计，两房三房和四房精品联排别墅系列坐落在Blackburn中心. 高档配置，浴室到顶瓷砖，欧式厨房电器，遥控是安全车门，中央冷暖空调，400 mm镶边石厨房台面。 周边配置完善，靠近Box hill shopping central 5分钟车程和Blackburn North购物中心, Box hill医院周边。围绕着餐厅，咖啡厅，杂货铺以及公园等室内外休闲场所。 【学区描述】Laburnum小学（98分） 3分钟车程和Box Hill中学校区 8分钟走路 https://www.dropbox.com/sh/vdnr0ig9czzthu6/AACyoPJ5izDILO1xnXY_bS4qa?dl=0</content> </refermsg> <extinfo /> <sourceusername /> <sourcedisplayname /> <commenturl /> <appattach> <totallen>0</totallen> <attachid /> <emoticonmd5 /> <fileext /> <aeskey /> </appattach> <weappinfo> <pagepath /> <username /> <appid /> <appservicetype...  \n",
       "41                                                                                                                   两套房子打包卖总面积是1,975 Sqm; 12 Highland cres 占地1113 m2 , 4房2卫2车，1980 建成； 14 Highland cres 占地862 m2，2房1卫2车. 房东做了10套的Townhouse设计（供参考）但没有Subject to Council Approval. 在Mooroolbark 商业中心，步行即可到达 Yarra hills 中学、购物中心、Mooroolbark Main Street 和仅 850 米外的火车站！可欣赏 Kiloran Reserve 的壮丽景色，后院可通往椭圆形足球场、Mooroolbark Bowls Club、游泳池和网球场。 目前的房屋提供宽敞的休息室和带用餐区的厨房，厨具燃气暖气和空调设置等完整。12号窗户都安装了安全性卷帘。室内水疗和阳光房，巨大的菜园带鸡舍， 双车库和大量的街边车道停车位，三间卧室以及独立的浴缸和淋浴间。 https://www.dropbox.com/sh/ynb8jrmvo4e2fw9/AABLil9Pm4iG0htlmCZwwSeJa?dl=0  \n",
       "49                                                                                                                                                                                                                                                                                                                                                                                                                                                                           2房2卫，白马御景最低价格，房东急转，总面积69.1平 ??房东验房时找了专业估价师，妥妥满估最佳投资户型?? 视频和估价邮件在链接里。 https://www.dropbox.com/sh/39fnx92yls8n24f/AABFtBP0PmEqSmN39cmAOwD_a?dl=0  \n",
       "63                                                                                                                                                                                                                                                                                                                                                                                                                                                                                          CBD楼王 - 商业综合体项目，1房?1书房，面积57平米朝北，原始合同签于2017年6月25日，省印花税。https://www.dropbox.com/sh/41ih0ixy4m7b17x/AACpMDQa5KGXAzXCWHMK-V7Ma?dl=0  \n",
       "64                                                                                                                                                                                                                                                                                                                                                                                                                                                                                CBD楼王 - 商业综合体项目，2407A属于朝北当年一抢而空的价格非常好的朝北户型。面积54.83平。1房1卫很好出租户型。 https://www.dropbox.com/sh/bo2ss4kpjh6on4u/AADWUygRNIeWIsey6sO-7OHNa?dl=0  \n",
       "65                CBD楼王 - 商业综合体项目，2407A属于朝北当年一抢而空的价格非常好的朝北户型。面积54.83平。1房1卫很好出租户型。 https://www.dropbox.com/sh/bo2ss4kpjh6on4u/AADWUygRNIeWIsey6sO-7OHNa?dl=0</content> <msgsource>&lt;msgsource&gt;&lt;sequence_id&gt;762071651&lt;/sequence_id&gt; &lt;bizflag&gt;0&lt;/bizflag&gt; &lt;silence&gt;1&lt;/silence&gt; &lt;membercount&gt;155&lt;/membercount&gt; &lt;signature&gt;v1_e6DabgBv&lt;/signature&gt; &lt;/msgsource&gt; </msgsource> </refermsg> </appmsg> <fromusername>q15630185</fromusername> <scene>0</scene> <appinfo> <version>1</version> <appname></appname> </appinfo> <commenturl></commenturl> </msg>  \n",
       "81                                                                                                                                                                                                                                                                                                                                                                                                                                                                                               Preston最中心最便利的位置，走两步就到Preston Market和火车站，超性价比别墅。 https://www.dropbox.com/sh/w0c7etk89m96ug8/AABSv-8u1i2k7vLAMJ9jQ_hca?dl=0  "
      ]
     },
     "execution_count": 74,
     "metadata": {},
     "output_type": "execute_result"
    }
   ],
   "source": [
    "df_final4[df_final4[\"地址\"].str.contains(u\"[\\u4e00-\\u9fff]+\")]"
   ]
  },
  {
   "cell_type": "markdown",
   "metadata": {},
   "source": [
    "# Clean 地址中 怪异符号，Drop 错误信息："
   ]
  },
  {
   "cell_type": "code",
   "execution_count": 75,
   "metadata": {},
   "outputs": [
    {
     "data": {
      "text/plain": [
       "'\\\\(\\\\D+\\\\）|\\\\（\\\\D+\\\\)|\\\\(\\\\D+\\\\)|\\\\（\\\\D+\\\\）|\\\\*|\\\\。|\\\\||\\\\【|\\\\】|\\\\[|\\\\]|\\\\<\\\\S+>|\\\\*\\\\D+\\\\*|[\\\\u4e00-\\\\u9fff]'"
      ]
     },
     "execution_count": 75,
     "metadata": {},
     "output_type": "execute_result"
    }
   ],
   "source": [
    "replace_char = r'\\(\\D+\\）|\\（\\D+\\)|\\(\\D+\\)|\\（\\D+\\）|\\*|\\。|\\||\\【|\\】|\\[|\\]|\\<\\S+>|\\*\\D+\\*|[\\u4e00-\\u9fff]'\n",
    "replace_char"
   ]
  },
  {
   "cell_type": "code",
   "execution_count": 76,
   "metadata": {},
   "outputs": [],
   "source": [
    "df_final4[\"地址\"]=df_final4[\"地址\"].str.replace(replace_char,\"\")"
   ]
  },
  {
   "cell_type": "markdown",
   "metadata": {},
   "source": [
    "# Check Again:"
   ]
  },
  {
   "cell_type": "code",
   "execution_count": 77,
   "metadata": {},
   "outputs": [
    {
     "data": {
      "text/plain": [
       "0"
      ]
     },
     "execution_count": 77,
     "metadata": {},
     "output_type": "execute_result"
    }
   ],
   "source": [
    "df_final4[\"地址\"].str.contains(\"\\。+\").sum()\n"
   ]
  },
  {
   "cell_type": "code",
   "execution_count": 78,
   "metadata": {},
   "outputs": [
    {
     "data": {
      "text/html": [
       "<div>\n",
       "<style scoped>\n",
       "    .dataframe tbody tr th:only-of-type {\n",
       "        vertical-align: middle;\n",
       "    }\n",
       "\n",
       "    .dataframe tbody tr th {\n",
       "        vertical-align: top;\n",
       "    }\n",
       "\n",
       "    .dataframe thead th {\n",
       "        text-align: right;\n",
       "    }\n",
       "</style>\n",
       "<table border=\"1\" class=\"dataframe\">\n",
       "  <thead>\n",
       "    <tr style=\"text-align: right;\">\n",
       "      <th></th>\n",
       "      <th>地址</th>\n",
       "      <th>时间</th>\n",
       "      <th>联系人</th>\n",
       "      <th>微信号</th>\n",
       "      <th>信息1</th>\n",
       "      <th>信息2</th>\n",
       "      <th>信息3</th>\n",
       "      <th>信息4</th>\n",
       "      <th>信息5</th>\n",
       "      <th>信息6</th>\n",
       "      <th>房源描述</th>\n",
       "    </tr>\n",
       "  </thead>\n",
       "  <tbody>\n",
       "  </tbody>\n",
       "</table>\n",
       "</div>"
      ],
      "text/plain": [
       "Empty DataFrame\n",
       "Columns: [地址, 时间, 联系人, 微信号, 信息1, 信息2, 信息3, 信息4, 信息5, 信息6, 房源描述]\n",
       "Index: []"
      ]
     },
     "execution_count": 78,
     "metadata": {},
     "output_type": "execute_result"
    }
   ],
   "source": [
    "df_final4[df_final4[\"地址\"].str.contains(\"\\。+\")]"
   ]
  },
  {
   "cell_type": "code",
   "execution_count": 79,
   "metadata": {},
   "outputs": [
    {
     "data": {
      "text/plain": [
       "0"
      ]
     },
     "execution_count": 79,
     "metadata": {},
     "output_type": "execute_result"
    }
   ],
   "source": [
    "df_final4[\"地址\"].str.contains(\"\\|+\").sum()"
   ]
  },
  {
   "cell_type": "code",
   "execution_count": 80,
   "metadata": {},
   "outputs": [
    {
     "data": {
      "text/plain": [
       "0"
      ]
     },
     "execution_count": 80,
     "metadata": {},
     "output_type": "execute_result"
    }
   ],
   "source": [
    "df_final4[\"地址\"].str.contains(\"\\*+\").sum()"
   ]
  },
  {
   "cell_type": "code",
   "execution_count": 81,
   "metadata": {},
   "outputs": [
    {
     "data": {
      "text/plain": [
       "0"
      ]
     },
     "execution_count": 81,
     "metadata": {},
     "output_type": "execute_result"
    }
   ],
   "source": [
    "df_final4[\"地址\"].str.contains(\"\\【+\").sum()"
   ]
  },
  {
   "cell_type": "code",
   "execution_count": 82,
   "metadata": {},
   "outputs": [
    {
     "data": {
      "text/plain": [
       "0"
      ]
     },
     "execution_count": 82,
     "metadata": {},
     "output_type": "execute_result"
    }
   ],
   "source": [
    "df_final4[\"地址\"].str.contains(\"\\]+\").sum()"
   ]
  },
  {
   "cell_type": "code",
   "execution_count": 83,
   "metadata": {},
   "outputs": [
    {
     "data": {
      "text/plain": [
       "0"
      ]
     },
     "execution_count": 83,
     "metadata": {},
     "output_type": "execute_result"
    }
   ],
   "source": [
    "df_final4[\"地址\"].str.contains(r\"\\<\\S+>\").sum()"
   ]
  },
  {
   "cell_type": "code",
   "execution_count": 84,
   "metadata": {},
   "outputs": [
    {
     "data": {
      "text/plain": [
       "0"
      ]
     },
     "execution_count": 84,
     "metadata": {},
     "output_type": "execute_result"
    }
   ],
   "source": [
    "df_final4[\"地址\"].str.contains(r\"\\（\\D+\\）\").sum()"
   ]
  },
  {
   "cell_type": "code",
   "execution_count": 85,
   "metadata": {},
   "outputs": [
    {
     "data": {
      "text/plain": [
       "0"
      ]
     },
     "execution_count": 85,
     "metadata": {},
     "output_type": "execute_result"
    }
   ],
   "source": [
    "df_final4[\"地址\"].str.contains(r\"\\(\\D+\\)\").sum()"
   ]
  },
  {
   "cell_type": "code",
   "execution_count": 86,
   "metadata": {},
   "outputs": [
    {
     "data": {
      "text/html": [
       "<div>\n",
       "<style scoped>\n",
       "    .dataframe tbody tr th:only-of-type {\n",
       "        vertical-align: middle;\n",
       "    }\n",
       "\n",
       "    .dataframe tbody tr th {\n",
       "        vertical-align: top;\n",
       "    }\n",
       "\n",
       "    .dataframe thead th {\n",
       "        text-align: right;\n",
       "    }\n",
       "</style>\n",
       "<table border=\"1\" class=\"dataframe\">\n",
       "  <thead>\n",
       "    <tr style=\"text-align: right;\">\n",
       "      <th></th>\n",
       "      <th>地址</th>\n",
       "      <th>时间</th>\n",
       "      <th>联系人</th>\n",
       "      <th>微信号</th>\n",
       "      <th>信息1</th>\n",
       "      <th>信息2</th>\n",
       "      <th>信息3</th>\n",
       "      <th>信息4</th>\n",
       "      <th>信息5</th>\n",
       "      <th>信息6</th>\n",
       "      <th>房源描述</th>\n",
       "    </tr>\n",
       "  </thead>\n",
       "  <tbody>\n",
       "  </tbody>\n",
       "</table>\n",
       "</div>"
      ],
      "text/plain": [
       "Empty DataFrame\n",
       "Columns: [地址, 时间, 联系人, 微信号, 信息1, 信息2, 信息3, 信息4, 信息5, 信息6, 房源描述]\n",
       "Index: []"
      ]
     },
     "execution_count": 86,
     "metadata": {},
     "output_type": "execute_result"
    }
   ],
   "source": [
    "df_final4[df_final4[\"地址\"].str.contains(r\"\\(\\D+\\)\")]"
   ]
  },
  {
   "cell_type": "code",
   "execution_count": 87,
   "metadata": {},
   "outputs": [
    {
     "data": {
      "text/plain": [
       "0"
      ]
     },
     "execution_count": 87,
     "metadata": {},
     "output_type": "execute_result"
    }
   ],
   "source": [
    "df_final4[\"地址\"].str.contains(r\"\\*\\D+\\*\").sum()"
   ]
  },
  {
   "cell_type": "code",
   "execution_count": 88,
   "metadata": {},
   "outputs": [
    {
     "data": {
      "text/plain": [
       "0"
      ]
     },
     "execution_count": 88,
     "metadata": {},
     "output_type": "execute_result"
    }
   ],
   "source": [
    "df_final4[\"地址\"].str.contains(u\"[\\u4e00-\\u9fff]+\").sum()"
   ]
  },
  {
   "cell_type": "code",
   "execution_count": 89,
   "metadata": {},
   "outputs": [
    {
     "data": {
      "text/html": [
       "<div>\n",
       "<style scoped>\n",
       "    .dataframe tbody tr th:only-of-type {\n",
       "        vertical-align: middle;\n",
       "    }\n",
       "\n",
       "    .dataframe tbody tr th {\n",
       "        vertical-align: top;\n",
       "    }\n",
       "\n",
       "    .dataframe thead th {\n",
       "        text-align: right;\n",
       "    }\n",
       "</style>\n",
       "<table border=\"1\" class=\"dataframe\">\n",
       "  <thead>\n",
       "    <tr style=\"text-align: right;\">\n",
       "      <th></th>\n",
       "      <th>地址</th>\n",
       "      <th>时间</th>\n",
       "      <th>联系人</th>\n",
       "      <th>微信号</th>\n",
       "      <th>信息1</th>\n",
       "      <th>信息2</th>\n",
       "      <th>信息3</th>\n",
       "      <th>信息4</th>\n",
       "      <th>信息5</th>\n",
       "      <th>信息6</th>\n",
       "      <th>房源描述</th>\n",
       "    </tr>\n",
       "  </thead>\n",
       "  <tbody>\n",
       "  </tbody>\n",
       "</table>\n",
       "</div>"
      ],
      "text/plain": [
       "Empty DataFrame\n",
       "Columns: [地址, 时间, 联系人, 微信号, 信息1, 信息2, 信息3, 信息4, 信息5, 信息6, 房源描述]\n",
       "Index: []"
      ]
     },
     "execution_count": 89,
     "metadata": {},
     "output_type": "execute_result"
    }
   ],
   "source": [
    "df_final4[df_final4[\"地址\"].str.contains(u\"[\\u4e00-\\u9fff]+\")]"
   ]
  },
  {
   "cell_type": "markdown",
   "metadata": {},
   "source": [
    "# 根据 Map 要求， unit1/2xxx 需要空格 unit1/ 2xxxx"
   ]
  },
  {
   "cell_type": "markdown",
   "metadata": {},
   "source": [
    "总共："
   ]
  },
  {
   "cell_type": "code",
   "execution_count": 90,
   "metadata": {},
   "outputs": [
    {
     "data": {
      "text/plain": [
       "57"
      ]
     },
     "execution_count": 90,
     "metadata": {},
     "output_type": "execute_result"
    }
   ],
   "source": [
    "\n",
    "df_final4[\"地址\"].str.contains(\"/\").sum()"
   ]
  },
  {
   "cell_type": "markdown",
   "metadata": {},
   "source": [
    "有空格的："
   ]
  },
  {
   "cell_type": "code",
   "execution_count": 91,
   "metadata": {},
   "outputs": [
    {
     "data": {
      "text/plain": [
       "5"
      ]
     },
     "execution_count": 91,
     "metadata": {},
     "output_type": "execute_result"
    }
   ],
   "source": [
    "df_final4[\"地址\"].str.contains(\"/ \").sum()"
   ]
  },
  {
   "cell_type": "code",
   "execution_count": 92,
   "metadata": {},
   "outputs": [
    {
     "data": {
      "text/plain": [
       "3"
      ]
     },
     "execution_count": 92,
     "metadata": {},
     "output_type": "execute_result"
    }
   ],
   "source": [
    "df_final4[\"地址\"].str.contains(\" /\").sum()"
   ]
  },
  {
   "cell_type": "markdown",
   "metadata": {},
   "source": [
    "其中这个被算了 2次："
   ]
  },
  {
   "cell_type": "code",
   "execution_count": 93,
   "metadata": {},
   "outputs": [
    {
     "data": {
      "text/plain": [
       "1"
      ]
     },
     "execution_count": 93,
     "metadata": {},
     "output_type": "execute_result"
    }
   ],
   "source": [
    "df_final4[\"地址\"].str.contains(\" / \").sum()"
   ]
  },
  {
   "cell_type": "markdown",
   "metadata": {},
   "source": [
    "完全没有空格的： 没有空格"
   ]
  },
  {
   "cell_type": "code",
   "execution_count": 94,
   "metadata": {},
   "outputs": [
    {
     "data": {
      "text/plain": [
       "50"
      ]
     },
     "execution_count": 94,
     "metadata": {},
     "output_type": "execute_result"
    }
   ],
   "source": [
    "df_final4[\"地址\"].str.contains(r\"\\S+/\\S+\").sum()"
   ]
  },
  {
   "cell_type": "markdown",
   "metadata": {},
   "source": [
    "Replace:"
   ]
  },
  {
   "cell_type": "code",
   "execution_count": 95,
   "metadata": {},
   "outputs": [],
   "source": [
    "df_final4[\"地址\"]=df_final4[\"地址\"].str.replace(\"/\",\"  /  \")"
   ]
  },
  {
   "cell_type": "code",
   "execution_count": 96,
   "metadata": {},
   "outputs": [
    {
     "data": {
      "text/plain": [
       "0"
      ]
     },
     "execution_count": 96,
     "metadata": {},
     "output_type": "execute_result"
    }
   ],
   "source": [
    "df_final4[\"地址\"].str.contains(r\"\\S+/\\S+\").sum()"
   ]
  },
  {
   "cell_type": "markdown",
   "metadata": {},
   "source": [
    "# Inspection:"
   ]
  },
  {
   "cell_type": "code",
   "execution_count": 97,
   "metadata": {},
   "outputs": [
    {
     "name": "stdout",
     "output_type": "stream",
     "text": [
      "<class 'pandas.core.frame.DataFrame'>\n",
      "RangeIndex: 134 entries, 0 to 133\n",
      "Data columns (total 11 columns):\n",
      "地址      134 non-null object\n",
      "时间      134 non-null object\n",
      "联系人     134 non-null object\n",
      "微信号     134 non-null object\n",
      "信息1     134 non-null object\n",
      "信息2     133 non-null object\n",
      "信息3     133 non-null object\n",
      "信息4     132 non-null object\n",
      "信息5     64 non-null object\n",
      "信息6     3 non-null object\n",
      "房源描述    134 non-null object\n",
      "dtypes: object(11)\n",
      "memory usage: 11.6+ KB\n"
     ]
    }
   ],
   "source": [
    "# df_final4.sample(10)\n",
    "df_final4.info()"
   ]
  },
  {
   "cell_type": "markdown",
   "metadata": {},
   "source": [
    "# To Excel:"
   ]
  },
  {
   "cell_type": "code",
   "execution_count": 98,
   "metadata": {},
   "outputs": [
    {
     "name": "stdout",
     "output_type": "stream",
     "text": [
      "DataFrame is written successfully to Excel File.\n"
     ]
    }
   ],
   "source": [
    "# create excel writer object\n",
    "writer=pd.ExcelWriter('Vicent_VerB_Output.xlsx')\n",
    "# write dataframe to excel\n",
    "df_final4.to_excel(writer, index=False)\n",
    "# save the excel\n",
    "writer.save()\n",
    "print('DataFrame is written successfully to Excel File.')"
   ]
  },
  {
   "cell_type": "markdown",
   "metadata": {},
   "source": [
    "# Summary:"
   ]
  },
  {
   "cell_type": "markdown",
   "metadata": {},
   "source": [
    "注意：\n",
    "\n",
    "1. 地址挤在一个 cell 肯定不行\n",
    "\n",
    "2. 庄园，商铺，如果格式不对，也不行\n",
    "\n",
    "3. 如果大型项目可以被 google 出来，可以不需要输入地址,比如 Deanside Attwell\n",
    "\n",
    "\n",
    "1. Map 需要打开，然后人工点击每个 cell，就能读出地址\n",
    "\n",
    "问题：\n",
    "1. Map -- 多个点 在一个位置 \n",
    "\n",
    "解决：\n",
    "\n",
    "1. java 编辑 cluster\n",
    "\n",
    "2. 直接查看边栏，(相似的地址已经集中)"
   ]
  }
 ],
 "metadata": {
  "interpreter": {
   "hash": "197f7c05eca0eda9aa6a4e612037c516df5659297f389f7c2f572b328809f0da"
  },
  "kernelspec": {
   "display_name": "Python 3.6.8 ('quantenv')",
   "language": "python",
   "name": "python3"
  },
  "language_info": {
   "codemirror_mode": {
    "name": "ipython",
    "version": 3
   },
   "file_extension": ".py",
   "mimetype": "text/x-python",
   "name": "python",
   "nbconvert_exporter": "python",
   "pygments_lexer": "ipython3",
   "version": "3.6.8"
  },
  "orig_nbformat": 4
 },
 "nbformat": 4,
 "nbformat_minor": 2
}
